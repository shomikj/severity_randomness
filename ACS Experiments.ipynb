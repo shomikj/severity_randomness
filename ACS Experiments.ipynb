{
 "cells": [
  {
   "cell_type": "code",
   "execution_count": 1,
   "id": "3be97283",
   "metadata": {},
   "outputs": [],
   "source": [
    "import pandas as pd\n",
    "from tqdm import tqdm\n",
    "from experiments import Experiment\n",
    "from folktables import ACSDataSource, ACSEmployment, ACSIncomePovertyRatio, ACSHealthInsurance"
   ]
  },
  {
   "cell_type": "code",
   "execution_count": 2,
   "id": "cc22e1b9",
   "metadata": {},
   "outputs": [],
   "source": [
    "root_dir = 'data'\n",
    "data_source = ACSDataSource(survey_year='2018', horizon='1-Year', survey='person', root_dir = root_dir)\n",
    "acs_data = data_source.get_data(download=False)"
   ]
  },
  {
   "cell_type": "code",
   "execution_count": 3,
   "id": "6a79e979",
   "metadata": {},
   "outputs": [],
   "source": [
    "protected_attribute = \"race\"\n",
    "task_types =  [\"employment\", \"income_poverty\", \"health_insurance\"]\n",
    "#model_types = [\"logistic\", \"gbm\", \"nn\", \"svm\", \"tree\"]\n",
    "model_types = [\"logistic\"]\n",
    "n_train = 2588885\n",
    "n_test = 647222"
   ]
  },
  {
   "cell_type": "code",
   "execution_count": 4,
   "id": "ba7f124a",
   "metadata": {},
   "outputs": [],
   "source": [
    "employment = ACSEmployment.df_to_numpy(acs_data)\n",
    "income_poverty = ACSIncomePovertyRatio.df_to_numpy(acs_data)\n",
    "health_insurance = ACSHealthInsurance.df_to_numpy(acs_data)"
   ]
  },
  {
   "cell_type": "code",
   "execution_count": 5,
   "id": "1081f4ff",
   "metadata": {},
   "outputs": [],
   "source": [
    "df_employment = pd.DataFrame(employment[0])\n",
    "df_employment[\"employment\"] = employment[1]\n",
    "df_employment[\"employment\"] = df_employment[\"employment\"].astype(int)\n",
    "df_employment[\"race\"] = employment[2]\n",
    "df_employment[\"race\"] = (df_employment[\"race\"]==1).astype(int)\n",
    "\n",
    "df_income_poverty = pd.DataFrame(income_poverty[0])\n",
    "df_income_poverty[\"income_poverty\"] = income_poverty[1]\n",
    "df_income_poverty[\"income_poverty\"] = df_income_poverty[\"income_poverty\"].astype(int)\n",
    "df_income_poverty[\"race\"] = income_poverty[2]\n",
    "df_income_poverty[\"race\"] = (df_income_poverty[\"race\"]==1).astype(int)\n",
    "\n",
    "df_health_insurance = pd.DataFrame(health_insurance[0])\n",
    "df_health_insurance[\"health_insurance\"] = health_insurance[1]\n",
    "df_health_insurance[\"health_insurance\"] = df_health_insurance[\"health_insurance\"].astype(int)\n",
    "df_health_insurance[\"race\"] = health_insurance[2]\n",
    "df_health_insurance[\"race\"] = (df_health_insurance[\"race\"]==1).astype(int)"
   ]
  },
  {
   "cell_type": "code",
   "execution_count": 6,
   "id": "33d7114a",
   "metadata": {},
   "outputs": [],
   "source": [
    "df = {\"employment\": df_employment, \"income_poverty\": df_income_poverty, \"health_insurance\": df_health_insurance}"
   ]
  },
  {
   "cell_type": "markdown",
   "id": "5de05ea6",
   "metadata": {},
   "source": [
    "# Randomness Based on Distance to Threshold"
   ]
  },
  {
   "cell_type": "code",
   "execution_count": 7,
   "id": "baad157e",
   "metadata": {
    "scrolled": true
   },
   "outputs": [
    {
     "name": "stderr",
     "output_type": "stream",
     "text": [
      "  0%|                                                     | 0/1 [00:00<?, ?it/s]\n",
      "  0%|                                                     | 0/1 [00:00<?, ?it/s]\u001b[A"
     ]
    },
    {
     "name": "stdout",
     "output_type": "stream",
     "text": [
      "employment logistic\n",
      "income_poverty logistic\n",
      "health_insurance logistic\n",
      "Running Baseline Experiment\n",
      "Running Tasks Experiment\n",
      "Running Models Experiment\n",
      "Running Data Partitions Experiment\n",
      "employment logistic\n",
      "income_poverty logistic\n",
      "health_insurance logistic\n"
     ]
    },
    {
     "name": "stderr",
     "output_type": "stream",
     "text": [
      "\n",
      "100%|█████████████████████████████████████████████| 1/1 [00:45<00:00, 45.65s/it]\u001b[A\n",
      "100%|█████████████████████████████████████████████| 1/1 [00:45<00:00, 45.65s/it]\n"
     ]
    }
   ],
   "source": [
    "random_thresholds = [0, 0.1, 0.2, 0.3, 0.4, 0.5]\n",
    "data_scales = [2500, 1000, 750, 500, 250, 100, 75, 50, 25, 10]\n",
    "random_seeds = list(range(5))\n",
    "\n",
    "random_thresholds = [0]\n",
    "data_scales = [25000]\n",
    "random_seeds = list(range(1))\n",
    "\n",
    "results = []\n",
    "\n",
    "for data_scale in tqdm(data_scales):\n",
    "    for random_seed in tqdm(random_seeds):\n",
    "        exp = Experiment(df, protected_attribute, task_types,\n",
    "                             model_types, random_thresholds, n_train, n_test, random_seed, data_scale)\n",
    "\n",
    "        exp.pretrain_models()\n",
    "        results.append(exp.experiment_baseline())\n",
    "        results.append(exp.experiment_tasks())\n",
    "        results.append(exp.experiment_models())\n",
    "        \n",
    "        results.append(exp.experiment_partitions(min(5, data_scale)))\n",
    "results = pd.concat(results)\n",
    "results.to_csv(\"acs_results.csv\", index=False)"
   ]
  },
  {
   "cell_type": "markdown",
   "id": "b1452f17",
   "metadata": {},
   "source": [
    "# Randomness Based on Conformal Prediction"
   ]
  },
  {
   "cell_type": "code",
   "execution_count": 11,
   "id": "4a51cd7d",
   "metadata": {},
   "outputs": [
    {
     "name": "stderr",
     "output_type": "stream",
     "text": [
      "  0%|                                                     | 0/1 [00:00<?, ?it/s]\n",
      "  0%|                                                     | 0/1 [00:00<?, ?it/s]\u001b[A"
     ]
    },
    {
     "name": "stdout",
     "output_type": "stream",
     "text": [
      "employment logistic\n",
      "income_poverty logistic\n",
      "health_insurance logistic\n",
      "Running Baseline Experiment\n",
      "Running Tasks Experiment\n",
      "Running Models Experiment\n",
      "Running Data Partitions Experiment\n",
      "employment logistic\n",
      "income_poverty logistic\n",
      "health_insurance logistic\n"
     ]
    },
    {
     "name": "stderr",
     "output_type": "stream",
     "text": [
      "\n",
      "100%|████████████████████████████████████████████| 1/1 [03:34<00:00, 214.21s/it]\u001b[A\n",
      "100%|████████████████████████████████████████████| 1/1 [03:34<00:00, 214.21s/it]\n"
     ]
    }
   ],
   "source": [
    "random_thresholds = [0.2]\n",
    "data_scales = [25000]\n",
    "random_seeds = list(range(1))\n",
    "\n",
    "results = []\n",
    "conformal_pred = True\n",
    "\n",
    "for data_scale in tqdm(data_scales):\n",
    "    for random_seed in tqdm(random_seeds):\n",
    "        exp = Experiment(df, protected_attribute, task_types,\n",
    "                             model_types, random_thresholds, n_train, n_test, random_seed, data_scale, conformal_pred)\n",
    "\n",
    "        exp.pretrain_models()\n",
    "        results.append(exp.experiment_baseline())\n",
    "        results.append(exp.experiment_tasks())\n",
    "        results.append(exp.experiment_models())\n",
    "        \n",
    "        results.append(exp.experiment_partitions(min(5, data_scale)))\n",
    "results = pd.concat(results)\n",
    "results.to_csv(\"acs_results_conformal.csv\", index=False)"
   ]
  },
  {
   "cell_type": "code",
   "execution_count": null,
   "id": "19c3d762",
   "metadata": {},
   "outputs": [],
   "source": []
  }
 ],
 "metadata": {
  "kernelspec": {
   "display_name": "Python 3 (ipykernel)",
   "language": "python",
   "name": "python3"
  },
  "language_info": {
   "codemirror_mode": {
    "name": "ipython",
    "version": 3
   },
   "file_extension": ".py",
   "mimetype": "text/x-python",
   "name": "python",
   "nbconvert_exporter": "python",
   "pygments_lexer": "ipython3",
   "version": "3.10.9"
  }
 },
 "nbformat": 4,
 "nbformat_minor": 5
}
