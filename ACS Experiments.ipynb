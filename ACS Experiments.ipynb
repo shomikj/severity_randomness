{
 "cells": [
  {
   "cell_type": "code",
   "execution_count": 1,
   "id": "3be97283",
   "metadata": {},
   "outputs": [],
   "source": [
    "import pandas as pd\n",
    "from tqdm import tqdm\n",
    "from experiments import Experiment\n",
    "from folktables import ACSDataSource, ACSEmployment, ACSIncomePovertyRatio, ACSHealthInsurance"
   ]
  },
  {
   "cell_type": "code",
   "execution_count": 3,
   "id": "cc22e1b9",
   "metadata": {},
   "outputs": [
    {
     "name": "stdout",
     "output_type": "stream",
     "text": [
      "Downloading data for 2018 1-Year person survey for AL...\n",
      "Downloading data for 2018 1-Year person survey for AK...\n",
      "Downloading data for 2018 1-Year person survey for AZ...\n",
      "Downloading data for 2018 1-Year person survey for AR...\n",
      "Downloading data for 2018 1-Year person survey for CA...\n",
      "Downloading data for 2018 1-Year person survey for CO...\n",
      "Downloading data for 2018 1-Year person survey for CT...\n",
      "Downloading data for 2018 1-Year person survey for DE...\n",
      "Downloading data for 2018 1-Year person survey for FL...\n",
      "Downloading data for 2018 1-Year person survey for GA...\n",
      "Downloading data for 2018 1-Year person survey for HI...\n",
      "Downloading data for 2018 1-Year person survey for ID...\n",
      "Downloading data for 2018 1-Year person survey for IL...\n",
      "Downloading data for 2018 1-Year person survey for IN...\n",
      "Downloading data for 2018 1-Year person survey for IA...\n",
      "Downloading data for 2018 1-Year person survey for KS...\n",
      "Downloading data for 2018 1-Year person survey for KY...\n",
      "Downloading data for 2018 1-Year person survey for LA...\n",
      "Downloading data for 2018 1-Year person survey for ME...\n",
      "Downloading data for 2018 1-Year person survey for MD...\n",
      "Downloading data for 2018 1-Year person survey for MA...\n",
      "Downloading data for 2018 1-Year person survey for MI...\n",
      "Downloading data for 2018 1-Year person survey for MN...\n",
      "Downloading data for 2018 1-Year person survey for MS...\n",
      "Downloading data for 2018 1-Year person survey for MO...\n",
      "Downloading data for 2018 1-Year person survey for MT...\n",
      "Downloading data for 2018 1-Year person survey for NE...\n",
      "Downloading data for 2018 1-Year person survey for NV...\n",
      "Downloading data for 2018 1-Year person survey for NH...\n",
      "Downloading data for 2018 1-Year person survey for NJ...\n",
      "Downloading data for 2018 1-Year person survey for NM...\n",
      "Downloading data for 2018 1-Year person survey for NY...\n",
      "Downloading data for 2018 1-Year person survey for NC...\n",
      "Downloading data for 2018 1-Year person survey for ND...\n",
      "Downloading data for 2018 1-Year person survey for OH...\n",
      "Downloading data for 2018 1-Year person survey for OK...\n",
      "Downloading data for 2018 1-Year person survey for OR...\n",
      "Downloading data for 2018 1-Year person survey for PA...\n",
      "Downloading data for 2018 1-Year person survey for RI...\n",
      "Downloading data for 2018 1-Year person survey for SC...\n",
      "Downloading data for 2018 1-Year person survey for SD...\n",
      "Downloading data for 2018 1-Year person survey for TN...\n",
      "Downloading data for 2018 1-Year person survey for TX...\n",
      "Downloading data for 2018 1-Year person survey for UT...\n",
      "Downloading data for 2018 1-Year person survey for VT...\n",
      "Downloading data for 2018 1-Year person survey for VA...\n",
      "Downloading data for 2018 1-Year person survey for WA...\n",
      "Downloading data for 2018 1-Year person survey for WV...\n",
      "Downloading data for 2018 1-Year person survey for WI...\n",
      "Downloading data for 2018 1-Year person survey for WY...\n",
      "Downloading data for 2018 1-Year person survey for PR...\n"
     ]
    }
   ],
   "source": [
    "root_dir = 'data'\n",
    "data_source = ACSDataSource(survey_year='2018', horizon='1-Year', survey='person', root_dir = root_dir)\n",
    "acs_data = data_source.get_data(download=True)"
   ]
  },
  {
   "cell_type": "code",
   "execution_count": 4,
   "id": "6a79e979",
   "metadata": {},
   "outputs": [],
   "source": [
    "protected_attribute = \"race\"\n",
    "task_types =  [\"employment\", \"income_poverty\", \"health_insurance\"]\n",
    "#model_types = [\"logistic\", \"gbm\", \"nn\", \"svm\", \"tree\"]\n",
    "model_types = [\"logistic\"]\n",
    "n_train = 2588885\n",
    "n_test = 647222"
   ]
  },
  {
   "cell_type": "code",
   "execution_count": 5,
   "id": "ba7f124a",
   "metadata": {},
   "outputs": [],
   "source": [
    "employment = ACSEmployment.df_to_numpy(acs_data)\n",
    "income_poverty = ACSIncomePovertyRatio.df_to_numpy(acs_data)\n",
    "health_insurance = ACSHealthInsurance.df_to_numpy(acs_data)"
   ]
  },
  {
   "cell_type": "code",
   "execution_count": 6,
   "id": "1081f4ff",
   "metadata": {},
   "outputs": [],
   "source": [
    "df_employment = pd.DataFrame(employment[0])\n",
    "df_employment[\"employment\"] = employment[1]\n",
    "df_employment[\"employment\"] = df_employment[\"employment\"].astype(int)\n",
    "df_employment[\"race\"] = employment[2]\n",
    "df_employment[\"race\"] = (df_employment[\"race\"]==1).astype(int)\n",
    "\n",
    "df_income_poverty = pd.DataFrame(income_poverty[0])\n",
    "df_income_poverty[\"income_poverty\"] = income_poverty[1]\n",
    "df_income_poverty[\"income_poverty\"] = df_income_poverty[\"income_poverty\"].astype(int)\n",
    "df_income_poverty[\"race\"] = income_poverty[2]\n",
    "df_income_poverty[\"race\"] = (df_income_poverty[\"race\"]==1).astype(int)\n",
    "\n",
    "df_health_insurance = pd.DataFrame(health_insurance[0])\n",
    "df_health_insurance[\"health_insurance\"] = health_insurance[1]\n",
    "df_health_insurance[\"health_insurance\"] = df_health_insurance[\"health_insurance\"].astype(int)\n",
    "df_health_insurance[\"race\"] = health_insurance[2]\n",
    "df_health_insurance[\"race\"] = (df_health_insurance[\"race\"]==1).astype(int)"
   ]
  },
  {
   "cell_type": "code",
   "execution_count": 10,
   "id": "33d7114a",
   "metadata": {},
   "outputs": [],
   "source": [
    "data = {\"employment\": df_employment, \"income_poverty\": df_income_poverty, \"health_insurance\": df_health_insurance}"
   ]
  },
  {
   "cell_type": "markdown",
   "id": "5de05ea6",
   "metadata": {},
   "source": [
    "# Randomness Based on Distance to Threshold"
   ]
  },
  {
   "cell_type": "code",
   "execution_count": 11,
   "id": "baad157e",
   "metadata": {
    "scrolled": true
   },
   "outputs": [
    {
     "name": "stdout",
     "output_type": "stream",
     "text": [
      "employment logistic\n",
      "income_poverty logistic\n",
      "health_insurance logistic\n",
      "Running Baseline Experiment\n",
      "Running Tasks Experiment\n",
      "Running Models Experiment\n",
      "Running Features Experiment\n",
      "employment logistic\n",
      "income_poverty logistic\n",
      "health_insurance logistic\n",
      "Running Data Partitions Experiment\n",
      "employment logistic\n",
      "income_poverty logistic\n",
      "health_insurance logistic\n",
      "Running All Variations Experiment\n",
      "employment logistic\n",
      "income_poverty logistic\n",
      "health_insurance logistic\n",
      "Running Models Experiment\n"
     ]
    }
   ],
   "source": [
    "random_thresholds = [0, 0.1, 0.15, 0.2, 0.25, 0.3, 0.4, 0.5]\n",
    "\n",
    "results = []\n",
    "conformal_pred = False\n",
    "\n",
    "data_scale = 25000\n",
    "random_seed = 0\n",
    "\n",
    "exp = Experiment(data, protected_attribute, task_types,\n",
    "                     model_types, random_thresholds, n_train, n_test, random_seed, data_scale, conformal_pred)\n",
    "\n",
    "exp.pretrain_models()\n",
    "results.append(exp.experiment_baseline())\n",
    "results.append(exp.experiment_tasks())\n",
    "results.append(exp.experiment_models())\n",
    "results.append(exp.experiment_features())\n",
    "results.append(exp.experiment_partitions())\n",
    "results.append(exp.experiment_all())\n",
    "\n",
    "results = pd.concat(results)\n",
    "results.to_csv(\"acs_results_0.csv\", index=False)"
   ]
  },
  {
   "cell_type": "markdown",
   "id": "b1452f17",
   "metadata": {},
   "source": [
    "# Randomness Based on Conformal Prediction"
   ]
  },
  {
   "cell_type": "code",
   "execution_count": null,
   "id": "4a51cd7d",
   "metadata": {},
   "outputs": [],
   "source": [
    "random_thresholds = [0, 0.1, 0.2, 0.25, 0.3, 0.35, 0.4, 0.5]\n",
    "\n",
    "results = []\n",
    "conformal_pred = True\n",
    "\n",
    "data_scale = 25000\n",
    "random_seed = 0\n",
    "\n",
    "exp = Experiment(data, protected_attribute, task_types,\n",
    "                     model_types, random_thresholds, n_train, n_test, random_seed, data_scale, conformal_pred)\n",
    "\n",
    "exp.pretrain_models()\n",
    "results.append(exp.experiment_baseline())\n",
    "results.append(exp.experiment_tasks())\n",
    "results.append(exp.experiment_models())\n",
    "results.append(exp.experiment_features())\n",
    "results.append(exp.experiment_partitions())\n",
    "results.append(exp.experiment_all())\n",
    "\n",
    "results = pd.concat(results)\n",
    "results.to_csv(\"acs_results_conformal_0.csv\", index=False)"
   ]
  },
  {
   "cell_type": "code",
   "execution_count": null,
   "id": "19c3d762",
   "metadata": {},
   "outputs": [],
   "source": []
  }
 ],
 "metadata": {
  "kernelspec": {
   "display_name": "Python 3 (ipykernel)",
   "language": "python",
   "name": "python3"
  },
  "language_info": {
   "codemirror_mode": {
    "name": "ipython",
    "version": 3
   },
   "file_extension": ".py",
   "mimetype": "text/x-python",
   "name": "python",
   "nbconvert_exporter": "python",
   "pygments_lexer": "ipython3",
   "version": "3.10.9"
  }
 },
 "nbformat": 4,
 "nbformat_minor": 5
}
