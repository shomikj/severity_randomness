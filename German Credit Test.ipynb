{
 "cells": [
  {
   "cell_type": "code",
   "execution_count": 35,
   "id": "3be97283",
   "metadata": {},
   "outputs": [],
   "source": [
    "import pandas as pd\n",
    "import sklearn\n",
    "from sklearn.model_selection import train_test_split\n",
    "from tqdm import tqdm\n",
    "import random\n",
    "import numpy as np\n",
    "from sklearn.linear_model import LogisticRegression\n",
    "from sklearn.model_selection import train_test_split\n",
    "from sklearn.pipeline import make_pipeline\n",
    "from sklearn.preprocessing import StandardScaler\n",
    "from sklearn import svm, ensemble\n",
    "from sklearn.neural_network import MLPClassifier\n",
    "from sklearn.calibration import CalibratedClassifierCV\n",
    "from sklearn.tree import DecisionTreeClassifier\n",
    "import warnings\n",
    "warnings.filterwarnings('ignore')\n",
    "import itertools\n",
    "from nonconformist.icp import IcpClassifier\n",
    "from nonconformist.nc import ClassifierNc, MarginErrFunc, ClassifierAdapter"
   ]
  },
  {
   "cell_type": "code",
   "execution_count": 36,
   "id": "cc22e1b9",
   "metadata": {},
   "outputs": [],
   "source": [
    "df = pd.read_csv('../data/german_credit.csv')"
   ]
  },
  {
   "cell_type": "code",
   "execution_count": 48,
   "id": "6a79e979",
   "metadata": {},
   "outputs": [],
   "source": [
    "features = [\n",
    "'status_checking_account',\n",
    "'duration_in_month',\n",
    "'credit_history',\n",
    "'purpose',\n",
    "'savings',\n",
    "'employement_since',\n",
    "'installment_rate',\n",
    "'debters',\n",
    "'resident_since',\n",
    "'property',\n",
    "'age',\n",
    "'other_installments',\n",
    "'housing',\n",
    "'num_credits',\n",
    "'job',\n",
    "'num_liable',\n",
    "'telephone',\n",
    "'foreign_worker'\n",
    "]\n",
    "protected_attribute = \"gender\"\n",
    "task_types =  [\"is_good_loan\", \"is_high_credit\"]\n",
    "model_types = [\"logistic\", \"gbm\", \"nn\", \"svm\", \"tree\"]\n",
    "n_train = 800\n",
    "n_test = 200"
   ]
  },
  {
   "cell_type": "code",
   "execution_count": 49,
   "id": "81a61062",
   "metadata": {},
   "outputs": [],
   "source": [
    "def format_data(task):\n",
    "    df_train, df_test = sklearn.model_selection.train_test_split(df, test_size=0.2, random_state=0)\n",
    "\n",
    "    X_train, X_test = df_train[features].to_numpy(), df_test[features].to_numpy()\n",
    "    y_train, y_test = df_train[task].to_numpy(), df_test[task].to_numpy()\n",
    "    z_train, z_test = df_train[protected_attribute].to_numpy(), df_test[protected_attribute].to_numpy()\n",
    "\n",
    "    return {'X_tr' : X_train, 'X_test' : X_test, 'y_tr': y_train, 'y_test' : y_test, 'z_tr': z_train, 'z_test': z_test}"
   ]
  },
  {
   "cell_type": "code",
   "execution_count": 50,
   "id": "7e85e072",
   "metadata": {},
   "outputs": [],
   "source": [
    "def get_partition(data, index=None):\n",
    "    rng = random.Random(0)\n",
    "    if not index:\n",
    "        index = rng.randint(0, int(2) - 1)\n",
    "\n",
    "    X_train, y_train, z_train = data['X_tr'], data['y_tr'], data['z_tr']\n",
    "    X_test, y_test, z_test = data['X_test'], data['y_test'], data['z_test']\n",
    "    y_train = np.expand_dims(y_train, axis = 1)\n",
    "    z_train = np.expand_dims(z_train, axis = 1)\n",
    "    data = np.concatenate((X_train, y_train, z_train), axis = 1)\n",
    "    np.random.RandomState(seed=0).shuffle(data)\n",
    "    X_train, y_train, z_train = data[:, : -2], data[:, -2], data[:, -1]\n",
    "\n",
    "    N = len(y_train)\n",
    "    block_length = int(N // 2)\n",
    "\n",
    "    start, end = block_length * index, block_length * index + block_length\n",
    "\n",
    "    return {'X_tr' : X_train[start : end], 'X_test' : X_test, \n",
    "            'y_tr': y_train[start : end], 'y_test' : y_test, \n",
    "            'z_tr': z_train[start: end], 'z_test' : z_test}\n"
   ]
  },
  {
   "cell_type": "code",
   "execution_count": 51,
   "id": "67c9ee70",
   "metadata": {},
   "outputs": [],
   "source": [
    "data = format_data(\"is_good_loan\")\n",
    "data = get_partition(data)"
   ]
  },
  {
   "cell_type": "code",
   "execution_count": 41,
   "id": "c86a9e76",
   "metadata": {},
   "outputs": [
    {
     "data": {
      "text/html": [
       "<style>#sk-container-id-2 {color: black;background-color: white;}#sk-container-id-2 pre{padding: 0;}#sk-container-id-2 div.sk-toggleable {background-color: white;}#sk-container-id-2 label.sk-toggleable__label {cursor: pointer;display: block;width: 100%;margin-bottom: 0;padding: 0.3em;box-sizing: border-box;text-align: center;}#sk-container-id-2 label.sk-toggleable__label-arrow:before {content: \"▸\";float: left;margin-right: 0.25em;color: #696969;}#sk-container-id-2 label.sk-toggleable__label-arrow:hover:before {color: black;}#sk-container-id-2 div.sk-estimator:hover label.sk-toggleable__label-arrow:before {color: black;}#sk-container-id-2 div.sk-toggleable__content {max-height: 0;max-width: 0;overflow: hidden;text-align: left;background-color: #f0f8ff;}#sk-container-id-2 div.sk-toggleable__content pre {margin: 0.2em;color: black;border-radius: 0.25em;background-color: #f0f8ff;}#sk-container-id-2 input.sk-toggleable__control:checked~div.sk-toggleable__content {max-height: 200px;max-width: 100%;overflow: auto;}#sk-container-id-2 input.sk-toggleable__control:checked~label.sk-toggleable__label-arrow:before {content: \"▾\";}#sk-container-id-2 div.sk-estimator input.sk-toggleable__control:checked~label.sk-toggleable__label {background-color: #d4ebff;}#sk-container-id-2 div.sk-label input.sk-toggleable__control:checked~label.sk-toggleable__label {background-color: #d4ebff;}#sk-container-id-2 input.sk-hidden--visually {border: 0;clip: rect(1px 1px 1px 1px);clip: rect(1px, 1px, 1px, 1px);height: 1px;margin: -1px;overflow: hidden;padding: 0;position: absolute;width: 1px;}#sk-container-id-2 div.sk-estimator {font-family: monospace;background-color: #f0f8ff;border: 1px dotted black;border-radius: 0.25em;box-sizing: border-box;margin-bottom: 0.5em;}#sk-container-id-2 div.sk-estimator:hover {background-color: #d4ebff;}#sk-container-id-2 div.sk-parallel-item::after {content: \"\";width: 100%;border-bottom: 1px solid gray;flex-grow: 1;}#sk-container-id-2 div.sk-label:hover label.sk-toggleable__label {background-color: #d4ebff;}#sk-container-id-2 div.sk-serial::before {content: \"\";position: absolute;border-left: 1px solid gray;box-sizing: border-box;top: 0;bottom: 0;left: 50%;z-index: 0;}#sk-container-id-2 div.sk-serial {display: flex;flex-direction: column;align-items: center;background-color: white;padding-right: 0.2em;padding-left: 0.2em;position: relative;}#sk-container-id-2 div.sk-item {position: relative;z-index: 1;}#sk-container-id-2 div.sk-parallel {display: flex;align-items: stretch;justify-content: center;background-color: white;position: relative;}#sk-container-id-2 div.sk-item::before, #sk-container-id-2 div.sk-parallel-item::before {content: \"\";position: absolute;border-left: 1px solid gray;box-sizing: border-box;top: 0;bottom: 0;left: 50%;z-index: -1;}#sk-container-id-2 div.sk-parallel-item {display: flex;flex-direction: column;z-index: 1;position: relative;background-color: white;}#sk-container-id-2 div.sk-parallel-item:first-child::after {align-self: flex-end;width: 50%;}#sk-container-id-2 div.sk-parallel-item:last-child::after {align-self: flex-start;width: 50%;}#sk-container-id-2 div.sk-parallel-item:only-child::after {width: 0;}#sk-container-id-2 div.sk-dashed-wrapped {border: 1px dashed gray;margin: 0 0.4em 0.5em 0.4em;box-sizing: border-box;padding-bottom: 0.4em;background-color: white;}#sk-container-id-2 div.sk-label label {font-family: monospace;font-weight: bold;display: inline-block;line-height: 1.2em;}#sk-container-id-2 div.sk-label-container {text-align: center;}#sk-container-id-2 div.sk-container {/* jupyter's `normalize.less` sets `[hidden] { display: none; }` but bootstrap.min.css set `[hidden] { display: none !important; }` so we also need the `!important` here to be able to override the default hidden behavior on the sphinx rendered scikit-learn.org. See: https://github.com/scikit-learn/scikit-learn/issues/21755 */display: inline-block !important;position: relative;}#sk-container-id-2 div.sk-text-repr-fallback {display: none;}</style><div id=\"sk-container-id-2\" class=\"sk-top-container\"><div class=\"sk-text-repr-fallback\"><pre>CalibratedClassifierCV(estimator=Pipeline(steps=[(&#x27;standardscaler&#x27;,\n",
       "                                                  StandardScaler()),\n",
       "                                                 (&#x27;logisticregression&#x27;,\n",
       "                                                  LogisticRegression(random_state=0))]))</pre><b>In a Jupyter environment, please rerun this cell to show the HTML representation or trust the notebook. <br />On GitHub, the HTML representation is unable to render, please try loading this page with nbviewer.org.</b></div><div class=\"sk-container\" hidden><div class=\"sk-item sk-dashed-wrapped\"><div class=\"sk-label-container\"><div class=\"sk-label sk-toggleable\"><input class=\"sk-toggleable__control sk-hidden--visually\" id=\"sk-estimator-id-5\" type=\"checkbox\" ><label for=\"sk-estimator-id-5\" class=\"sk-toggleable__label sk-toggleable__label-arrow\">CalibratedClassifierCV</label><div class=\"sk-toggleable__content\"><pre>CalibratedClassifierCV(estimator=Pipeline(steps=[(&#x27;standardscaler&#x27;,\n",
       "                                                  StandardScaler()),\n",
       "                                                 (&#x27;logisticregression&#x27;,\n",
       "                                                  LogisticRegression(random_state=0))]))</pre></div></div></div><div class=\"sk-parallel\"><div class=\"sk-parallel-item\"><div class=\"sk-item\"><div class=\"sk-label-container\"><div class=\"sk-label sk-toggleable\"><input class=\"sk-toggleable__control sk-hidden--visually\" id=\"sk-estimator-id-6\" type=\"checkbox\" ><label for=\"sk-estimator-id-6\" class=\"sk-toggleable__label sk-toggleable__label-arrow\">estimator: Pipeline</label><div class=\"sk-toggleable__content\"><pre>Pipeline(steps=[(&#x27;standardscaler&#x27;, StandardScaler()),\n",
       "                (&#x27;logisticregression&#x27;, LogisticRegression(random_state=0))])</pre></div></div></div><div class=\"sk-serial\"><div class=\"sk-item\"><div class=\"sk-serial\"><div class=\"sk-item\"><div class=\"sk-estimator sk-toggleable\"><input class=\"sk-toggleable__control sk-hidden--visually\" id=\"sk-estimator-id-7\" type=\"checkbox\" ><label for=\"sk-estimator-id-7\" class=\"sk-toggleable__label sk-toggleable__label-arrow\">StandardScaler</label><div class=\"sk-toggleable__content\"><pre>StandardScaler()</pre></div></div></div><div class=\"sk-item\"><div class=\"sk-estimator sk-toggleable\"><input class=\"sk-toggleable__control sk-hidden--visually\" id=\"sk-estimator-id-8\" type=\"checkbox\" ><label for=\"sk-estimator-id-8\" class=\"sk-toggleable__label sk-toggleable__label-arrow\">LogisticRegression</label><div class=\"sk-toggleable__content\"><pre>LogisticRegression(random_state=0)</pre></div></div></div></div></div></div></div></div></div></div></div></div>"
      ],
      "text/plain": [
       "CalibratedClassifierCV(estimator=Pipeline(steps=[('standardscaler',\n",
       "                                                  StandardScaler()),\n",
       "                                                 ('logisticregression',\n",
       "                                                  LogisticRegression(random_state=0))]))"
      ]
     },
     "execution_count": 41,
     "metadata": {},
     "output_type": "execute_result"
    }
   ],
   "source": [
    "base_clf = LogisticRegression\n",
    "base_clf = make_pipeline(StandardScaler(), base_clf(max_iter=100, random_state=0))\n",
    "model = CalibratedClassifierCV(base_clf)\n",
    "model.fit(data['X_tr'], data['y_tr'])"
   ]
  },
  {
   "cell_type": "code",
   "execution_count": 42,
   "id": "9ac8b365",
   "metadata": {},
   "outputs": [],
   "source": [
    "scores = model.predict_proba(data['X_test'])\n",
    "scores = [i[1] for i in scores]"
   ]
  },
  {
   "cell_type": "code",
   "execution_count": 43,
   "id": "b34dff48",
   "metadata": {},
   "outputs": [],
   "source": [
    "icp = IcpClassifier(ClassifierNc(ClassifierAdapter(model), MarginErrFunc()))\n",
    "icp.calibrate(data[\"X_cal\"], data[\"y_cal\"])\n",
    "pvals = icp.predict(data[\"X_test\"], None)\n"
   ]
  },
  {
   "cell_type": "code",
   "execution_count": 44,
   "id": "ea791a6c",
   "metadata": {},
   "outputs": [],
   "source": []
  },
  {
   "cell_type": "code",
   "execution_count": 62,
   "id": "49d8e6d9",
   "metadata": {},
   "outputs": [],
   "source": [
    "partition = data.copy()"
   ]
  },
  {
   "cell_type": "code",
   "execution_count": 53,
   "id": "67dc5457",
   "metadata": {},
   "outputs": [],
   "source": [
    "kf = KFold(n_splits=5, shuffle=False)"
   ]
  },
  {
   "cell_type": "code",
   "execution_count": 77,
   "id": "549236ac",
   "metadata": {},
   "outputs": [],
   "source": [
    "for k, (train, test) in enumerate(kf.split(data[\"X_tr\"])):\n",
    "    break "
   ]
  },
  {
   "cell_type": "code",
   "execution_count": 80,
   "id": "eff2ede4",
   "metadata": {},
   "outputs": [
    {
     "data": {
      "text/plain": [
       "array([[ 2.        ,  1.25194728,  2.        , ...,  2.3337012 ,\n",
       "         0.        ,  0.        ],\n",
       "       [ 1.        , -0.24073677,  1.        , ..., -0.42807537,\n",
       "         1.        ,  0.        ],\n",
       "       [ 0.        , -0.73829812,  1.        , ..., -0.42807537,\n",
       "         1.        ,  0.        ],\n",
       "       ...,\n",
       "       [ 1.        ,  2.24706998,  0.        , ..., -0.42807537,\n",
       "         0.        ,  0.        ],\n",
       "       [ 0.        , -0.24073677,  1.        , ..., -0.42807537,\n",
       "         1.        ,  0.        ],\n",
       "       [ 2.        , -1.40171325,  0.        , ...,  2.3337012 ,\n",
       "         1.        ,  0.        ]])"
      ]
     },
     "execution_count": 80,
     "metadata": {},
     "output_type": "execute_result"
    }
   ],
   "source": [
    "data[\"X_tr\"][train]"
   ]
  },
  {
   "cell_type": "code",
   "execution_count": 81,
   "id": "4abdba0f",
   "metadata": {},
   "outputs": [
    {
     "data": {
      "text/plain": [
       "array([0., 0., 0., 0., 1., 0., 1., 0., 0., 0., 0., 1., 0., 0., 0., 0., 0.,\n",
       "       1., 1., 0., 0., 0., 1., 0., 0., 1., 0., 0., 0., 0., 0., 1., 1., 0.,\n",
       "       0., 0., 0., 0., 0., 0., 0., 0., 0., 0., 0., 0., 0., 0., 0., 1., 0.,\n",
       "       0., 0., 0., 0., 0., 1., 0., 0., 0., 0., 0., 0., 0., 0., 0., 0., 1.,\n",
       "       1., 1., 0., 0., 0., 0., 0., 1., 1., 0., 0., 0., 0., 1., 1., 1., 1.,\n",
       "       0., 0., 0., 0., 0., 1., 1., 1., 1., 0., 1., 0., 1., 0., 0., 0., 0.,\n",
       "       0., 0., 0., 1., 1., 1., 1., 0., 0., 0., 0., 0., 1., 0., 0., 0., 0.,\n",
       "       0., 0., 0., 1., 1., 0., 0., 0., 1., 0., 0., 1., 0., 0., 0., 0., 0.,\n",
       "       1., 1., 0., 0., 0., 0., 0., 1., 1., 0., 0., 0., 0., 0., 0., 0., 0.,\n",
       "       0., 0., 0., 0., 1., 1., 0., 0., 0., 0., 0., 0., 1., 0., 0., 1., 0.,\n",
       "       0., 0., 1., 0., 1., 1., 0., 1., 0., 1., 0., 1., 0., 0., 0., 1., 1.,\n",
       "       1., 0., 0., 1., 0., 1., 0., 0., 0., 1., 0., 0., 0., 0., 0., 1., 1.,\n",
       "       1., 0., 1., 0., 1., 0., 0., 0., 1., 1., 0., 0., 0., 0., 1., 0., 0.,\n",
       "       1., 1., 0., 0., 0., 1., 0., 0., 0., 1., 0., 0., 1., 1., 1., 0., 0.,\n",
       "       1., 0., 0., 0., 0., 0., 1., 0., 0., 0., 0., 0., 0., 0., 0., 0., 0.,\n",
       "       1., 0., 0., 0., 0., 0., 0., 0., 0., 1., 1., 0., 0., 0., 1., 0., 1.,\n",
       "       0., 1., 0., 0., 0., 0., 1., 1., 1., 0., 0., 0., 0., 0., 0., 0., 1.,\n",
       "       1., 0., 1., 0., 0., 0., 0., 0., 0., 0., 0., 0., 1., 0., 0., 0., 0.,\n",
       "       0., 1., 0., 0., 1., 0., 0., 0., 0., 1., 0., 1., 0., 0.])"
      ]
     },
     "execution_count": 81,
     "metadata": {},
     "output_type": "execute_result"
    }
   ],
   "source": [
    "data[\"y_tr\"][train]"
   ]
  },
  {
   "cell_type": "code",
   "execution_count": 66,
   "id": "6c70df62",
   "metadata": {},
   "outputs": [
    {
     "data": {
      "text/plain": [
       "array([[1, 2, 3],\n",
       "       [2, 3, 4]])"
      ]
     },
     "execution_count": 66,
     "metadata": {},
     "output_type": "execute_result"
    }
   ],
   "source": [
    "np.array(a)"
   ]
  },
  {
   "cell_type": "code",
   "execution_count": 68,
   "id": "e2ca58db",
   "metadata": {},
   "outputs": [
    {
     "data": {
      "text/plain": [
       "array([1.5, 2.5, 3.5])"
      ]
     },
     "execution_count": 68,
     "metadata": {},
     "output_type": "execute_result"
    }
   ],
   "source": [
    "np.mean(a, axis=0)"
   ]
  },
  {
   "cell_type": "code",
   "execution_count": 69,
   "id": "0690935c",
   "metadata": {},
   "outputs": [],
   "source": [
    "a = {}\n",
    "b = {}"
   ]
  },
  {
   "cell_type": "code",
   "execution_count": 70,
   "id": "f329b83e",
   "metadata": {},
   "outputs": [],
   "source": [
    "def myfun():\n",
    "    return 1,2"
   ]
  },
  {
   "cell_type": "code",
   "execution_count": 71,
   "id": "8b39b902",
   "metadata": {},
   "outputs": [],
   "source": [
    "a[\"a\"], b[\"b\"] = myfun()"
   ]
  },
  {
   "cell_type": "code",
   "execution_count": 73,
   "id": "77b94b65",
   "metadata": {},
   "outputs": [
    {
     "data": {
      "text/plain": [
       "{'b': 2}"
      ]
     },
     "execution_count": 73,
     "metadata": {},
     "output_type": "execute_result"
    }
   ],
   "source": [
    "b"
   ]
  },
  {
   "cell_type": "code",
   "execution_count": 61,
   "id": "2d622821",
   "metadata": {},
   "outputs": [
    {
     "data": {
      "text/plain": [
       "400"
      ]
     },
     "execution_count": 61,
     "metadata": {},
     "output_type": "execute_result"
    }
   ],
   "source": [
    "len(data[\"X_tr\"])"
   ]
  },
  {
   "cell_type": "code",
   "execution_count": 33,
   "id": "f80af08a",
   "metadata": {},
   "outputs": [
    {
     "ename": "TypeError",
     "evalue": "KFold.__init__() takes from 1 to 2 positional arguments but 3 were given",
     "output_type": "error",
     "traceback": [
      "\u001b[0;31m---------------------------------------------------------------------------\u001b[0m",
      "\u001b[0;31mTypeError\u001b[0m                                 Traceback (most recent call last)",
      "Cell \u001b[0;32mIn[33], line 6\u001b[0m\n\u001b[1;32m      1\u001b[0m icp \u001b[38;5;241m=\u001b[39m IcpClassifier(ClassifierNc(ClassifierAdapter(LogisticRegression()),\n\u001b[1;32m      2\u001b[0m                                  MarginErrFunc()))\n\u001b[1;32m      4\u001b[0m icp_cv \u001b[38;5;241m=\u001b[39m ClassIcpCvHelper(icp)\n\u001b[0;32m----> 6\u001b[0m scores \u001b[38;5;241m=\u001b[39m \u001b[43mcross_val_score\u001b[49m\u001b[43m(\u001b[49m\u001b[43micp_cv\u001b[49m\u001b[43m,\u001b[49m\n\u001b[1;32m      7\u001b[0m \u001b[43m                         \u001b[49m\u001b[43mdata\u001b[49m\u001b[38;5;241;43m.\u001b[39;49m\u001b[43mdata\u001b[49m\u001b[43m,\u001b[49m\n\u001b[1;32m      8\u001b[0m \u001b[43m                         \u001b[49m\u001b[43mdata\u001b[49m\u001b[38;5;241;43m.\u001b[39;49m\u001b[43mtarget\u001b[49m\u001b[43m,\u001b[49m\n\u001b[1;32m      9\u001b[0m \u001b[43m                         \u001b[49m\u001b[43miterations\u001b[49m\u001b[38;5;241;43m=\u001b[39;49m\u001b[38;5;241;43m5\u001b[39;49m\u001b[43m,\u001b[49m\n\u001b[1;32m     10\u001b[0m \u001b[43m                         \u001b[49m\u001b[43mfolds\u001b[49m\u001b[38;5;241;43m=\u001b[39;49m\u001b[38;5;241;43m5\u001b[39;49m\u001b[43m,\u001b[49m\n\u001b[1;32m     11\u001b[0m \u001b[43m                         \u001b[49m\u001b[43mscoring_funcs\u001b[49m\u001b[38;5;241;43m=\u001b[39;49m\u001b[43m[\u001b[49m\u001b[43mclass_mean_errors\u001b[49m\u001b[43m,\u001b[49m\u001b[43m \u001b[49m\u001b[43mclass_avg_c\u001b[49m\u001b[43m]\u001b[49m\u001b[43m,\u001b[49m\n\u001b[1;32m     12\u001b[0m \u001b[43m                         \u001b[49m\u001b[43msignificance_levels\u001b[49m\u001b[38;5;241;43m=\u001b[39;49m\u001b[43m[\u001b[49m\u001b[38;5;241;43m0.05\u001b[39;49m\u001b[43m,\u001b[49m\u001b[43m \u001b[49m\u001b[38;5;241;43m0.1\u001b[39;49m\u001b[43m,\u001b[49m\u001b[43m \u001b[49m\u001b[38;5;241;43m0.2\u001b[39;49m\u001b[43m]\u001b[49m\u001b[43m)\u001b[49m\n",
      "File \u001b[0;32m~/venv-metal/lib/python3.10/site-packages/nonconformist/evaluation.py:188\u001b[0m, in \u001b[0;36mcross_val_score\u001b[0;34m(model, x, y, iterations, folds, fit_params, scoring_funcs, significance_levels, verbose)\u001b[0m\n\u001b[1;32m    186\u001b[0m idx \u001b[38;5;241m=\u001b[39m np\u001b[38;5;241m.\u001b[39mrandom\u001b[38;5;241m.\u001b[39mpermutation(y\u001b[38;5;241m.\u001b[39msize)\n\u001b[1;32m    187\u001b[0m x, y \u001b[38;5;241m=\u001b[39m x[idx, :], y[idx]\n\u001b[0;32m--> 188\u001b[0m cv \u001b[38;5;241m=\u001b[39m \u001b[43mKFold\u001b[49m\u001b[43m(\u001b[49m\u001b[43my\u001b[49m\u001b[38;5;241;43m.\u001b[39;49m\u001b[43msize\u001b[49m\u001b[43m,\u001b[49m\u001b[43m \u001b[49m\u001b[43mfolds\u001b[49m\u001b[43m)\u001b[49m\n\u001b[1;32m    189\u001b[0m \u001b[38;5;28;01mfor\u001b[39;00m j, (train, test) \u001b[38;5;129;01min\u001b[39;00m \u001b[38;5;28menumerate\u001b[39m(cv):\n\u001b[1;32m    190\u001b[0m \t\u001b[38;5;28;01mif\u001b[39;00m verbose:\n",
      "\u001b[0;31mTypeError\u001b[0m: KFold.__init__() takes from 1 to 2 positional arguments but 3 were given"
     ]
    }
   ],
   "source": [
    "icp = IcpClassifier(ClassifierNc(ClassifierAdapter(LogisticRegression()),\n",
    "                                 MarginErrFunc()))\n",
    "\n",
    "icp_cv = ClassIcpCvHelper(icp)\n",
    "\n",
    "scores = cross_val_score(icp_cv,\n",
    "                         data.data,\n",
    "                         data.target,\n",
    "                         iterations=5,\n",
    "                         folds=5,\n",
    "                         scoring_funcs=[class_mean_errors, class_avg_c],\n",
    "                         significance_levels=[0.05, 0.1, 0.2])\n",
    "\n"
   ]
  },
  {
   "cell_type": "code",
   "execution_count": 106,
   "id": "7d96b47c",
   "metadata": {},
   "outputs": [],
   "source": [
    "a = np.array([np.array([1,2,3,4]),np.array([4,5,6,4]), np.array([7,8,9,4])])"
   ]
  },
  {
   "cell_type": "code",
   "execution_count": 107,
   "id": "6377423a",
   "metadata": {},
   "outputs": [
    {
     "data": {
      "text/plain": [
       "array([[1, 2, 3, 4],\n",
       "       [4, 5, 6, 4],\n",
       "       [7, 8, 9, 4]])"
      ]
     },
     "execution_count": 107,
     "metadata": {},
     "output_type": "execute_result"
    }
   ],
   "source": [
    "a"
   ]
  },
  {
   "cell_type": "code",
   "execution_count": 85,
   "id": "3cf6e5f5",
   "metadata": {},
   "outputs": [
    {
     "data": {
      "text/plain": [
       "5"
      ]
     },
     "execution_count": 85,
     "metadata": {},
     "output_type": "execute_result"
    }
   ],
   "source": [
    "a[1,1]"
   ]
  },
  {
   "cell_type": "code",
   "execution_count": 88,
   "id": "e2078d78",
   "metadata": {},
   "outputs": [
    {
     "data": {
      "text/plain": [
       "array([[1, 3],\n",
       "       [4, 6],\n",
       "       [7, 9]])"
      ]
     },
     "execution_count": 88,
     "metadata": {},
     "output_type": "execute_result"
    }
   ],
   "source": [
    "a[:, [0,2]]"
   ]
  },
  {
   "cell_type": "code",
   "execution_count": 114,
   "id": "786eb559",
   "metadata": {},
   "outputs": [],
   "source": [
    "a = np.array([1,2,3,4,5,6,7\n",
    "              ,8,9,10])"
   ]
  },
  {
   "cell_type": "code",
   "execution_count": 101,
   "id": "b3939b70",
   "metadata": {},
   "outputs": [
    {
     "name": "stdout",
     "output_type": "stream",
     "text": [
      "[ 1  8  5  2  9  3  6  7 10  4]\n"
     ]
    }
   ],
   "source": [
    "np.random.shuffle(a)\n",
    "print(a)"
   ]
  },
  {
   "cell_type": "code",
   "execution_count": 113,
   "id": "7a33e879",
   "metadata": {},
   "outputs": [
    {
     "data": {
      "text/plain": [
       "array([0, 1, 2, 3])"
      ]
     },
     "execution_count": 113,
     "metadata": {},
     "output_type": "execute_result"
    }
   ],
   "source": [
    "np.arange(4)"
   ]
  },
  {
   "cell_type": "code",
   "execution_count": 115,
   "id": "3c2722dc",
   "metadata": {},
   "outputs": [
    {
     "data": {
      "text/plain": [
       "array([1, 2, 3, 4, 5, 6])"
      ]
     },
     "execution_count": 115,
     "metadata": {},
     "output_type": "execute_result"
    }
   ],
   "source": [
    "a[:int(10*(2/3))]"
   ]
  },
  {
   "cell_type": "code",
   "execution_count": null,
   "id": "3ea8077a",
   "metadata": {},
   "outputs": [],
   "source": [
    "a"
   ]
  }
 ],
 "metadata": {
  "kernelspec": {
   "display_name": "Python 3 (ipykernel)",
   "language": "python",
   "name": "python3"
  },
  "language_info": {
   "codemirror_mode": {
    "name": "ipython",
    "version": 3
   },
   "file_extension": ".py",
   "mimetype": "text/x-python",
   "name": "python",
   "nbconvert_exporter": "python",
   "pygments_lexer": "ipython3",
   "version": "3.10.9"
  }
 },
 "nbformat": 4,
 "nbformat_minor": 5
}
