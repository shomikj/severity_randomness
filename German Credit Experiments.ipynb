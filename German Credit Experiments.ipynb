{
 "cells": [
  {
   "cell_type": "code",
   "execution_count": 1,
   "id": "3be97283",
   "metadata": {},
   "outputs": [],
   "source": [
    "import pandas as pd\n",
    "from tqdm import tqdm\n",
    "from experiments import Experiment"
   ]
  },
  {
   "cell_type": "code",
   "execution_count": 2,
   "id": "cc22e1b9",
   "metadata": {},
   "outputs": [],
   "source": [
    "df = pd.read_csv('../data/german_credit.csv')"
   ]
  },
  {
   "cell_type": "code",
   "execution_count": 3,
   "id": "6a79e979",
   "metadata": {},
   "outputs": [],
   "source": [
    "features = [\n",
    "'status_checking_account',\n",
    "'duration_in_month',\n",
    "'credit_history',\n",
    "'purpose',\n",
    "'savings',\n",
    "'employement_since',\n",
    "'installment_rate',\n",
    "'debters',\n",
    "'resident_since',\n",
    "'property',\n",
    "'age',\n",
    "'other_installments',\n",
    "'housing',\n",
    "'num_credits',\n",
    "'job',\n",
    "'num_liable',\n",
    "'telephone',\n",
    "'foreign_worker'\n",
    "]\n",
    "protected_attribute = \"gender\"\n",
    "random_thresholds = [0, 0.1, 0.2, 0.3, 0.4, 0.5]\n",
    "task_types =  [\"is_good_loan\", \"is_high_credit\"]\n",
    "model_types = [\"logistic\", \"gbm\", \"nn\", \"svm\", \"tree\"]\n",
    "n_train = 800\n",
    "n_test = 200"
   ]
  },
  {
   "cell_type": "code",
   "execution_count": 5,
   "id": "baad157e",
   "metadata": {
    "scrolled": true
   },
   "outputs": [
    {
     "name": "stderr",
     "output_type": "stream",
     "text": [
      "  0%|                                                     | 0/9 [00:00<?, ?it/s]\n",
      "  0%|                                                     | 0/5 [00:00<?, ?it/s]\u001b[A"
     ]
    },
    {
     "name": "stdout",
     "output_type": "stream",
     "text": [
      "is_good_loan logistic\n",
      "is_good_loan gbm\n",
      "is_good_loan nn\n",
      "is_good_loan svm\n",
      "is_good_loan tree\n",
      "is_high_credit logistic\n",
      "is_high_credit gbm\n",
      "is_high_credit nn\n",
      "is_high_credit svm\n",
      "is_high_credit tree\n",
      "Running Baseline Experiment\n",
      "Running Tasks Experiment\n",
      "Running Models Experiment\n",
      "Running Data Partitions Experiment\n",
      "is_good_loan logistic\n",
      "is_good_loan gbm\n",
      "is_good_loan nn\n",
      "is_good_loan svm\n",
      "is_good_loan tree\n",
      "is_high_credit logistic\n",
      "is_high_credit gbm\n",
      "is_high_credit nn\n",
      "is_high_credit svm\n"
     ]
    },
    {
     "name": "stderr",
     "output_type": "stream",
     "text": [
      "\n",
      " 20%|█████████                                    | 1/5 [00:03<00:15,  3.91s/it]\u001b[A"
     ]
    },
    {
     "name": "stdout",
     "output_type": "stream",
     "text": [
      "is_high_credit tree\n",
      "is_good_loan logistic\n",
      "is_good_loan gbm\n",
      "is_good_loan nn\n",
      "is_good_loan svm\n",
      "is_good_loan tree\n",
      "is_high_credit logistic\n",
      "is_high_credit gbm\n",
      "is_high_credit nn\n",
      "is_high_credit svm\n",
      "is_high_credit tree\n",
      "Running Baseline Experiment\n",
      "Running Tasks Experiment\n",
      "Running Models Experiment\n",
      "Running Data Partitions Experiment\n",
      "is_good_loan logistic\n",
      "is_good_loan gbm\n",
      "is_good_loan nn\n",
      "is_good_loan svm\n",
      "is_good_loan tree\n",
      "is_high_credit logistic\n",
      "is_high_credit gbm\n",
      "is_high_credit nn\n",
      "is_high_credit svm\n"
     ]
    },
    {
     "name": "stderr",
     "output_type": "stream",
     "text": [
      "\n",
      " 40%|██████████████████                           | 2/5 [00:07<00:11,  3.91s/it]\u001b[A"
     ]
    },
    {
     "name": "stdout",
     "output_type": "stream",
     "text": [
      "is_high_credit tree\n",
      "is_good_loan logistic\n",
      "is_good_loan gbm\n",
      "is_good_loan nn\n",
      "is_good_loan svm\n",
      "is_good_loan tree\n",
      "is_high_credit logistic\n",
      "is_high_credit gbm\n",
      "is_high_credit nn\n",
      "is_high_credit svm\n",
      "is_high_credit tree\n",
      "Running Baseline Experiment\n",
      "Running Tasks Experiment\n",
      "Running Models Experiment\n",
      "Running Data Partitions Experiment\n",
      "is_good_loan logistic\n",
      "is_good_loan gbm\n",
      "is_good_loan nn\n",
      "is_good_loan svm\n",
      "is_good_loan tree\n",
      "is_high_credit logistic\n",
      "is_high_credit gbm\n",
      "is_high_credit nn\n",
      "is_high_credit svm\n"
     ]
    },
    {
     "name": "stderr",
     "output_type": "stream",
     "text": [
      "\n",
      " 60%|███████████████████████████                  | 3/5 [00:11<00:07,  3.90s/it]\u001b[A"
     ]
    },
    {
     "name": "stdout",
     "output_type": "stream",
     "text": [
      "is_high_credit tree\n",
      "is_good_loan logistic\n",
      "is_good_loan gbm\n",
      "is_good_loan nn\n",
      "is_good_loan svm\n",
      "is_good_loan tree\n",
      "is_high_credit logistic\n",
      "is_high_credit gbm\n",
      "is_high_credit nn\n",
      "is_high_credit svm\n",
      "is_high_credit tree\n",
      "Running Baseline Experiment\n",
      "Running Tasks Experiment\n",
      "Running Models Experiment\n",
      "Running Data Partitions Experiment\n",
      "is_good_loan logistic\n",
      "is_good_loan gbm\n",
      "is_good_loan nn\n",
      "is_good_loan svm\n",
      "is_good_loan tree\n",
      "is_high_credit logistic\n",
      "is_high_credit gbm\n",
      "is_high_credit nn\n"
     ]
    },
    {
     "name": "stderr",
     "output_type": "stream",
     "text": [
      "\n",
      " 80%|████████████████████████████████████         | 4/5 [00:15<00:03,  3.93s/it]\u001b[A"
     ]
    },
    {
     "name": "stdout",
     "output_type": "stream",
     "text": [
      "is_high_credit svm\n",
      "is_high_credit tree\n",
      "is_good_loan logistic\n",
      "is_good_loan gbm\n",
      "is_good_loan nn\n",
      "is_good_loan svm\n",
      "is_good_loan tree\n",
      "is_high_credit logistic\n",
      "is_high_credit gbm\n",
      "is_high_credit nn\n",
      "is_high_credit svm\n",
      "is_high_credit tree\n",
      "Running Baseline Experiment\n",
      "Running Tasks Experiment\n",
      "Running Models Experiment\n",
      "Running Data Partitions Experiment\n",
      "is_good_loan logistic\n",
      "is_good_loan gbm\n",
      "is_good_loan nn\n",
      "is_good_loan svm\n",
      "is_good_loan tree\n",
      "is_high_credit logistic\n",
      "is_high_credit gbm\n",
      "is_high_credit nn\n",
      "is_high_credit svm\n"
     ]
    },
    {
     "name": "stderr",
     "output_type": "stream",
     "text": [
      "\n",
      "100%|█████████████████████████████████████████████| 5/5 [00:19<00:00,  3.94s/it]\u001b[A\n",
      " 11%|█████                                        | 1/9 [00:19<02:37, 19.69s/it]"
     ]
    },
    {
     "name": "stdout",
     "output_type": "stream",
     "text": [
      "is_high_credit tree\n"
     ]
    },
    {
     "name": "stderr",
     "output_type": "stream",
     "text": [
      "\n",
      "  0%|                                                     | 0/5 [00:00<?, ?it/s]\u001b[A"
     ]
    },
    {
     "name": "stdout",
     "output_type": "stream",
     "text": [
      "is_good_loan logistic\n",
      "is_good_loan gbm\n",
      "is_good_loan nn\n",
      "is_good_loan svm\n",
      "is_good_loan tree\n",
      "is_high_credit logistic\n",
      "is_high_credit gbm\n",
      "is_high_credit nn\n",
      "is_high_credit svm\n",
      "is_high_credit tree\n",
      "Running Baseline Experiment\n",
      "Running Tasks Experiment\n",
      "Running Models Experiment\n",
      "Running Data Partitions Experiment\n",
      "is_good_loan logistic\n",
      "is_good_loan gbm\n",
      "is_good_loan nn\n",
      "is_good_loan svm\n",
      "is_good_loan tree\n",
      "is_high_credit logistic\n",
      "is_high_credit gbm\n",
      "is_high_credit nn\n",
      "is_high_credit svm\n"
     ]
    },
    {
     "name": "stderr",
     "output_type": "stream",
     "text": [
      "\n",
      " 20%|█████████                                    | 1/5 [00:03<00:15,  3.98s/it]\u001b[A"
     ]
    },
    {
     "name": "stdout",
     "output_type": "stream",
     "text": [
      "is_high_credit tree\n",
      "is_good_loan logistic\n",
      "is_good_loan gbm\n",
      "is_good_loan nn\n",
      "is_good_loan svm\n",
      "is_good_loan tree\n",
      "is_high_credit logistic\n",
      "is_high_credit gbm\n",
      "is_high_credit nn\n",
      "is_high_credit svm\n",
      "is_high_credit tree\n",
      "Running Baseline Experiment\n",
      "Running Tasks Experiment\n",
      "Running Models Experiment\n",
      "Running Data Partitions Experiment\n",
      "is_good_loan logistic\n",
      "is_good_loan gbm\n",
      "is_good_loan nn\n",
      "is_good_loan svm\n",
      "is_good_loan tree\n",
      "is_high_credit logistic\n",
      "is_high_credit gbm\n",
      "is_high_credit nn\n",
      "is_high_credit svm\n"
     ]
    },
    {
     "name": "stderr",
     "output_type": "stream",
     "text": [
      "\n",
      " 40%|██████████████████                           | 2/5 [00:08<00:12,  4.04s/it]\u001b[A"
     ]
    },
    {
     "name": "stdout",
     "output_type": "stream",
     "text": [
      "is_high_credit tree\n",
      "is_good_loan logistic\n",
      "is_good_loan gbm\n",
      "is_good_loan nn\n",
      "is_good_loan svm\n",
      "is_good_loan tree\n",
      "is_high_credit logistic\n",
      "is_high_credit gbm\n",
      "is_high_credit nn\n",
      "is_high_credit svm\n",
      "is_high_credit tree\n",
      "Running Baseline Experiment\n",
      "Running Tasks Experiment\n",
      "Running Models Experiment\n",
      "Running Data Partitions Experiment\n",
      "is_good_loan logistic\n",
      "is_good_loan gbm\n",
      "is_good_loan nn\n",
      "is_good_loan svm\n",
      "is_good_loan tree\n",
      "is_high_credit logistic\n",
      "is_high_credit gbm\n",
      "is_high_credit nn\n",
      "is_high_credit svm\n"
     ]
    },
    {
     "name": "stderr",
     "output_type": "stream",
     "text": [
      "\n",
      " 60%|███████████████████████████                  | 3/5 [00:12<00:08,  4.10s/it]\u001b[A"
     ]
    },
    {
     "name": "stdout",
     "output_type": "stream",
     "text": [
      "is_high_credit tree\n",
      "is_good_loan logistic\n",
      "is_good_loan gbm\n",
      "is_good_loan nn\n",
      "is_good_loan svm\n",
      "is_good_loan tree\n",
      "is_high_credit logistic\n",
      "is_high_credit gbm\n",
      "is_high_credit nn\n",
      "is_high_credit svm\n",
      "is_high_credit tree\n",
      "Running Baseline Experiment\n",
      "Running Tasks Experiment\n",
      "Running Models Experiment\n",
      "Running Data Partitions Experiment\n",
      "is_good_loan logistic\n",
      "is_good_loan gbm\n",
      "is_good_loan nn\n",
      "is_good_loan svm\n",
      "is_good_loan tree\n",
      "is_high_credit logistic\n",
      "is_high_credit gbm\n",
      "is_high_credit nn\n",
      "is_high_credit svm\n",
      "is_high_credit tree\n"
     ]
    },
    {
     "name": "stderr",
     "output_type": "stream",
     "text": [
      "\n",
      " 80%|████████████████████████████████████         | 4/5 [00:16<00:04,  4.07s/it]\u001b[A"
     ]
    },
    {
     "name": "stdout",
     "output_type": "stream",
     "text": [
      "is_good_loan logistic\n",
      "is_good_loan gbm\n",
      "is_good_loan nn\n",
      "is_good_loan svm\n",
      "is_good_loan tree\n",
      "is_high_credit logistic\n",
      "is_high_credit gbm\n",
      "is_high_credit nn\n",
      "is_high_credit svm\n",
      "is_high_credit tree\n",
      "Running Baseline Experiment\n",
      "Running Tasks Experiment\n",
      "Running Models Experiment\n",
      "Running Data Partitions Experiment\n",
      "is_good_loan logistic\n",
      "is_good_loan gbm\n",
      "is_good_loan nn\n",
      "is_good_loan svm\n",
      "is_good_loan tree\n",
      "is_high_credit logistic\n",
      "is_high_credit gbm\n",
      "is_high_credit nn\n",
      "is_high_credit svm\n"
     ]
    },
    {
     "name": "stderr",
     "output_type": "stream",
     "text": [
      "\n",
      "100%|█████████████████████████████████████████████| 5/5 [00:20<00:00,  4.08s/it]\u001b[A\n",
      " 22%|██████████                                   | 2/9 [00:40<02:20, 20.12s/it]"
     ]
    },
    {
     "name": "stdout",
     "output_type": "stream",
     "text": [
      "is_high_credit tree\n"
     ]
    },
    {
     "name": "stderr",
     "output_type": "stream",
     "text": [
      "\n",
      "  0%|                                                     | 0/5 [00:00<?, ?it/s]\u001b[A"
     ]
    },
    {
     "name": "stdout",
     "output_type": "stream",
     "text": [
      "is_good_loan logistic\n",
      "is_good_loan gbm\n",
      "is_good_loan nn\n",
      "is_good_loan svm\n",
      "is_good_loan tree\n",
      "is_high_credit logistic\n",
      "is_high_credit gbm\n",
      "is_high_credit nn\n",
      "is_high_credit svm\n",
      "is_high_credit tree\n",
      "Running Baseline Experiment\n",
      "Running Tasks Experiment\n",
      "Running Models Experiment\n",
      "Running Data Partitions Experiment\n",
      "is_good_loan logistic\n",
      "is_good_loan gbm\n",
      "is_good_loan nn\n",
      "is_good_loan svm\n",
      "is_good_loan tree\n",
      "is_high_credit logistic\n",
      "is_high_credit gbm\n",
      "is_high_credit nn\n"
     ]
    },
    {
     "name": "stderr",
     "output_type": "stream",
     "text": [
      "\n",
      " 20%|█████████                                    | 1/5 [00:04<00:16,  4.24s/it]\u001b[A"
     ]
    },
    {
     "name": "stdout",
     "output_type": "stream",
     "text": [
      "is_high_credit svm\n",
      "is_high_credit tree\n",
      "is_good_loan logistic\n",
      "is_good_loan gbm\n",
      "is_good_loan nn\n",
      "is_good_loan svm\n",
      "is_good_loan tree\n",
      "is_high_credit logistic\n",
      "is_high_credit gbm\n",
      "is_high_credit nn\n",
      "is_high_credit svm\n",
      "is_high_credit tree\n",
      "Running Baseline Experiment\n",
      "Running Tasks Experiment\n",
      "Running Models Experiment\n",
      "Running Data Partitions Experiment\n",
      "is_good_loan logistic\n",
      "is_good_loan gbm\n",
      "is_good_loan nn\n",
      "is_good_loan svm\n",
      "is_good_loan tree\n",
      "is_high_credit logistic\n",
      "is_high_credit gbm\n",
      "is_high_credit nn\n"
     ]
    },
    {
     "name": "stderr",
     "output_type": "stream",
     "text": [
      "\n",
      " 40%|██████████████████                           | 2/5 [00:08<00:12,  4.15s/it]\u001b[A"
     ]
    },
    {
     "name": "stdout",
     "output_type": "stream",
     "text": [
      "is_high_credit svm\n",
      "is_high_credit tree\n",
      "is_good_loan logistic\n",
      "is_good_loan gbm\n",
      "is_good_loan nn\n",
      "is_good_loan svm\n",
      "is_good_loan tree\n",
      "is_high_credit logistic\n",
      "is_high_credit gbm\n",
      "is_high_credit nn\n",
      "is_high_credit svm\n",
      "is_high_credit tree\n",
      "Running Baseline Experiment\n",
      "Running Tasks Experiment\n",
      "Running Models Experiment\n",
      "Running Data Partitions Experiment\n",
      "is_good_loan logistic\n",
      "is_good_loan gbm\n",
      "is_good_loan nn\n",
      "is_good_loan svm\n",
      "is_good_loan tree\n",
      "is_high_credit logistic\n",
      "is_high_credit gbm\n",
      "is_high_credit nn\n",
      "is_high_credit svm\n"
     ]
    },
    {
     "name": "stderr",
     "output_type": "stream",
     "text": [
      "\n",
      " 60%|███████████████████████████                  | 3/5 [00:12<00:08,  4.07s/it]\u001b[A"
     ]
    },
    {
     "name": "stdout",
     "output_type": "stream",
     "text": [
      "is_high_credit tree\n",
      "is_good_loan logistic\n",
      "is_good_loan gbm\n",
      "is_good_loan nn\n",
      "is_good_loan svm\n",
      "is_good_loan tree\n",
      "is_high_credit logistic\n",
      "is_high_credit gbm\n",
      "is_high_credit nn\n",
      "is_high_credit svm\n",
      "is_high_credit tree\n",
      "Running Baseline Experiment\n",
      "Running Tasks Experiment\n",
      "Running Models Experiment\n",
      "Running Data Partitions Experiment\n",
      "is_good_loan logistic\n",
      "is_good_loan gbm\n",
      "is_good_loan nn\n",
      "is_good_loan svm\n",
      "is_good_loan tree\n",
      "is_high_credit logistic\n",
      "is_high_credit gbm\n",
      "is_high_credit nn\n"
     ]
    },
    {
     "name": "stderr",
     "output_type": "stream",
     "text": [
      "\n",
      " 80%|████████████████████████████████████         | 4/5 [00:16<00:04,  4.03s/it]\u001b[A"
     ]
    },
    {
     "name": "stdout",
     "output_type": "stream",
     "text": [
      "is_high_credit svm\n",
      "is_high_credit tree\n",
      "is_good_loan logistic\n",
      "is_good_loan gbm\n",
      "is_good_loan nn\n",
      "is_good_loan svm\n",
      "is_good_loan tree\n",
      "is_high_credit logistic\n",
      "is_high_credit gbm\n",
      "is_high_credit nn\n",
      "is_high_credit svm\n",
      "is_high_credit tree\n",
      "Running Baseline Experiment\n",
      "Running Tasks Experiment\n",
      "Running Models Experiment\n",
      "Running Data Partitions Experiment\n",
      "is_good_loan logistic\n",
      "is_good_loan gbm\n",
      "is_good_loan nn\n",
      "is_good_loan svm\n",
      "is_good_loan tree\n",
      "is_high_credit logistic\n",
      "is_high_credit gbm\n",
      "is_high_credit nn\n"
     ]
    },
    {
     "name": "stderr",
     "output_type": "stream",
     "text": [
      "\n",
      "100%|█████████████████████████████████████████████| 5/5 [00:20<00:00,  4.10s/it]"
     ]
    },
    {
     "name": "stdout",
     "output_type": "stream",
     "text": [
      "is_high_credit svm\n",
      "is_high_credit tree\n"
     ]
    },
    {
     "name": "stderr",
     "output_type": "stream",
     "text": [
      "100%|█████████████████████████████████████████████| 5/5 [00:20<00:00,  4.10s/it]\n",
      " 33%|███████████████                              | 3/9 [01:00<02:01, 20.32s/it]\n",
      "  0%|                                                     | 0/5 [00:00<?, ?it/s]\u001b[A"
     ]
    },
    {
     "name": "stdout",
     "output_type": "stream",
     "text": [
      "is_good_loan logistic\n",
      "is_good_loan gbm\n",
      "is_good_loan nn\n",
      "is_good_loan svm\n",
      "is_good_loan tree\n",
      "is_high_credit logistic\n",
      "is_high_credit gbm\n",
      "is_high_credit nn\n",
      "is_high_credit svm\n",
      "is_high_credit tree\n",
      "Running Baseline Experiment\n",
      "Running Tasks Experiment\n",
      "Running Models Experiment\n",
      "Running Data Partitions Experiment\n",
      "is_good_loan logistic\n",
      "is_good_loan gbm\n",
      "is_good_loan nn\n",
      "is_good_loan svm\n",
      "is_good_loan tree\n",
      "is_high_credit logistic\n",
      "is_high_credit gbm\n",
      "is_high_credit nn\n"
     ]
    },
    {
     "name": "stderr",
     "output_type": "stream",
     "text": [
      "\n",
      " 20%|█████████                                    | 1/5 [00:04<00:16,  4.19s/it]\u001b[A"
     ]
    },
    {
     "name": "stdout",
     "output_type": "stream",
     "text": [
      "is_high_credit svm\n",
      "is_high_credit tree\n",
      "is_good_loan logistic\n",
      "is_good_loan gbm\n",
      "is_good_loan nn\n",
      "is_good_loan svm\n",
      "is_good_loan tree\n",
      "is_high_credit logistic\n",
      "is_high_credit gbm\n",
      "is_high_credit nn\n",
      "is_high_credit svm\n",
      "is_high_credit tree\n",
      "Running Baseline Experiment\n",
      "Running Tasks Experiment\n",
      "Running Models Experiment\n",
      "Running Data Partitions Experiment\n",
      "is_good_loan logistic\n",
      "is_good_loan gbm\n",
      "is_good_loan nn\n",
      "is_good_loan svm\n",
      "is_good_loan tree\n",
      "is_high_credit logistic\n",
      "is_high_credit gbm\n",
      "is_high_credit nn\n"
     ]
    },
    {
     "name": "stderr",
     "output_type": "stream",
     "text": [
      "\n",
      " 40%|██████████████████                           | 2/5 [00:08<00:12,  4.18s/it]\u001b[A"
     ]
    },
    {
     "name": "stdout",
     "output_type": "stream",
     "text": [
      "is_high_credit svm\n",
      "is_high_credit tree\n",
      "is_good_loan logistic\n",
      "is_good_loan gbm\n",
      "is_good_loan nn\n",
      "is_good_loan svm\n",
      "is_good_loan tree\n",
      "is_high_credit logistic\n",
      "is_high_credit gbm\n",
      "is_high_credit nn\n",
      "is_high_credit svm\n",
      "is_high_credit tree\n",
      "Running Baseline Experiment\n",
      "Running Tasks Experiment\n",
      "Running Models Experiment\n",
      "Running Data Partitions Experiment\n",
      "is_good_loan logistic\n",
      "is_good_loan gbm\n",
      "is_good_loan nn\n",
      "is_good_loan svm\n",
      "is_good_loan tree\n",
      "is_high_credit logistic\n",
      "is_high_credit gbm\n",
      "is_high_credit nn\n"
     ]
    },
    {
     "name": "stderr",
     "output_type": "stream",
     "text": [
      "\n",
      " 60%|███████████████████████████                  | 3/5 [00:12<00:08,  4.17s/it]\u001b[A"
     ]
    },
    {
     "name": "stdout",
     "output_type": "stream",
     "text": [
      "is_high_credit svm\n",
      "is_high_credit tree\n",
      "is_good_loan logistic\n",
      "is_good_loan gbm\n",
      "is_good_loan nn\n",
      "is_good_loan svm\n",
      "is_good_loan tree\n",
      "is_high_credit logistic\n",
      "is_high_credit gbm\n",
      "is_high_credit nn\n",
      "is_high_credit svm\n",
      "is_high_credit tree\n",
      "Running Baseline Experiment\n",
      "Running Tasks Experiment\n",
      "Running Models Experiment\n",
      "Running Data Partitions Experiment\n",
      "is_good_loan logistic\n",
      "is_good_loan gbm\n",
      "is_good_loan nn\n",
      "is_good_loan svm\n",
      "is_good_loan tree\n",
      "is_high_credit logistic\n",
      "is_high_credit gbm\n",
      "is_high_credit nn\n",
      "is_high_credit svm\n",
      "is_high_credit tree\n"
     ]
    },
    {
     "name": "stderr",
     "output_type": "stream",
     "text": [
      "\n",
      " 80%|████████████████████████████████████         | 4/5 [00:16<00:04,  4.25s/it]\u001b[A"
     ]
    },
    {
     "name": "stdout",
     "output_type": "stream",
     "text": [
      "is_good_loan logistic\n",
      "is_good_loan gbm\n",
      "is_good_loan nn\n",
      "is_good_loan svm\n",
      "is_good_loan tree\n",
      "is_high_credit logistic\n",
      "is_high_credit gbm\n",
      "is_high_credit nn\n",
      "is_high_credit svm\n",
      "is_high_credit tree\n",
      "Running Baseline Experiment\n",
      "Running Tasks Experiment\n",
      "Running Models Experiment\n",
      "Running Data Partitions Experiment\n",
      "is_good_loan logistic\n",
      "is_good_loan gbm\n",
      "is_good_loan nn\n",
      "is_good_loan svm\n",
      "is_good_loan tree\n",
      "is_high_credit logistic\n",
      "is_high_credit gbm\n",
      "is_high_credit nn\n"
     ]
    },
    {
     "name": "stderr",
     "output_type": "stream",
     "text": [
      "\n",
      "100%|█████████████████████████████████████████████| 5/5 [00:20<00:00,  4.20s/it]\u001b[A\n",
      " 44%|████████████████████                         | 4/9 [01:21<01:42, 20.58s/it]"
     ]
    },
    {
     "name": "stdout",
     "output_type": "stream",
     "text": [
      "is_high_credit svm\n",
      "is_high_credit tree\n"
     ]
    },
    {
     "name": "stderr",
     "output_type": "stream",
     "text": [
      "\n",
      "  0%|                                                     | 0/5 [00:00<?, ?it/s]\u001b[A"
     ]
    },
    {
     "name": "stdout",
     "output_type": "stream",
     "text": [
      "is_good_loan logistic\n",
      "is_good_loan gbm\n",
      "is_good_loan nn\n",
      "is_good_loan svm\n",
      "is_good_loan tree\n",
      "is_high_credit logistic\n",
      "is_high_credit gbm\n",
      "is_high_credit nn\n",
      "is_high_credit svm\n",
      "is_high_credit tree\n",
      "Running Baseline Experiment\n",
      "Running Tasks Experiment\n",
      "Running Models Experiment\n",
      "Running Data Partitions Experiment\n",
      "is_good_loan logistic\n",
      "is_good_loan gbm\n",
      "is_good_loan nn\n",
      "is_good_loan svm\n",
      "is_good_loan tree\n",
      "is_high_credit logistic\n",
      "is_high_credit gbm\n",
      "is_high_credit nn\n"
     ]
    },
    {
     "name": "stderr",
     "output_type": "stream",
     "text": [
      "\n",
      " 20%|█████████                                    | 1/5 [00:04<00:17,  4.34s/it]\u001b[A"
     ]
    },
    {
     "name": "stdout",
     "output_type": "stream",
     "text": [
      "is_high_credit svm\n",
      "is_high_credit tree\n",
      "is_good_loan logistic\n",
      "is_good_loan gbm\n",
      "is_good_loan nn\n",
      "is_good_loan svm\n",
      "is_good_loan tree\n",
      "is_high_credit logistic\n",
      "is_high_credit gbm\n",
      "is_high_credit nn\n",
      "is_high_credit svm\n",
      "is_high_credit tree\n",
      "Running Baseline Experiment\n",
      "Running Tasks Experiment\n",
      "Running Models Experiment\n",
      "Running Data Partitions Experiment\n",
      "is_good_loan logistic\n",
      "is_good_loan gbm\n",
      "is_good_loan nn\n",
      "is_good_loan svm\n",
      "is_good_loan tree\n",
      "is_high_credit logistic\n",
      "is_high_credit gbm\n",
      "is_high_credit nn\n"
     ]
    },
    {
     "name": "stderr",
     "output_type": "stream",
     "text": [
      "\n",
      " 40%|██████████████████                           | 2/5 [00:08<00:13,  4.51s/it]\u001b[A"
     ]
    },
    {
     "name": "stdout",
     "output_type": "stream",
     "text": [
      "is_high_credit svm\n",
      "is_high_credit tree\n",
      "is_good_loan logistic\n",
      "is_good_loan gbm\n",
      "is_good_loan nn\n",
      "is_good_loan svm\n",
      "is_good_loan tree\n",
      "is_high_credit logistic\n",
      "is_high_credit gbm\n",
      "is_high_credit nn\n",
      "is_high_credit svm\n",
      "is_high_credit tree\n",
      "Running Baseline Experiment\n",
      "Running Tasks Experiment\n",
      "Running Models Experiment\n",
      "Running Data Partitions Experiment\n",
      "is_good_loan logistic\n",
      "is_good_loan gbm\n",
      "is_good_loan nn\n",
      "is_good_loan svm\n",
      "is_good_loan tree\n",
      "is_high_credit logistic\n",
      "is_high_credit gbm\n",
      "is_high_credit nn\n"
     ]
    },
    {
     "name": "stderr",
     "output_type": "stream",
     "text": [
      "\n",
      " 60%|███████████████████████████                  | 3/5 [00:13<00:08,  4.43s/it]\u001b[A"
     ]
    },
    {
     "name": "stdout",
     "output_type": "stream",
     "text": [
      "is_high_credit svm\n",
      "is_high_credit tree\n",
      "is_good_loan logistic\n",
      "is_good_loan gbm\n",
      "is_good_loan nn\n",
      "is_good_loan svm\n",
      "is_good_loan tree\n",
      "is_high_credit logistic\n",
      "is_high_credit gbm\n",
      "is_high_credit nn\n",
      "is_high_credit svm\n",
      "is_high_credit tree\n",
      "Running Baseline Experiment\n",
      "Running Tasks Experiment\n",
      "Running Models Experiment\n",
      "Running Data Partitions Experiment\n",
      "is_good_loan logistic\n",
      "is_good_loan gbm\n",
      "is_good_loan nn\n",
      "is_good_loan svm\n",
      "is_good_loan tree\n",
      "is_high_credit logistic\n",
      "is_high_credit gbm\n",
      "is_high_credit nn\n"
     ]
    },
    {
     "name": "stderr",
     "output_type": "stream",
     "text": [
      "\n",
      " 80%|████████████████████████████████████         | 4/5 [00:17<00:04,  4.41s/it]\u001b[A"
     ]
    },
    {
     "name": "stdout",
     "output_type": "stream",
     "text": [
      "is_high_credit svm\n",
      "is_high_credit tree\n",
      "is_good_loan logistic\n",
      "is_good_loan gbm\n",
      "is_good_loan nn\n",
      "is_good_loan svm\n",
      "is_good_loan tree\n",
      "is_high_credit logistic\n",
      "is_high_credit gbm\n",
      "is_high_credit nn\n",
      "is_high_credit svm\n",
      "is_high_credit tree\n",
      "Running Baseline Experiment\n",
      "Running Tasks Experiment\n",
      "Running Models Experiment\n",
      "Running Data Partitions Experiment\n",
      "is_good_loan logistic\n",
      "is_good_loan gbm\n",
      "is_good_loan nn\n",
      "is_good_loan svm\n",
      "is_good_loan tree\n",
      "is_high_credit logistic\n",
      "is_high_credit gbm\n",
      "is_high_credit nn\n",
      "is_high_credit svm\n",
      "is_high_credit tree\n"
     ]
    },
    {
     "name": "stderr",
     "output_type": "stream",
     "text": [
      "\n",
      "100%|█████████████████████████████████████████████| 5/5 [00:22<00:00,  4.42s/it]\u001b[A\n",
      " 56%|█████████████████████████                    | 5/9 [01:43<01:24, 21.14s/it]\n",
      "  0%|                                                     | 0/5 [00:00<?, ?it/s]\u001b[A"
     ]
    },
    {
     "name": "stdout",
     "output_type": "stream",
     "text": [
      "is_good_loan logistic\n",
      "is_good_loan gbm\n",
      "is_good_loan nn\n",
      "is_good_loan svm\n",
      "is_good_loan tree\n",
      "is_high_credit logistic\n",
      "is_high_credit gbm\n",
      "is_high_credit nn\n",
      "is_high_credit svm\n",
      "is_high_credit tree\n",
      "Running Baseline Experiment\n",
      "Running Tasks Experiment\n",
      "Running Models Experiment\n",
      "Running Data Partitions Experiment\n",
      "is_good_loan logistic\n",
      "is_good_loan gbm\n",
      "is_good_loan nn\n",
      "is_good_loan svm\n",
      "is_good_loan tree\n",
      "is_high_credit logistic\n",
      "is_high_credit gbm\n",
      "is_high_credit nn\n"
     ]
    },
    {
     "name": "stderr",
     "output_type": "stream",
     "text": [
      "\n",
      " 20%|█████████                                    | 1/5 [00:04<00:17,  4.45s/it]\u001b[A"
     ]
    },
    {
     "name": "stdout",
     "output_type": "stream",
     "text": [
      "is_high_credit svm\n",
      "is_high_credit tree\n",
      "is_good_loan logistic\n",
      "is_good_loan gbm\n",
      "is_good_loan nn\n",
      "is_good_loan svm\n",
      "is_good_loan tree\n",
      "is_high_credit logistic\n",
      "is_high_credit gbm\n",
      "is_high_credit nn\n",
      "is_high_credit svm\n",
      "is_high_credit tree\n",
      "Running Baseline Experiment\n",
      "Running Tasks Experiment\n",
      "Running Models Experiment\n",
      "Running Data Partitions Experiment\n",
      "is_good_loan logistic\n",
      "is_good_loan gbm\n",
      "is_good_loan nn\n",
      "is_good_loan svm\n",
      "is_good_loan tree\n",
      "is_high_credit logistic\n",
      "is_high_credit gbm\n",
      "is_high_credit nn\n"
     ]
    },
    {
     "name": "stderr",
     "output_type": "stream",
     "text": [
      "\n",
      " 40%|██████████████████                           | 2/5 [00:08<00:13,  4.45s/it]"
     ]
    },
    {
     "name": "stdout",
     "output_type": "stream",
     "text": [
      "is_high_credit svm\n",
      "is_high_credit tree\n"
     ]
    },
    {
     "name": "stderr",
     "output_type": "stream",
     "text": [
      "\u001b[A"
     ]
    },
    {
     "name": "stdout",
     "output_type": "stream",
     "text": [
      "is_good_loan logistic\n",
      "is_good_loan gbm\n",
      "is_good_loan nn\n",
      "is_good_loan svm\n",
      "is_good_loan tree\n",
      "is_high_credit logistic\n",
      "is_high_credit gbm\n",
      "is_high_credit nn\n",
      "is_high_credit svm\n",
      "is_high_credit tree\n",
      "Running Baseline Experiment\n",
      "Running Tasks Experiment\n",
      "Running Models Experiment\n",
      "Running Data Partitions Experiment\n",
      "is_good_loan logistic\n",
      "is_good_loan gbm\n",
      "is_good_loan nn\n",
      "is_good_loan svm\n",
      "is_good_loan tree\n",
      "is_high_credit logistic\n",
      "is_high_credit gbm\n",
      "is_high_credit nn\n",
      "is_high_credit svm\n",
      "is_high_credit tree\n"
     ]
    },
    {
     "name": "stderr",
     "output_type": "stream",
     "text": [
      "\n",
      " 60%|███████████████████████████                  | 3/5 [00:13<00:08,  4.49s/it]\u001b[A"
     ]
    },
    {
     "name": "stdout",
     "output_type": "stream",
     "text": [
      "is_good_loan logistic\n",
      "is_good_loan gbm\n",
      "is_good_loan nn\n",
      "is_good_loan svm\n",
      "is_good_loan tree\n",
      "is_high_credit logistic\n",
      "is_high_credit gbm\n",
      "is_high_credit nn\n",
      "is_high_credit svm\n",
      "is_high_credit tree\n",
      "Running Baseline Experiment\n",
      "Running Tasks Experiment\n",
      "Running Models Experiment\n",
      "Running Data Partitions Experiment\n",
      "is_good_loan logistic\n",
      "is_good_loan gbm\n",
      "is_good_loan nn\n",
      "is_good_loan svm\n",
      "is_good_loan tree\n",
      "is_high_credit logistic\n",
      "is_high_credit gbm\n",
      "is_high_credit nn\n",
      "is_high_credit svm\n",
      "is_high_credit tree\n"
     ]
    },
    {
     "name": "stderr",
     "output_type": "stream",
     "text": [
      "\n",
      " 80%|████████████████████████████████████         | 4/5 [00:18<00:04,  4.56s/it]\u001b[A"
     ]
    },
    {
     "name": "stdout",
     "output_type": "stream",
     "text": [
      "is_good_loan logistic\n",
      "is_good_loan gbm\n",
      "is_good_loan nn\n",
      "is_good_loan svm\n",
      "is_good_loan tree\n",
      "is_high_credit logistic\n",
      "is_high_credit gbm\n",
      "is_high_credit nn\n",
      "is_high_credit svm\n",
      "is_high_credit tree\n",
      "Running Baseline Experiment\n",
      "Running Tasks Experiment\n",
      "Running Models Experiment\n",
      "Running Data Partitions Experiment\n",
      "is_good_loan logistic\n",
      "is_good_loan gbm\n",
      "is_good_loan nn\n",
      "is_good_loan svm\n",
      "is_good_loan tree\n",
      "is_high_credit logistic\n",
      "is_high_credit gbm\n",
      "is_high_credit nn\n",
      "is_high_credit svm\n",
      "is_high_credit tree\n"
     ]
    },
    {
     "name": "stderr",
     "output_type": "stream",
     "text": [
      "\n",
      "100%|█████████████████████████████████████████████| 5/5 [00:22<00:00,  4.55s/it]\u001b[A\n",
      " 67%|██████████████████████████████               | 6/9 [02:06<01:05, 21.69s/it]\n",
      "  0%|                                                     | 0/5 [00:00<?, ?it/s]\u001b[A"
     ]
    },
    {
     "name": "stdout",
     "output_type": "stream",
     "text": [
      "is_good_loan logistic\n",
      "is_good_loan gbm\n",
      "is_good_loan nn\n",
      "is_good_loan svm\n",
      "is_good_loan tree\n",
      "is_high_credit logistic\n",
      "is_high_credit gbm\n",
      "is_high_credit nn\n",
      "is_high_credit svm\n",
      "is_high_credit tree\n",
      "Running Baseline Experiment\n",
      "Running Tasks Experiment\n",
      "Running Models Experiment\n",
      "Running Data Partitions Experiment\n",
      "is_good_loan logistic\n",
      "is_good_loan gbm\n",
      "is_good_loan nn\n",
      "is_good_loan svm\n",
      "is_good_loan tree\n",
      "is_high_credit logistic\n",
      "is_high_credit gbm\n",
      "is_high_credit nn\n"
     ]
    },
    {
     "name": "stderr",
     "output_type": "stream",
     "text": [
      "\n",
      " 20%|█████████                                    | 1/5 [00:04<00:16,  4.19s/it]\u001b[A"
     ]
    },
    {
     "name": "stdout",
     "output_type": "stream",
     "text": [
      "is_high_credit svm\n",
      "is_high_credit tree\n",
      "is_good_loan logistic\n",
      "is_good_loan gbm\n",
      "is_good_loan nn\n",
      "is_good_loan svm\n",
      "is_good_loan tree\n",
      "is_high_credit logistic\n",
      "is_high_credit gbm\n",
      "is_high_credit nn\n",
      "is_high_credit svm\n",
      "is_high_credit tree\n",
      "Running Baseline Experiment\n",
      "Running Tasks Experiment\n",
      "Running Models Experiment\n",
      "Running Data Partitions Experiment\n",
      "is_good_loan logistic\n",
      "is_good_loan gbm\n",
      "is_good_loan nn\n",
      "is_good_loan svm\n",
      "is_good_loan tree\n",
      "is_high_credit logistic\n",
      "is_high_credit gbm\n",
      "is_high_credit nn\n"
     ]
    },
    {
     "name": "stderr",
     "output_type": "stream",
     "text": [
      "\n",
      " 40%|██████████████████                           | 2/5 [00:08<00:13,  4.42s/it]\u001b[A"
     ]
    },
    {
     "name": "stdout",
     "output_type": "stream",
     "text": [
      "is_high_credit svm\n",
      "is_high_credit tree\n",
      "is_good_loan logistic\n",
      "is_good_loan gbm\n",
      "is_good_loan nn\n",
      "is_good_loan svm\n",
      "is_good_loan tree\n",
      "is_high_credit logistic\n",
      "is_high_credit gbm\n",
      "is_high_credit nn\n",
      "is_high_credit svm\n",
      "is_high_credit tree\n",
      "Running Baseline Experiment\n",
      "Running Tasks Experiment\n",
      "Running Models Experiment\n",
      "Running Data Partitions Experiment\n",
      "is_good_loan logistic\n",
      "is_good_loan gbm\n",
      "is_good_loan nn\n",
      "is_good_loan svm\n",
      "is_good_loan tree\n",
      "is_high_credit logistic\n",
      "is_high_credit gbm\n",
      "is_high_credit nn\n"
     ]
    },
    {
     "name": "stderr",
     "output_type": "stream",
     "text": [
      "\n",
      " 60%|███████████████████████████                  | 3/5 [00:12<00:08,  4.32s/it]\u001b[A"
     ]
    },
    {
     "name": "stdout",
     "output_type": "stream",
     "text": [
      "is_high_credit svm\n",
      "is_high_credit tree\n",
      "is_good_loan logistic\n",
      "is_good_loan gbm\n",
      "is_good_loan nn\n",
      "is_good_loan svm\n",
      "is_good_loan tree\n",
      "is_high_credit logistic\n",
      "is_high_credit gbm\n",
      "is_high_credit nn\n",
      "is_high_credit svm\n",
      "is_high_credit tree\n",
      "Running Baseline Experiment\n",
      "Running Tasks Experiment\n",
      "Running Models Experiment\n",
      "Running Data Partitions Experiment\n",
      "is_good_loan logistic\n",
      "is_good_loan gbm\n",
      "is_good_loan nn\n",
      "is_good_loan svm\n",
      "is_good_loan tree\n",
      "is_high_credit logistic\n",
      "is_high_credit gbm\n",
      "is_high_credit nn\n"
     ]
    },
    {
     "name": "stderr",
     "output_type": "stream",
     "text": [
      "\n",
      " 80%|████████████████████████████████████         | 4/5 [00:17<00:04,  4.32s/it]\u001b[A"
     ]
    },
    {
     "name": "stdout",
     "output_type": "stream",
     "text": [
      "is_high_credit svm\n",
      "is_high_credit tree\n",
      "is_good_loan logistic\n",
      "is_good_loan gbm\n",
      "is_good_loan nn\n",
      "is_good_loan svm\n",
      "is_good_loan tree\n",
      "is_high_credit logistic\n",
      "is_high_credit gbm\n",
      "is_high_credit nn\n",
      "is_high_credit svm\n",
      "is_high_credit tree\n",
      "Running Baseline Experiment\n",
      "Running Tasks Experiment\n",
      "Running Models Experiment\n",
      "Running Data Partitions Experiment\n",
      "is_good_loan logistic\n",
      "is_good_loan gbm\n",
      "is_good_loan nn\n",
      "is_good_loan svm\n",
      "is_good_loan tree\n",
      "is_high_credit logistic\n",
      "is_high_credit gbm\n",
      "is_high_credit nn\n"
     ]
    },
    {
     "name": "stderr",
     "output_type": "stream",
     "text": [
      "\n",
      "100%|█████████████████████████████████████████████| 5/5 [00:21<00:00,  4.29s/it]\u001b[A\n",
      " 78%|███████████████████████████████████          | 7/9 [02:27<00:43, 21.61s/it]"
     ]
    },
    {
     "name": "stdout",
     "output_type": "stream",
     "text": [
      "is_high_credit svm\n",
      "is_high_credit tree\n"
     ]
    },
    {
     "name": "stderr",
     "output_type": "stream",
     "text": [
      "\n",
      "  0%|                                                     | 0/5 [00:00<?, ?it/s]\u001b[A"
     ]
    },
    {
     "name": "stdout",
     "output_type": "stream",
     "text": [
      "is_good_loan logistic\n",
      "is_good_loan gbm\n",
      "is_good_loan nn\n",
      "is_good_loan svm\n",
      "is_good_loan tree\n",
      "is_high_credit logistic\n",
      "is_high_credit gbm\n",
      "is_high_credit nn\n",
      "is_high_credit svm\n",
      "is_high_credit tree\n",
      "Running Baseline Experiment\n",
      "Running Tasks Experiment\n",
      "Running Models Experiment\n",
      "Running Data Partitions Experiment\n",
      "is_good_loan logistic\n",
      "is_good_loan gbm\n",
      "is_good_loan nn\n",
      "is_good_loan svm\n",
      "is_good_loan tree\n",
      "is_high_credit logistic\n",
      "is_high_credit gbm\n",
      "is_high_credit nn\n"
     ]
    },
    {
     "name": "stderr",
     "output_type": "stream",
     "text": [
      "\n",
      " 20%|█████████                                    | 1/5 [00:04<00:16,  4.12s/it]\u001b[A"
     ]
    },
    {
     "name": "stdout",
     "output_type": "stream",
     "text": [
      "is_high_credit svm\n",
      "is_high_credit tree\n",
      "is_good_loan logistic\n",
      "is_good_loan gbm\n",
      "is_good_loan nn\n",
      "is_good_loan svm\n",
      "is_good_loan tree\n",
      "is_high_credit logistic\n",
      "is_high_credit gbm\n",
      "is_high_credit nn\n",
      "is_high_credit svm\n",
      "is_high_credit tree\n",
      "Running Baseline Experiment\n",
      "Running Tasks Experiment\n",
      "Running Models Experiment\n",
      "Running Data Partitions Experiment\n",
      "is_good_loan logistic\n",
      "is_good_loan gbm\n",
      "is_good_loan nn\n",
      "is_good_loan svm\n",
      "is_good_loan tree\n",
      "is_high_credit logistic\n",
      "is_high_credit gbm\n",
      "is_high_credit nn\n"
     ]
    },
    {
     "name": "stderr",
     "output_type": "stream",
     "text": [
      "\n",
      " 40%|██████████████████                           | 2/5 [00:08<00:12,  4.08s/it]\u001b[A"
     ]
    },
    {
     "name": "stdout",
     "output_type": "stream",
     "text": [
      "is_high_credit svm\n",
      "is_high_credit tree\n",
      "is_good_loan logistic\n",
      "is_good_loan gbm\n",
      "is_good_loan nn\n",
      "is_good_loan svm\n",
      "is_good_loan tree\n",
      "is_high_credit logistic\n",
      "is_high_credit gbm\n",
      "is_high_credit nn\n",
      "is_high_credit svm\n",
      "is_high_credit tree\n",
      "Running Baseline Experiment\n",
      "Running Tasks Experiment\n",
      "Running Models Experiment\n",
      "Running Data Partitions Experiment\n",
      "is_good_loan logistic\n",
      "is_good_loan gbm\n",
      "is_good_loan nn\n",
      "is_good_loan svm\n",
      "is_good_loan tree\n",
      "is_high_credit logistic\n",
      "is_high_credit gbm\n",
      "is_high_credit nn\n"
     ]
    },
    {
     "name": "stderr",
     "output_type": "stream",
     "text": [
      "\n",
      " 60%|███████████████████████████                  | 3/5 [00:12<00:08,  4.09s/it]\u001b[A"
     ]
    },
    {
     "name": "stdout",
     "output_type": "stream",
     "text": [
      "is_high_credit svm\n",
      "is_high_credit tree\n",
      "is_good_loan logistic\n",
      "is_good_loan gbm\n",
      "is_good_loan nn\n",
      "is_good_loan svm\n",
      "is_good_loan tree\n",
      "is_high_credit logistic\n",
      "is_high_credit gbm\n",
      "is_high_credit nn\n",
      "is_high_credit svm\n",
      "is_high_credit tree\n",
      "Running Baseline Experiment\n",
      "Running Tasks Experiment\n",
      "Running Models Experiment\n",
      "Running Data Partitions Experiment\n",
      "is_good_loan logistic\n",
      "is_good_loan gbm\n",
      "is_good_loan nn\n",
      "is_good_loan svm\n",
      "is_good_loan tree\n",
      "is_high_credit logistic\n",
      "is_high_credit gbm\n",
      "is_high_credit nn\n"
     ]
    },
    {
     "name": "stderr",
     "output_type": "stream",
     "text": [
      "\n",
      " 80%|████████████████████████████████████         | 4/5 [00:16<00:04,  4.06s/it]\u001b[A"
     ]
    },
    {
     "name": "stdout",
     "output_type": "stream",
     "text": [
      "is_high_credit svm\n",
      "is_high_credit tree\n",
      "is_good_loan logistic\n",
      "is_good_loan gbm\n",
      "is_good_loan nn\n",
      "is_good_loan svm\n",
      "is_good_loan tree\n",
      "is_high_credit logistic\n",
      "is_high_credit gbm\n",
      "is_high_credit nn\n",
      "is_high_credit svm\n",
      "is_high_credit tree\n",
      "Running Baseline Experiment\n",
      "Running Tasks Experiment\n",
      "Running Models Experiment\n",
      "Running Data Partitions Experiment\n",
      "is_good_loan logistic\n",
      "is_good_loan gbm\n",
      "is_good_loan nn\n",
      "is_good_loan svm\n",
      "is_good_loan tree\n",
      "is_high_credit logistic\n",
      "is_high_credit gbm\n",
      "is_high_credit nn\n"
     ]
    },
    {
     "name": "stderr",
     "output_type": "stream",
     "text": [
      "\n",
      "100%|█████████████████████████████████████████████| 5/5 [00:20<00:00,  4.05s/it]\u001b[A\n",
      " 89%|████████████████████████████████████████     | 8/9 [02:48<00:21, 21.18s/it]"
     ]
    },
    {
     "name": "stdout",
     "output_type": "stream",
     "text": [
      "is_high_credit svm\n",
      "is_high_credit tree\n"
     ]
    },
    {
     "name": "stderr",
     "output_type": "stream",
     "text": [
      "\n",
      "  0%|                                                     | 0/5 [00:00<?, ?it/s]\u001b[A"
     ]
    },
    {
     "name": "stdout",
     "output_type": "stream",
     "text": [
      "is_good_loan logistic\n",
      "is_good_loan gbm\n",
      "is_good_loan nn\n",
      "is_good_loan svm\n",
      "is_good_loan tree\n",
      "is_high_credit logistic\n",
      "is_high_credit gbm\n",
      "is_high_credit nn\n",
      "is_high_credit svm\n",
      "is_high_credit tree\n",
      "Running Baseline Experiment\n",
      "Running Tasks Experiment\n",
      "Running Models Experiment\n",
      "Running Data Partitions Experiment\n",
      "is_good_loan logistic\n",
      "is_good_loan gbm\n",
      "is_good_loan nn\n",
      "is_good_loan svm\n",
      "is_good_loan tree\n",
      "is_high_credit logistic\n",
      "is_high_credit gbm\n",
      "is_high_credit nn\n"
     ]
    },
    {
     "name": "stderr",
     "output_type": "stream",
     "text": [
      "\n",
      " 20%|█████████                                    | 1/5 [00:03<00:15,  3.84s/it]\u001b[A"
     ]
    },
    {
     "name": "stdout",
     "output_type": "stream",
     "text": [
      "is_high_credit svm\n",
      "is_high_credit tree\n",
      "is_good_loan logistic\n",
      "is_good_loan gbm\n",
      "is_good_loan nn\n",
      "is_good_loan svm\n",
      "is_good_loan tree\n",
      "is_high_credit logistic\n",
      "is_high_credit gbm\n",
      "is_high_credit nn\n",
      "is_high_credit svm\n",
      "is_high_credit tree\n",
      "Running Baseline Experiment\n",
      "Running Tasks Experiment\n",
      "Running Models Experiment\n",
      "Running Data Partitions Experiment\n",
      "is_good_loan logistic\n",
      "is_good_loan gbm\n",
      "is_good_loan nn\n",
      "is_good_loan svm\n",
      "is_good_loan tree\n",
      "is_high_credit logistic\n",
      "is_high_credit gbm\n",
      "is_high_credit nn\n",
      "is_high_credit svm\n"
     ]
    },
    {
     "name": "stderr",
     "output_type": "stream",
     "text": [
      "\n",
      " 40%|██████████████████                           | 2/5 [00:07<00:11,  3.79s/it]\u001b[A"
     ]
    },
    {
     "name": "stdout",
     "output_type": "stream",
     "text": [
      "is_high_credit tree\n",
      "is_good_loan logistic\n",
      "is_good_loan gbm\n",
      "is_good_loan nn\n",
      "is_good_loan svm\n",
      "is_good_loan tree\n",
      "is_high_credit logistic\n",
      "is_high_credit gbm\n",
      "is_high_credit nn\n",
      "is_high_credit svm\n",
      "is_high_credit tree\n",
      "Running Baseline Experiment\n",
      "Running Tasks Experiment\n",
      "Running Models Experiment\n",
      "Running Data Partitions Experiment\n",
      "is_good_loan logistic\n",
      "is_good_loan gbm\n",
      "is_good_loan nn\n",
      "is_good_loan svm\n",
      "is_good_loan tree\n",
      "is_high_credit logistic\n",
      "is_high_credit gbm\n",
      "is_high_credit nn\n",
      "is_high_credit svm\n"
     ]
    },
    {
     "name": "stderr",
     "output_type": "stream",
     "text": [
      "\n",
      " 60%|███████████████████████████                  | 3/5 [00:11<00:07,  3.95s/it]\u001b[A"
     ]
    },
    {
     "name": "stdout",
     "output_type": "stream",
     "text": [
      "is_high_credit tree\n",
      "is_good_loan logistic\n",
      "is_good_loan gbm\n",
      "is_good_loan nn\n",
      "is_good_loan svm\n",
      "is_good_loan tree\n",
      "is_high_credit logistic\n",
      "is_high_credit gbm\n",
      "is_high_credit nn\n",
      "is_high_credit svm\n",
      "is_high_credit tree\n",
      "Running Baseline Experiment\n",
      "Running Tasks Experiment\n",
      "Running Models Experiment\n",
      "Running Data Partitions Experiment\n",
      "is_good_loan logistic\n",
      "is_good_loan gbm\n",
      "is_good_loan nn\n",
      "is_good_loan svm\n",
      "is_good_loan tree\n",
      "is_high_credit logistic\n",
      "is_high_credit gbm\n",
      "is_high_credit nn\n",
      "is_high_credit svm\n"
     ]
    },
    {
     "name": "stderr",
     "output_type": "stream",
     "text": [
      "\n",
      " 80%|████████████████████████████████████         | 4/5 [00:15<00:03,  3.84s/it]\u001b[A"
     ]
    },
    {
     "name": "stdout",
     "output_type": "stream",
     "text": [
      "is_high_credit tree\n",
      "is_good_loan logistic\n",
      "is_good_loan gbm\n",
      "is_good_loan nn\n",
      "is_good_loan svm\n",
      "is_good_loan tree\n",
      "is_high_credit logistic\n",
      "is_high_credit gbm\n",
      "is_high_credit nn\n",
      "is_high_credit svm\n",
      "is_high_credit tree\n",
      "Running Baseline Experiment\n",
      "Running Tasks Experiment\n",
      "Running Models Experiment\n",
      "Running Data Partitions Experiment\n",
      "is_good_loan logistic\n",
      "is_good_loan gbm\n",
      "is_good_loan nn\n",
      "is_good_loan svm\n",
      "is_good_loan tree\n",
      "is_high_credit logistic\n",
      "is_high_credit gbm\n",
      "is_high_credit nn\n"
     ]
    },
    {
     "name": "stderr",
     "output_type": "stream",
     "text": [
      "\n",
      "100%|█████████████████████████████████████████████| 5/5 [00:19<00:00,  3.86s/it]\u001b[A\n",
      "100%|█████████████████████████████████████████████| 9/9 [03:07<00:00, 20.84s/it]"
     ]
    },
    {
     "name": "stdout",
     "output_type": "stream",
     "text": [
      "is_high_credit svm\n",
      "is_high_credit tree\n"
     ]
    },
    {
     "name": "stderr",
     "output_type": "stream",
     "text": [
      "\n"
     ]
    }
   ],
   "source": [
    "data_scales = [10, 9, 8, 7, 6, 5, 4, 3, 2]\n",
    "random_seeds = list(range(5))\n",
    "\n",
    "results = []\n",
    "\n",
    "for data_scale in tqdm(data_scales):\n",
    "    for random_seed in tqdm(random_seeds):\n",
    "        exp = Experiment(df, features, protected_attribute, task_types,\n",
    "                             model_types, random_thresholds, n_train, n_test, random_seed, data_scale)\n",
    "\n",
    "        exp.pretrain_models()\n",
    "        results.append(exp.experiment_baseline())\n",
    "        results.append(exp.experiment_tasks())\n",
    "        results.append(exp.experiment_models())\n",
    "        \n",
    "        results.append(exp.experiment_partitions(min(5, data_scale)))\n",
    "results = pd.concat(results)\n",
    "results.to_csv(\"german_credit_results.csv\", index=False)"
   ]
  },
  {
   "cell_type": "code",
   "execution_count": null,
   "id": "6237bc8c",
   "metadata": {},
   "outputs": [],
   "source": []
  }
 ],
 "metadata": {
  "kernelspec": {
   "display_name": "Python 3 (ipykernel)",
   "language": "python",
   "name": "python3"
  },
  "language_info": {
   "codemirror_mode": {
    "name": "ipython",
    "version": 3
   },
   "file_extension": ".py",
   "mimetype": "text/x-python",
   "name": "python",
   "nbconvert_exporter": "python",
   "pygments_lexer": "ipython3",
   "version": "3.10.9"
  }
 },
 "nbformat": 4,
 "nbformat_minor": 5
}
