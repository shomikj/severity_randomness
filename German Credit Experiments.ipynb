{
 "cells": [
  {
   "cell_type": "code",
   "execution_count": 1,
   "id": "3be97283",
   "metadata": {},
   "outputs": [],
   "source": [
    "import pandas as pd\n",
    "from tqdm import tqdm\n",
    "from experiments import Experiment"
   ]
  },
  {
   "cell_type": "code",
   "execution_count": 2,
   "id": "cc22e1b9",
   "metadata": {},
   "outputs": [],
   "source": [
    "df = pd.read_csv('../data/german_credit.csv')"
   ]
  },
  {
   "cell_type": "code",
   "execution_count": 3,
   "id": "6a79e979",
   "metadata": {},
   "outputs": [],
   "source": [
    "features = [\n",
    "'status_checking_account',\n",
    "'duration_in_month',\n",
    "'credit_history',\n",
    "'purpose',\n",
    "'savings',\n",
    "'employement_since',\n",
    "'installment_rate',\n",
    "'debters',\n",
    "'resident_since',\n",
    "'property',\n",
    "'age',\n",
    "'other_installments',\n",
    "'housing',\n",
    "'num_credits',\n",
    "'job',\n",
    "'num_liable',\n",
    "'telephone',\n",
    "'foreign_worker'\n",
    "]\n",
    "protected_attribute = \"gender\"\n",
    "task_types =  [\"is_good_loan\", \"is_high_credit\"]\n",
    "model_types = [\"logistic\", \"gbm\", \"nn\", \"svm\", \"tree\"]\n",
    "n_train = 800\n",
    "n_test = 200"
   ]
  },
  {
   "cell_type": "markdown",
   "id": "5de05ea6",
   "metadata": {},
   "source": [
    "# Randomness Based on Distance to Threshold"
   ]
  },
  {
   "cell_type": "code",
   "execution_count": null,
   "id": "baad157e",
   "metadata": {
    "scrolled": true
   },
   "outputs": [],
   "source": [
    "random_thresholds = [0, 0.1, 0.2, 0.3, 0.4, 0.5]\n",
    "data_scales = [10, 9, 8, 7, 6, 5, 4, 3, 2]\n",
    "random_seeds = list(range(5))\n",
    "\n",
    "results = []\n",
    "\n",
    "for data_scale in tqdm(data_scales):\n",
    "    for random_seed in tqdm(random_seeds):\n",
    "        exp = Experiment(df, features, protected_attribute, task_types,\n",
    "                             model_types, random_thresholds, n_train, n_test, random_seed, data_scale)\n",
    "\n",
    "        exp.pretrain_models()\n",
    "        results.append(exp.experiment_baseline())\n",
    "        results.append(exp.experiment_tasks())\n",
    "        results.append(exp.experiment_models())\n",
    "        \n",
    "        results.append(exp.experiment_partitions(min(5, data_scale)))\n",
    "results = pd.concat(results)\n",
    "results.to_csv(\"german_credit_results.csv\", index=False)"
   ]
  },
  {
   "cell_type": "markdown",
   "id": "b1452f17",
   "metadata": {},
   "source": [
    "# Randomness Based on Conformal Prediction"
   ]
  },
  {
   "cell_type": "code",
   "execution_count": 17,
   "id": "4a51cd7d",
   "metadata": {},
   "outputs": [
    {
     "name": "stderr",
     "output_type": "stream",
     "text": [
      "  0%|                                                     | 0/9 [00:00<?, ?it/s]\n",
      "  0%|                                                     | 0/5 [00:00<?, ?it/s]\u001b[A"
     ]
    },
    {
     "name": "stdout",
     "output_type": "stream",
     "text": [
      "is_good_loan logistic\n",
      "is_good_loan gbm\n",
      "is_good_loan nn\n",
      "is_good_loan svm\n",
      "is_good_loan tree\n",
      "is_high_credit logistic\n",
      "is_high_credit gbm\n",
      "is_high_credit nn\n",
      "is_high_credit svm\n",
      "is_high_credit tree\n",
      "Running Baseline Experiment\n",
      "Running Tasks Experiment\n",
      "Running Models Experiment\n",
      "Running Data Partitions Experiment\n",
      "is_good_loan logistic\n",
      "is_good_loan gbm\n",
      "is_good_loan nn\n",
      "is_good_loan svm\n",
      "is_good_loan tree\n",
      "is_high_credit logistic\n",
      "is_high_credit gbm\n",
      "is_high_credit nn\n",
      "is_high_credit svm\n",
      "is_high_credit tree\n"
     ]
    },
    {
     "name": "stderr",
     "output_type": "stream",
     "text": [
      "\n",
      " 20%|█████████                                    | 1/5 [00:04<00:17,  4.29s/it]\u001b[A"
     ]
    },
    {
     "name": "stdout",
     "output_type": "stream",
     "text": [
      "is_good_loan logistic\n",
      "is_good_loan gbm\n",
      "is_good_loan nn\n",
      "is_good_loan svm\n",
      "is_good_loan tree\n",
      "is_high_credit logistic\n",
      "is_high_credit gbm\n",
      "is_high_credit nn\n",
      "is_high_credit svm\n",
      "is_high_credit tree\n",
      "Running Baseline Experiment\n",
      "Running Tasks Experiment\n",
      "Running Models Experiment\n",
      "Running Data Partitions Experiment\n",
      "is_good_loan logistic\n",
      "is_good_loan gbm\n",
      "is_good_loan nn\n",
      "is_good_loan svm\n",
      "is_good_loan tree\n",
      "is_high_credit logistic\n",
      "is_high_credit gbm\n",
      "is_high_credit nn\n",
      "is_high_credit svm\n"
     ]
    },
    {
     "name": "stderr",
     "output_type": "stream",
     "text": [
      "\n",
      " 40%|██████████████████                           | 2/5 [00:08<00:12,  4.21s/it]\u001b[A"
     ]
    },
    {
     "name": "stdout",
     "output_type": "stream",
     "text": [
      "is_high_credit tree\n",
      "is_good_loan logistic\n",
      "is_good_loan gbm\n",
      "is_good_loan nn\n",
      "is_good_loan svm\n",
      "is_good_loan tree\n",
      "is_high_credit logistic\n",
      "is_high_credit gbm\n",
      "is_high_credit nn\n",
      "is_high_credit svm\n",
      "is_high_credit tree\n",
      "Running Baseline Experiment\n",
      "Running Tasks Experiment\n",
      "Running Models Experiment\n",
      "Running Data Partitions Experiment\n",
      "is_good_loan logistic\n",
      "is_good_loan gbm\n",
      "is_good_loan nn\n",
      "is_good_loan svm\n",
      "is_good_loan tree\n",
      "is_high_credit logistic\n",
      "is_high_credit gbm\n",
      "is_high_credit nn\n",
      "is_high_credit svm\n",
      "is_high_credit tree\n"
     ]
    },
    {
     "name": "stderr",
     "output_type": "stream",
     "text": [
      "\n",
      " 60%|███████████████████████████                  | 3/5 [00:12<00:08,  4.27s/it]\u001b[A"
     ]
    },
    {
     "name": "stdout",
     "output_type": "stream",
     "text": [
      "is_good_loan logistic\n",
      "is_good_loan gbm\n",
      "is_good_loan nn\n",
      "is_good_loan svm\n",
      "is_good_loan tree\n",
      "is_high_credit logistic\n",
      "is_high_credit gbm\n",
      "is_high_credit nn\n",
      "is_high_credit svm\n",
      "is_high_credit tree\n",
      "Running Baseline Experiment\n",
      "Running Tasks Experiment\n",
      "Running Models Experiment\n",
      "Running Data Partitions Experiment\n",
      "is_good_loan logistic\n",
      "is_good_loan gbm\n",
      "is_good_loan nn\n",
      "is_good_loan svm\n",
      "is_good_loan tree\n",
      "is_high_credit logistic\n",
      "is_high_credit gbm\n",
      "is_high_credit nn\n",
      "is_high_credit svm\n",
      "is_high_credit tree\n"
     ]
    },
    {
     "name": "stderr",
     "output_type": "stream",
     "text": [
      "\n",
      " 80%|████████████████████████████████████         | 4/5 [00:16<00:04,  4.25s/it]\u001b[A"
     ]
    },
    {
     "name": "stdout",
     "output_type": "stream",
     "text": [
      "is_good_loan logistic\n",
      "is_good_loan gbm\n",
      "is_good_loan nn\n",
      "is_good_loan svm\n",
      "is_good_loan tree\n",
      "is_high_credit logistic\n",
      "is_high_credit gbm\n",
      "is_high_credit nn\n",
      "is_high_credit svm\n",
      "is_high_credit tree\n",
      "Running Baseline Experiment\n",
      "Running Tasks Experiment\n",
      "Running Models Experiment\n",
      "Running Data Partitions Experiment\n",
      "is_good_loan logistic\n",
      "is_good_loan gbm\n",
      "is_good_loan nn\n",
      "is_good_loan svm\n",
      "is_good_loan tree\n",
      "is_high_credit logistic\n",
      "is_high_credit gbm\n",
      "is_high_credit nn\n",
      "is_high_credit svm\n",
      "is_high_credit tree\n"
     ]
    },
    {
     "name": "stderr",
     "output_type": "stream",
     "text": [
      "\n",
      "100%|█████████████████████████████████████████████| 5/5 [00:21<00:00,  4.25s/it]\u001b[A\n",
      " 11%|█████                                        | 1/9 [00:21<02:50, 21.27s/it]\n",
      "  0%|                                                     | 0/5 [00:00<?, ?it/s]\u001b[A"
     ]
    },
    {
     "name": "stdout",
     "output_type": "stream",
     "text": [
      "is_good_loan logistic\n",
      "is_good_loan gbm\n",
      "is_good_loan nn\n",
      "is_good_loan svm\n",
      "is_good_loan tree\n",
      "is_high_credit logistic\n",
      "is_high_credit gbm\n",
      "is_high_credit nn\n",
      "is_high_credit svm\n",
      "is_high_credit tree\n",
      "Running Baseline Experiment\n",
      "Running Tasks Experiment\n",
      "Running Models Experiment\n",
      "Running Data Partitions Experiment\n",
      "is_good_loan logistic\n",
      "is_good_loan gbm\n",
      "is_good_loan nn\n",
      "is_good_loan svm\n",
      "is_good_loan tree\n",
      "is_high_credit logistic\n",
      "is_high_credit gbm\n",
      "is_high_credit nn\n"
     ]
    },
    {
     "name": "stderr",
     "output_type": "stream",
     "text": [
      "\n",
      " 20%|█████████                                    | 1/5 [00:04<00:17,  4.41s/it]\u001b[A"
     ]
    },
    {
     "name": "stdout",
     "output_type": "stream",
     "text": [
      "is_high_credit svm\n",
      "is_high_credit tree\n",
      "is_good_loan logistic\n",
      "is_good_loan gbm\n",
      "is_good_loan nn\n",
      "is_good_loan svm\n",
      "is_good_loan tree\n",
      "is_high_credit logistic\n",
      "is_high_credit gbm\n",
      "is_high_credit nn\n",
      "is_high_credit svm\n",
      "is_high_credit tree\n",
      "Running Baseline Experiment\n",
      "Running Tasks Experiment\n",
      "Running Models Experiment\n",
      "Running Data Partitions Experiment\n",
      "is_good_loan logistic\n",
      "is_good_loan gbm\n",
      "is_good_loan nn\n",
      "is_good_loan svm\n",
      "is_good_loan tree\n",
      "is_high_credit logistic\n",
      "is_high_credit gbm\n",
      "is_high_credit nn\n",
      "is_high_credit svm\n"
     ]
    },
    {
     "name": "stderr",
     "output_type": "stream",
     "text": [
      "\n",
      " 40%|██████████████████                           | 2/5 [00:08<00:13,  4.36s/it]\u001b[A"
     ]
    },
    {
     "name": "stdout",
     "output_type": "stream",
     "text": [
      "is_high_credit tree\n",
      "is_good_loan logistic\n",
      "is_good_loan gbm\n",
      "is_good_loan nn\n",
      "is_good_loan svm\n",
      "is_good_loan tree\n",
      "is_high_credit logistic\n",
      "is_high_credit gbm\n",
      "is_high_credit nn\n",
      "is_high_credit svm\n",
      "is_high_credit tree\n",
      "Running Baseline Experiment\n",
      "Running Tasks Experiment\n",
      "Running Models Experiment\n",
      "Running Data Partitions Experiment\n",
      "is_good_loan logistic\n",
      "is_good_loan gbm\n",
      "is_good_loan nn\n",
      "is_good_loan svm\n",
      "is_good_loan tree\n",
      "is_high_credit logistic\n",
      "is_high_credit gbm\n",
      "is_high_credit nn\n",
      "is_high_credit svm\n"
     ]
    },
    {
     "name": "stderr",
     "output_type": "stream",
     "text": [
      "\n",
      " 60%|███████████████████████████                  | 3/5 [00:13<00:08,  4.34s/it]\u001b[A"
     ]
    },
    {
     "name": "stdout",
     "output_type": "stream",
     "text": [
      "is_high_credit tree\n",
      "is_good_loan logistic\n",
      "is_good_loan gbm\n",
      "is_good_loan nn\n",
      "is_good_loan svm\n",
      "is_good_loan tree\n",
      "is_high_credit logistic\n",
      "is_high_credit gbm\n",
      "is_high_credit nn\n",
      "is_high_credit svm\n",
      "is_high_credit tree\n",
      "Running Baseline Experiment\n",
      "Running Tasks Experiment\n",
      "Running Models Experiment\n",
      "Running Data Partitions Experiment\n",
      "is_good_loan logistic\n",
      "is_good_loan gbm\n",
      "is_good_loan nn\n",
      "is_good_loan svm\n",
      "is_good_loan tree\n",
      "is_high_credit logistic\n",
      "is_high_credit gbm\n",
      "is_high_credit nn\n",
      "is_high_credit svm\n",
      "is_high_credit tree\n"
     ]
    },
    {
     "name": "stderr",
     "output_type": "stream",
     "text": [
      "\n",
      " 80%|████████████████████████████████████         | 4/5 [00:17<00:04,  4.32s/it]\u001b[A"
     ]
    },
    {
     "name": "stdout",
     "output_type": "stream",
     "text": [
      "is_good_loan logistic\n",
      "is_good_loan gbm\n",
      "is_good_loan nn\n",
      "is_good_loan svm\n",
      "is_good_loan tree\n",
      "is_high_credit logistic\n",
      "is_high_credit gbm\n",
      "is_high_credit nn\n",
      "is_high_credit svm\n",
      "is_high_credit tree\n",
      "Running Baseline Experiment\n",
      "Running Tasks Experiment\n",
      "Running Models Experiment\n",
      "Running Data Partitions Experiment\n",
      "is_good_loan logistic\n",
      "is_good_loan gbm\n",
      "is_good_loan nn\n",
      "is_good_loan svm\n",
      "is_good_loan tree\n",
      "is_high_credit logistic\n",
      "is_high_credit gbm\n",
      "is_high_credit nn\n",
      "is_high_credit svm\n",
      "is_high_credit tree\n"
     ]
    },
    {
     "name": "stderr",
     "output_type": "stream",
     "text": [
      "\n",
      "100%|█████████████████████████████████████████████| 5/5 [00:21<00:00,  4.32s/it]\u001b[A\n",
      " 22%|██████████                                   | 2/9 [00:42<02:30, 21.47s/it]\n",
      "  0%|                                                     | 0/5 [00:00<?, ?it/s]\u001b[A"
     ]
    },
    {
     "name": "stdout",
     "output_type": "stream",
     "text": [
      "is_good_loan logistic\n",
      "is_good_loan gbm\n",
      "is_good_loan nn\n",
      "is_good_loan svm\n",
      "is_good_loan tree\n",
      "is_high_credit logistic\n",
      "is_high_credit gbm\n",
      "is_high_credit nn\n",
      "is_high_credit svm\n",
      "is_high_credit tree\n",
      "Running Baseline Experiment\n",
      "Running Tasks Experiment\n",
      "Running Models Experiment\n",
      "Running Data Partitions Experiment\n",
      "is_good_loan logistic\n",
      "is_good_loan gbm\n",
      "is_good_loan nn\n",
      "is_good_loan svm\n",
      "is_good_loan tree\n",
      "is_high_credit logistic\n",
      "is_high_credit gbm\n",
      "is_high_credit nn\n",
      "is_high_credit svm\n",
      "is_high_credit tree\n"
     ]
    },
    {
     "name": "stderr",
     "output_type": "stream",
     "text": [
      "\n",
      " 20%|█████████                                    | 1/5 [00:04<00:17,  4.33s/it]\u001b[A"
     ]
    },
    {
     "name": "stdout",
     "output_type": "stream",
     "text": [
      "is_good_loan logistic\n",
      "is_good_loan gbm\n",
      "is_good_loan nn\n",
      "is_good_loan svm\n",
      "is_good_loan tree\n",
      "is_high_credit logistic\n",
      "is_high_credit gbm\n",
      "is_high_credit nn\n",
      "is_high_credit svm\n",
      "is_high_credit tree\n",
      "Running Baseline Experiment\n",
      "Running Tasks Experiment\n",
      "Running Models Experiment\n",
      "Running Data Partitions Experiment\n",
      "is_good_loan logistic\n",
      "is_good_loan gbm\n",
      "is_good_loan nn\n",
      "is_good_loan svm\n",
      "is_good_loan tree\n",
      "is_high_credit logistic\n",
      "is_high_credit gbm\n",
      "is_high_credit nn\n",
      "is_high_credit svm\n"
     ]
    },
    {
     "name": "stderr",
     "output_type": "stream",
     "text": [
      "\n",
      " 40%|██████████████████                           | 2/5 [00:08<00:13,  4.34s/it]\u001b[A"
     ]
    },
    {
     "name": "stdout",
     "output_type": "stream",
     "text": [
      "is_high_credit tree\n",
      "is_good_loan logistic\n",
      "is_good_loan gbm\n",
      "is_good_loan nn\n",
      "is_good_loan svm\n",
      "is_good_loan tree\n",
      "is_high_credit logistic\n",
      "is_high_credit gbm\n",
      "is_high_credit nn\n",
      "is_high_credit svm\n",
      "is_high_credit tree\n",
      "Running Baseline Experiment\n",
      "Running Tasks Experiment\n",
      "Running Models Experiment\n",
      "Running Data Partitions Experiment\n",
      "is_good_loan logistic\n",
      "is_good_loan gbm\n",
      "is_good_loan nn\n",
      "is_good_loan svm\n",
      "is_good_loan tree\n",
      "is_high_credit logistic\n",
      "is_high_credit gbm\n",
      "is_high_credit nn\n",
      "is_high_credit svm\n",
      "is_high_credit tree\n"
     ]
    },
    {
     "name": "stderr",
     "output_type": "stream",
     "text": [
      "\n",
      " 60%|███████████████████████████                  | 3/5 [00:12<00:08,  4.33s/it]\u001b[A"
     ]
    },
    {
     "name": "stdout",
     "output_type": "stream",
     "text": [
      "is_good_loan logistic\n",
      "is_good_loan gbm\n",
      "is_good_loan nn\n",
      "is_good_loan svm\n",
      "is_good_loan tree\n",
      "is_high_credit logistic\n",
      "is_high_credit gbm\n",
      "is_high_credit nn\n",
      "is_high_credit svm\n",
      "is_high_credit tree\n",
      "Running Baseline Experiment\n",
      "Running Tasks Experiment\n",
      "Running Models Experiment\n",
      "Running Data Partitions Experiment\n",
      "is_good_loan logistic\n",
      "is_good_loan gbm\n",
      "is_good_loan nn\n",
      "is_good_loan svm\n",
      "is_good_loan tree\n",
      "is_high_credit logistic\n",
      "is_high_credit gbm\n",
      "is_high_credit nn\n",
      "is_high_credit svm\n",
      "is_high_credit tree\n"
     ]
    },
    {
     "name": "stderr",
     "output_type": "stream",
     "text": [
      "\n",
      " 80%|████████████████████████████████████         | 4/5 [00:17<00:04,  4.34s/it]\u001b[A"
     ]
    },
    {
     "name": "stdout",
     "output_type": "stream",
     "text": [
      "is_good_loan logistic\n",
      "is_good_loan gbm\n",
      "is_good_loan nn\n",
      "is_good_loan svm\n",
      "is_good_loan tree\n",
      "is_high_credit logistic\n",
      "is_high_credit gbm\n",
      "is_high_credit nn\n",
      "is_high_credit svm\n",
      "is_high_credit tree\n",
      "Running Baseline Experiment\n",
      "Running Tasks Experiment\n",
      "Running Models Experiment\n",
      "Running Data Partitions Experiment\n",
      "is_good_loan logistic\n",
      "is_good_loan gbm\n",
      "is_good_loan nn\n",
      "is_good_loan svm\n",
      "is_good_loan tree\n",
      "is_high_credit logistic\n",
      "is_high_credit gbm\n",
      "is_high_credit nn\n",
      "is_high_credit svm\n",
      "is_high_credit tree\n"
     ]
    },
    {
     "name": "stderr",
     "output_type": "stream",
     "text": [
      "\n",
      "100%|█████████████████████████████████████████████| 5/5 [00:21<00:00,  4.36s/it]\u001b[A\n",
      " 33%|███████████████                              | 3/9 [01:04<02:09, 21.63s/it]\n",
      "  0%|                                                     | 0/5 [00:00<?, ?it/s]\u001b[A"
     ]
    },
    {
     "name": "stdout",
     "output_type": "stream",
     "text": [
      "is_good_loan logistic\n",
      "is_good_loan gbm\n",
      "is_good_loan nn\n",
      "is_good_loan svm\n",
      "is_good_loan tree\n",
      "is_high_credit logistic\n",
      "is_high_credit gbm\n",
      "is_high_credit nn\n",
      "is_high_credit svm\n",
      "is_high_credit tree\n",
      "Running Baseline Experiment\n",
      "Running Tasks Experiment\n",
      "Running Models Experiment\n",
      "Running Data Partitions Experiment\n",
      "is_good_loan logistic\n",
      "is_good_loan gbm\n",
      "is_good_loan nn\n",
      "is_good_loan svm\n",
      "is_good_loan tree\n",
      "is_high_credit logistic\n",
      "is_high_credit gbm\n",
      "is_high_credit nn\n",
      "is_high_credit svm\n",
      "is_high_credit tree\n"
     ]
    },
    {
     "name": "stderr",
     "output_type": "stream",
     "text": [
      "\n",
      " 20%|█████████                                    | 1/5 [00:04<00:17,  4.49s/it]\u001b[A"
     ]
    },
    {
     "name": "stdout",
     "output_type": "stream",
     "text": [
      "is_good_loan logistic\n",
      "is_good_loan gbm\n",
      "is_good_loan nn\n",
      "is_good_loan svm\n",
      "is_good_loan tree\n",
      "is_high_credit logistic\n",
      "is_high_credit gbm\n",
      "is_high_credit nn\n",
      "is_high_credit svm\n",
      "is_high_credit tree\n",
      "Running Baseline Experiment\n",
      "Running Tasks Experiment\n",
      "Running Models Experiment\n",
      "Running Data Partitions Experiment\n",
      "is_good_loan logistic\n",
      "is_good_loan gbm\n",
      "is_good_loan nn\n",
      "is_good_loan svm\n",
      "is_good_loan tree\n",
      "is_high_credit logistic\n",
      "is_high_credit gbm\n",
      "is_high_credit nn\n",
      "is_high_credit svm\n",
      "is_high_credit tree\n"
     ]
    },
    {
     "name": "stderr",
     "output_type": "stream",
     "text": [
      "\n",
      " 40%|██████████████████                           | 2/5 [00:08<00:13,  4.50s/it]\u001b[A"
     ]
    },
    {
     "name": "stdout",
     "output_type": "stream",
     "text": [
      "is_good_loan logistic\n",
      "is_good_loan gbm\n",
      "is_good_loan nn\n",
      "is_good_loan svm\n",
      "is_good_loan tree\n",
      "is_high_credit logistic\n",
      "is_high_credit gbm\n",
      "is_high_credit nn\n",
      "is_high_credit svm\n",
      "is_high_credit tree\n",
      "Running Baseline Experiment\n",
      "Running Tasks Experiment\n",
      "Running Models Experiment\n",
      "Running Data Partitions Experiment\n",
      "is_good_loan logistic\n",
      "is_good_loan gbm\n",
      "is_good_loan nn\n",
      "is_good_loan svm\n",
      "is_good_loan tree\n",
      "is_high_credit logistic\n",
      "is_high_credit gbm\n",
      "is_high_credit nn\n",
      "is_high_credit svm\n",
      "is_high_credit tree\n"
     ]
    },
    {
     "name": "stderr",
     "output_type": "stream",
     "text": [
      "\n",
      " 60%|███████████████████████████                  | 3/5 [00:13<00:08,  4.48s/it]\u001b[A"
     ]
    },
    {
     "name": "stdout",
     "output_type": "stream",
     "text": [
      "is_good_loan logistic\n",
      "is_good_loan gbm\n",
      "is_good_loan nn\n",
      "is_good_loan svm\n",
      "is_good_loan tree\n",
      "is_high_credit logistic\n",
      "is_high_credit gbm\n",
      "is_high_credit nn\n",
      "is_high_credit svm\n",
      "is_high_credit tree\n",
      "Running Baseline Experiment\n",
      "Running Tasks Experiment\n",
      "Running Models Experiment\n",
      "Running Data Partitions Experiment\n",
      "is_good_loan logistic\n",
      "is_good_loan gbm\n",
      "is_good_loan nn\n",
      "is_good_loan svm\n",
      "is_good_loan tree\n",
      "is_high_credit logistic\n",
      "is_high_credit gbm\n",
      "is_high_credit nn\n",
      "is_high_credit svm\n",
      "is_high_credit tree\n"
     ]
    },
    {
     "name": "stderr",
     "output_type": "stream",
     "text": [
      "\n",
      " 80%|████████████████████████████████████         | 4/5 [00:18<00:04,  4.53s/it]\u001b[A"
     ]
    },
    {
     "name": "stdout",
     "output_type": "stream",
     "text": [
      "is_good_loan logistic\n",
      "is_good_loan gbm\n",
      "is_good_loan nn\n",
      "is_good_loan svm\n",
      "is_good_loan tree\n",
      "is_high_credit logistic\n",
      "is_high_credit gbm\n",
      "is_high_credit nn\n",
      "is_high_credit svm\n",
      "is_high_credit tree\n",
      "Running Baseline Experiment\n",
      "Running Tasks Experiment\n",
      "Running Models Experiment\n",
      "Running Data Partitions Experiment\n",
      "is_good_loan logistic\n",
      "is_good_loan gbm\n",
      "is_good_loan nn\n",
      "is_good_loan svm\n",
      "is_good_loan tree\n",
      "is_high_credit logistic\n",
      "is_high_credit gbm\n",
      "is_high_credit nn\n",
      "is_high_credit svm\n",
      "is_high_credit tree\n"
     ]
    },
    {
     "name": "stderr",
     "output_type": "stream",
     "text": [
      "\n",
      "100%|█████████████████████████████████████████████| 5/5 [00:22<00:00,  4.55s/it]\u001b[A\n",
      " 44%|████████████████████                         | 4/9 [01:27<01:50, 22.07s/it]\n",
      "  0%|                                                     | 0/5 [00:00<?, ?it/s]\u001b[A"
     ]
    },
    {
     "name": "stdout",
     "output_type": "stream",
     "text": [
      "is_good_loan logistic\n",
      "is_good_loan gbm\n",
      "is_good_loan nn\n",
      "is_good_loan svm\n",
      "is_good_loan tree\n",
      "is_high_credit logistic\n",
      "is_high_credit gbm\n",
      "is_high_credit nn\n",
      "is_high_credit svm\n",
      "is_high_credit tree\n",
      "Running Baseline Experiment\n",
      "Running Tasks Experiment\n",
      "Running Models Experiment\n",
      "Running Data Partitions Experiment\n",
      "is_good_loan logistic\n",
      "is_good_loan gbm\n",
      "is_good_loan nn\n",
      "is_good_loan svm\n",
      "is_good_loan tree\n",
      "is_high_credit logistic\n",
      "is_high_credit gbm\n",
      "is_high_credit nn\n",
      "is_high_credit svm\n",
      "is_high_credit tree\n"
     ]
    },
    {
     "name": "stderr",
     "output_type": "stream",
     "text": [
      "\n",
      " 20%|█████████                                    | 1/5 [00:04<00:18,  4.60s/it]\u001b[A"
     ]
    },
    {
     "name": "stdout",
     "output_type": "stream",
     "text": [
      "is_good_loan logistic\n",
      "is_good_loan gbm\n",
      "is_good_loan nn\n",
      "is_good_loan svm\n",
      "is_good_loan tree\n",
      "is_high_credit logistic\n",
      "is_high_credit gbm\n",
      "is_high_credit nn\n",
      "is_high_credit svm\n",
      "is_high_credit tree\n",
      "Running Baseline Experiment\n",
      "Running Tasks Experiment\n",
      "Running Models Experiment\n",
      "Running Data Partitions Experiment\n",
      "is_good_loan logistic\n",
      "is_good_loan gbm\n",
      "is_good_loan nn\n",
      "is_good_loan svm\n",
      "is_good_loan tree\n",
      "is_high_credit logistic\n",
      "is_high_credit gbm\n",
      "is_high_credit nn\n",
      "is_high_credit svm\n",
      "is_high_credit tree\n"
     ]
    },
    {
     "name": "stderr",
     "output_type": "stream",
     "text": [
      "\n",
      " 40%|██████████████████                           | 2/5 [00:09<00:13,  4.63s/it]\u001b[A"
     ]
    },
    {
     "name": "stdout",
     "output_type": "stream",
     "text": [
      "is_good_loan logistic\n",
      "is_good_loan gbm\n",
      "is_good_loan nn\n",
      "is_good_loan svm\n",
      "is_good_loan tree\n",
      "is_high_credit logistic\n",
      "is_high_credit gbm\n",
      "is_high_credit nn\n",
      "is_high_credit svm\n",
      "is_high_credit tree\n",
      "Running Baseline Experiment\n",
      "Running Tasks Experiment\n",
      "Running Models Experiment\n",
      "Running Data Partitions Experiment\n",
      "is_good_loan logistic\n",
      "is_good_loan gbm\n",
      "is_good_loan nn\n",
      "is_good_loan svm\n",
      "is_good_loan tree\n",
      "is_high_credit logistic\n",
      "is_high_credit gbm\n",
      "is_high_credit nn\n",
      "is_high_credit svm\n",
      "is_high_credit tree\n"
     ]
    },
    {
     "name": "stderr",
     "output_type": "stream",
     "text": [
      "\n",
      " 60%|███████████████████████████                  | 3/5 [00:13<00:09,  4.56s/it]\u001b[A"
     ]
    },
    {
     "name": "stdout",
     "output_type": "stream",
     "text": [
      "is_good_loan logistic\n",
      "is_good_loan gbm\n",
      "is_good_loan nn\n",
      "is_good_loan svm\n",
      "is_good_loan tree\n",
      "is_high_credit logistic\n",
      "is_high_credit gbm\n",
      "is_high_credit nn\n",
      "is_high_credit svm\n",
      "is_high_credit tree\n",
      "Running Baseline Experiment\n",
      "Running Tasks Experiment\n",
      "Running Models Experiment\n",
      "Running Data Partitions Experiment\n",
      "is_good_loan logistic\n",
      "is_good_loan gbm\n",
      "is_good_loan nn\n",
      "is_good_loan svm\n",
      "is_good_loan tree\n",
      "is_high_credit logistic\n",
      "is_high_credit gbm\n",
      "is_high_credit nn\n",
      "is_high_credit svm\n",
      "is_high_credit tree\n"
     ]
    },
    {
     "name": "stderr",
     "output_type": "stream",
     "text": [
      "\n",
      " 80%|████████████████████████████████████         | 4/5 [00:18<00:04,  4.52s/it]\u001b[A"
     ]
    },
    {
     "name": "stdout",
     "output_type": "stream",
     "text": [
      "is_good_loan logistic\n",
      "is_good_loan gbm\n",
      "is_good_loan nn\n",
      "is_good_loan svm\n",
      "is_good_loan tree\n",
      "is_high_credit logistic\n",
      "is_high_credit gbm\n",
      "is_high_credit nn\n",
      "is_high_credit svm\n",
      "is_high_credit tree\n",
      "Running Baseline Experiment\n",
      "Running Tasks Experiment\n",
      "Running Models Experiment\n",
      "Running Data Partitions Experiment\n",
      "is_good_loan logistic\n",
      "is_good_loan gbm\n",
      "is_good_loan nn\n",
      "is_good_loan svm\n",
      "is_good_loan tree\n",
      "is_high_credit logistic\n",
      "is_high_credit gbm\n",
      "is_high_credit nn\n",
      "is_high_credit svm\n",
      "is_high_credit tree\n"
     ]
    },
    {
     "name": "stderr",
     "output_type": "stream",
     "text": [
      "\n",
      "100%|█████████████████████████████████████████████| 5/5 [00:22<00:00,  4.54s/it]\u001b[A\n",
      " 56%|█████████████████████████                    | 5/9 [01:50<01:29, 22.29s/it]\n",
      "  0%|                                                     | 0/5 [00:00<?, ?it/s]\u001b[A"
     ]
    },
    {
     "name": "stdout",
     "output_type": "stream",
     "text": [
      "is_good_loan logistic\n",
      "is_good_loan gbm\n",
      "is_good_loan nn\n",
      "is_good_loan svm\n",
      "is_good_loan tree\n",
      "is_high_credit logistic\n",
      "is_high_credit gbm\n",
      "is_high_credit nn\n",
      "is_high_credit svm\n",
      "is_high_credit tree\n",
      "Running Baseline Experiment\n",
      "Running Tasks Experiment\n",
      "Running Models Experiment\n",
      "Running Data Partitions Experiment\n",
      "is_good_loan logistic\n",
      "is_good_loan gbm\n",
      "is_good_loan nn\n",
      "is_good_loan svm\n",
      "is_good_loan tree\n",
      "is_high_credit logistic\n",
      "is_high_credit gbm\n",
      "is_high_credit nn\n",
      "is_high_credit svm\n",
      "is_high_credit tree\n"
     ]
    },
    {
     "name": "stderr",
     "output_type": "stream",
     "text": [
      "\n",
      " 20%|█████████                                    | 1/5 [00:04<00:19,  4.93s/it]\u001b[A"
     ]
    },
    {
     "name": "stdout",
     "output_type": "stream",
     "text": [
      "is_good_loan logistic\n",
      "is_good_loan gbm\n",
      "is_good_loan nn\n",
      "is_good_loan svm\n",
      "is_good_loan tree\n",
      "is_high_credit logistic\n",
      "is_high_credit gbm\n",
      "is_high_credit nn\n",
      "is_high_credit svm\n",
      "is_high_credit tree\n",
      "Running Baseline Experiment\n",
      "Running Tasks Experiment\n",
      "Running Models Experiment\n",
      "Running Data Partitions Experiment\n",
      "is_good_loan logistic\n",
      "is_good_loan gbm\n",
      "is_good_loan nn\n",
      "is_good_loan svm\n",
      "is_good_loan tree\n",
      "is_high_credit logistic\n",
      "is_high_credit gbm\n",
      "is_high_credit nn\n",
      "is_high_credit svm\n",
      "is_high_credit tree\n"
     ]
    },
    {
     "name": "stderr",
     "output_type": "stream",
     "text": [
      "\n",
      " 40%|██████████████████                           | 2/5 [00:09<00:14,  4.94s/it]\u001b[A"
     ]
    },
    {
     "name": "stdout",
     "output_type": "stream",
     "text": [
      "is_good_loan logistic\n",
      "is_good_loan gbm\n",
      "is_good_loan nn\n",
      "is_good_loan svm\n",
      "is_good_loan tree\n",
      "is_high_credit logistic\n",
      "is_high_credit gbm\n",
      "is_high_credit nn\n",
      "is_high_credit svm\n",
      "is_high_credit tree\n",
      "Running Baseline Experiment\n",
      "Running Tasks Experiment\n",
      "Running Models Experiment\n",
      "Running Data Partitions Experiment\n",
      "is_good_loan logistic\n",
      "is_good_loan gbm\n",
      "is_good_loan nn\n",
      "is_good_loan svm\n",
      "is_good_loan tree\n",
      "is_high_credit logistic\n",
      "is_high_credit gbm\n",
      "is_high_credit nn\n",
      "is_high_credit svm\n",
      "is_high_credit tree\n"
     ]
    },
    {
     "name": "stderr",
     "output_type": "stream",
     "text": [
      "\n",
      " 60%|███████████████████████████                  | 3/5 [00:15<00:10,  5.07s/it]\u001b[A"
     ]
    },
    {
     "name": "stdout",
     "output_type": "stream",
     "text": [
      "is_good_loan logistic\n",
      "is_good_loan gbm\n",
      "is_good_loan nn\n",
      "is_good_loan svm\n",
      "is_good_loan tree\n",
      "is_high_credit logistic\n",
      "is_high_credit gbm\n",
      "is_high_credit nn\n",
      "is_high_credit svm\n",
      "is_high_credit tree\n",
      "Running Baseline Experiment\n",
      "Running Tasks Experiment\n",
      "Running Models Experiment\n",
      "Running Data Partitions Experiment\n",
      "is_good_loan logistic\n",
      "is_good_loan gbm\n",
      "is_good_loan nn\n",
      "is_good_loan svm\n",
      "is_good_loan tree\n",
      "is_high_credit logistic\n",
      "is_high_credit gbm\n",
      "is_high_credit nn\n",
      "is_high_credit svm\n",
      "is_high_credit tree\n"
     ]
    },
    {
     "name": "stderr",
     "output_type": "stream",
     "text": [
      "\n",
      " 80%|████████████████████████████████████         | 4/5 [00:20<00:05,  5.05s/it]\u001b[A"
     ]
    },
    {
     "name": "stdout",
     "output_type": "stream",
     "text": [
      "is_good_loan logistic\n",
      "is_good_loan gbm\n",
      "is_good_loan nn\n",
      "is_good_loan svm\n",
      "is_good_loan tree\n",
      "is_high_credit logistic\n",
      "is_high_credit gbm\n",
      "is_high_credit nn\n",
      "is_high_credit svm\n",
      "is_high_credit tree\n",
      "Running Baseline Experiment\n",
      "Running Tasks Experiment\n",
      "Running Models Experiment\n",
      "Running Data Partitions Experiment\n",
      "is_good_loan logistic\n",
      "is_good_loan gbm\n",
      "is_good_loan nn\n",
      "is_good_loan svm\n",
      "is_good_loan tree\n",
      "is_high_credit logistic\n",
      "is_high_credit gbm\n",
      "is_high_credit nn\n",
      "is_high_credit svm\n",
      "is_high_credit tree\n"
     ]
    },
    {
     "name": "stderr",
     "output_type": "stream",
     "text": [
      "\n",
      "100%|█████████████████████████████████████████████| 5/5 [00:25<00:00,  5.07s/it]\u001b[A\n",
      " 67%|██████████████████████████████               | 6/9 [02:15<01:09, 23.32s/it]\n",
      "  0%|                                                     | 0/5 [00:00<?, ?it/s]\u001b[A"
     ]
    },
    {
     "name": "stdout",
     "output_type": "stream",
     "text": [
      "is_good_loan logistic\n",
      "is_good_loan gbm\n",
      "is_good_loan nn\n",
      "is_good_loan svm\n",
      "is_good_loan tree\n",
      "is_high_credit logistic\n",
      "is_high_credit gbm\n",
      "is_high_credit nn\n",
      "is_high_credit svm\n",
      "is_high_credit tree\n",
      "Running Baseline Experiment\n",
      "Running Tasks Experiment\n",
      "Running Models Experiment\n",
      "Running Data Partitions Experiment\n",
      "is_good_loan logistic\n",
      "is_good_loan gbm\n",
      "is_good_loan nn\n",
      "is_good_loan svm\n",
      "is_good_loan tree\n",
      "is_high_credit logistic\n",
      "is_high_credit gbm\n",
      "is_high_credit nn\n",
      "is_high_credit svm\n",
      "is_high_credit tree\n"
     ]
    },
    {
     "name": "stderr",
     "output_type": "stream",
     "text": [
      "\n",
      " 20%|█████████                                    | 1/5 [00:04<00:19,  4.83s/it]\u001b[A"
     ]
    },
    {
     "name": "stdout",
     "output_type": "stream",
     "text": [
      "is_good_loan logistic\n",
      "is_good_loan gbm\n",
      "is_good_loan nn\n",
      "is_good_loan svm\n",
      "is_good_loan tree\n",
      "is_high_credit logistic\n",
      "is_high_credit gbm\n",
      "is_high_credit nn\n",
      "is_high_credit svm\n",
      "is_high_credit tree\n",
      "Running Baseline Experiment\n",
      "Running Tasks Experiment\n",
      "Running Models Experiment\n",
      "Running Data Partitions Experiment\n",
      "is_good_loan logistic\n",
      "is_good_loan gbm\n",
      "is_good_loan nn\n",
      "is_good_loan svm\n",
      "is_good_loan tree\n",
      "is_high_credit logistic\n",
      "is_high_credit gbm\n",
      "is_high_credit nn\n",
      "is_high_credit svm\n",
      "is_high_credit tree\n"
     ]
    },
    {
     "name": "stderr",
     "output_type": "stream",
     "text": [
      "\n",
      " 40%|██████████████████                           | 2/5 [00:11<00:17,  5.94s/it]\u001b[A"
     ]
    },
    {
     "name": "stdout",
     "output_type": "stream",
     "text": [
      "is_good_loan logistic\n",
      "is_good_loan gbm\n",
      "is_good_loan nn\n",
      "is_good_loan svm\n",
      "is_good_loan tree\n",
      "is_high_credit logistic\n",
      "is_high_credit gbm\n",
      "is_high_credit nn\n",
      "is_high_credit svm\n",
      "is_high_credit tree\n",
      "Running Baseline Experiment\n",
      "Running Tasks Experiment\n",
      "Running Models Experiment\n",
      "Running Data Partitions Experiment\n",
      "is_good_loan logistic\n",
      "is_good_loan gbm\n",
      "is_good_loan nn\n",
      "is_good_loan svm\n",
      "is_good_loan tree\n",
      "is_high_credit logistic\n",
      "is_high_credit gbm\n",
      "is_high_credit nn\n",
      "is_high_credit svm\n",
      "is_high_credit tree\n"
     ]
    },
    {
     "name": "stderr",
     "output_type": "stream",
     "text": [
      "\n",
      " 60%|███████████████████████████                  | 3/5 [00:17<00:11,  5.99s/it]\u001b[A"
     ]
    },
    {
     "name": "stdout",
     "output_type": "stream",
     "text": [
      "is_good_loan logistic\n",
      "is_good_loan gbm\n",
      "is_good_loan nn\n",
      "is_good_loan svm\n",
      "is_good_loan tree\n",
      "is_high_credit logistic\n",
      "is_high_credit gbm\n",
      "is_high_credit nn\n",
      "is_high_credit svm\n",
      "is_high_credit tree\n",
      "Running Baseline Experiment\n",
      "Running Tasks Experiment\n",
      "Running Models Experiment\n",
      "Running Data Partitions Experiment\n",
      "is_good_loan logistic\n",
      "is_good_loan gbm\n",
      "is_good_loan nn\n",
      "is_good_loan svm\n",
      "is_good_loan tree\n",
      "is_high_credit logistic\n",
      "is_high_credit gbm\n",
      "is_high_credit nn\n",
      "is_high_credit svm\n",
      "is_high_credit tree\n"
     ]
    },
    {
     "name": "stderr",
     "output_type": "stream",
     "text": [
      "\n",
      " 80%|████████████████████████████████████         | 4/5 [00:22<00:05,  5.57s/it]\u001b[A"
     ]
    },
    {
     "name": "stdout",
     "output_type": "stream",
     "text": [
      "is_good_loan logistic\n",
      "is_good_loan gbm\n",
      "is_good_loan nn\n",
      "is_good_loan svm\n",
      "is_good_loan tree\n",
      "is_high_credit logistic\n",
      "is_high_credit gbm\n",
      "is_high_credit nn\n",
      "is_high_credit svm\n",
      "is_high_credit tree\n",
      "Running Baseline Experiment\n",
      "Running Tasks Experiment\n",
      "Running Models Experiment\n",
      "Running Data Partitions Experiment\n",
      "is_good_loan logistic\n",
      "is_good_loan gbm\n",
      "is_good_loan nn\n",
      "is_good_loan svm\n",
      "is_good_loan tree\n",
      "is_high_credit logistic\n",
      "is_high_credit gbm\n",
      "is_high_credit nn\n",
      "is_high_credit svm\n",
      "is_high_credit tree\n"
     ]
    },
    {
     "name": "stderr",
     "output_type": "stream",
     "text": [
      "\n",
      "100%|█████████████████████████████████████████████| 5/5 [00:27<00:00,  5.45s/it]\u001b[A\n",
      " 78%|███████████████████████████████████          | 7/9 [02:42<00:49, 24.61s/it]\n",
      "  0%|                                                     | 0/5 [00:00<?, ?it/s]\u001b[A"
     ]
    },
    {
     "name": "stdout",
     "output_type": "stream",
     "text": [
      "is_good_loan logistic\n",
      "is_good_loan gbm\n",
      "is_good_loan nn\n",
      "is_good_loan svm\n",
      "is_good_loan tree\n",
      "is_high_credit logistic\n",
      "is_high_credit gbm\n",
      "is_high_credit nn\n",
      "is_high_credit svm\n",
      "is_high_credit tree\n",
      "Running Baseline Experiment\n",
      "Running Tasks Experiment\n",
      "Running Models Experiment\n",
      "Running Data Partitions Experiment\n",
      "is_good_loan logistic\n",
      "is_good_loan gbm\n",
      "is_good_loan nn\n",
      "is_good_loan svm\n",
      "is_good_loan tree\n",
      "is_high_credit logistic\n",
      "is_high_credit gbm\n",
      "is_high_credit nn\n"
     ]
    },
    {
     "name": "stderr",
     "output_type": "stream",
     "text": [
      "\n",
      " 20%|█████████                                    | 1/5 [00:04<00:19,  4.86s/it]\u001b[A"
     ]
    },
    {
     "name": "stdout",
     "output_type": "stream",
     "text": [
      "is_high_credit svm\n",
      "is_high_credit tree\n",
      "is_good_loan logistic\n",
      "is_good_loan gbm\n",
      "is_good_loan nn\n",
      "is_good_loan svm\n",
      "is_good_loan tree\n",
      "is_high_credit logistic\n",
      "is_high_credit gbm\n",
      "is_high_credit nn\n",
      "is_high_credit svm\n",
      "is_high_credit tree\n",
      "Running Baseline Experiment\n",
      "Running Tasks Experiment\n",
      "Running Models Experiment\n",
      "Running Data Partitions Experiment\n",
      "is_good_loan logistic\n",
      "is_good_loan gbm\n",
      "is_good_loan nn\n",
      "is_good_loan svm\n",
      "is_good_loan tree\n",
      "is_high_credit logistic\n",
      "is_high_credit gbm\n",
      "is_high_credit nn\n",
      "is_high_credit svm\n",
      "is_high_credit tree\n"
     ]
    },
    {
     "name": "stderr",
     "output_type": "stream",
     "text": [
      "\n",
      " 40%|██████████████████                           | 2/5 [00:09<00:14,  4.68s/it]\u001b[A"
     ]
    },
    {
     "name": "stdout",
     "output_type": "stream",
     "text": [
      "is_good_loan logistic\n",
      "is_good_loan gbm\n",
      "is_good_loan nn\n",
      "is_good_loan svm\n",
      "is_good_loan tree\n",
      "is_high_credit logistic\n",
      "is_high_credit gbm\n",
      "is_high_credit nn\n",
      "is_high_credit svm\n",
      "is_high_credit tree\n",
      "Running Baseline Experiment\n",
      "Running Tasks Experiment\n",
      "Running Models Experiment\n",
      "Running Data Partitions Experiment\n",
      "is_good_loan logistic\n",
      "is_good_loan gbm\n",
      "is_good_loan nn\n",
      "is_good_loan svm\n",
      "is_good_loan tree\n",
      "is_high_credit logistic\n",
      "is_high_credit gbm\n",
      "is_high_credit nn\n"
     ]
    },
    {
     "name": "stderr",
     "output_type": "stream",
     "text": [
      "\n",
      " 60%|███████████████████████████                  | 3/5 [00:13<00:09,  4.57s/it]\u001b[A"
     ]
    },
    {
     "name": "stdout",
     "output_type": "stream",
     "text": [
      "is_high_credit svm\n",
      "is_high_credit tree\n",
      "is_good_loan logistic\n",
      "is_good_loan gbm\n",
      "is_good_loan nn\n",
      "is_good_loan svm\n",
      "is_good_loan tree\n",
      "is_high_credit logistic\n",
      "is_high_credit gbm\n",
      "is_high_credit nn\n",
      "is_high_credit svm\n",
      "is_high_credit tree\n",
      "Running Baseline Experiment\n",
      "Running Tasks Experiment\n",
      "Running Models Experiment\n",
      "Running Data Partitions Experiment\n",
      "is_good_loan logistic\n",
      "is_good_loan gbm\n",
      "is_good_loan nn\n",
      "is_good_loan svm\n",
      "is_good_loan tree\n",
      "is_high_credit logistic\n",
      "is_high_credit gbm\n",
      "is_high_credit nn\n"
     ]
    },
    {
     "name": "stderr",
     "output_type": "stream",
     "text": [
      "\n",
      " 80%|████████████████████████████████████         | 4/5 [00:18<00:04,  4.56s/it]\u001b[A"
     ]
    },
    {
     "name": "stdout",
     "output_type": "stream",
     "text": [
      "is_high_credit svm\n",
      "is_high_credit tree\n",
      "is_good_loan logistic\n",
      "is_good_loan gbm\n",
      "is_good_loan nn\n",
      "is_good_loan svm\n",
      "is_good_loan tree\n",
      "is_high_credit logistic\n",
      "is_high_credit gbm\n",
      "is_high_credit nn\n",
      "is_high_credit svm\n",
      "is_high_credit tree\n",
      "Running Baseline Experiment\n",
      "Running Tasks Experiment\n",
      "Running Models Experiment\n",
      "Running Data Partitions Experiment\n",
      "is_good_loan logistic\n",
      "is_good_loan gbm\n",
      "is_good_loan nn\n",
      "is_good_loan svm\n",
      "is_good_loan tree\n",
      "is_high_credit logistic\n",
      "is_high_credit gbm\n",
      "is_high_credit nn\n"
     ]
    },
    {
     "name": "stderr",
     "output_type": "stream",
     "text": [
      "\n",
      "100%|█████████████████████████████████████████████| 5/5 [00:22<00:00,  4.58s/it]\u001b[A"
     ]
    },
    {
     "name": "stdout",
     "output_type": "stream",
     "text": [
      "is_high_credit svm\n",
      "is_high_credit tree\n"
     ]
    },
    {
     "name": "stderr",
     "output_type": "stream",
     "text": [
      "\n",
      " 89%|████████████████████████████████████████     | 8/9 [03:05<00:24, 24.07s/it]\n",
      "  0%|                                                     | 0/5 [00:00<?, ?it/s]\u001b[A"
     ]
    },
    {
     "name": "stdout",
     "output_type": "stream",
     "text": [
      "is_good_loan logistic\n",
      "is_good_loan gbm\n",
      "is_good_loan nn\n",
      "is_good_loan svm\n",
      "is_good_loan tree\n",
      "is_high_credit logistic\n",
      "is_high_credit gbm\n",
      "is_high_credit nn\n",
      "is_high_credit svm\n",
      "is_high_credit tree\n",
      "Running Baseline Experiment\n",
      "Running Tasks Experiment\n",
      "Running Models Experiment\n",
      "Running Data Partitions Experiment\n",
      "is_good_loan logistic\n",
      "is_good_loan gbm\n",
      "is_good_loan nn\n",
      "is_good_loan svm\n",
      "is_good_loan tree\n",
      "is_high_credit logistic\n",
      "is_high_credit gbm\n",
      "is_high_credit nn\n"
     ]
    },
    {
     "name": "stderr",
     "output_type": "stream",
     "text": [
      "\n",
      " 20%|█████████                                    | 1/5 [00:04<00:17,  4.33s/it]\u001b[A"
     ]
    },
    {
     "name": "stdout",
     "output_type": "stream",
     "text": [
      "is_high_credit svm\n",
      "is_high_credit tree\n",
      "is_good_loan logistic\n",
      "is_good_loan gbm\n",
      "is_good_loan nn\n",
      "is_good_loan svm\n",
      "is_good_loan tree\n",
      "is_high_credit logistic\n",
      "is_high_credit gbm\n",
      "is_high_credit nn\n",
      "is_high_credit svm\n",
      "is_high_credit tree\n",
      "Running Baseline Experiment\n",
      "Running Tasks Experiment\n",
      "Running Models Experiment\n",
      "Running Data Partitions Experiment\n",
      "is_good_loan logistic\n",
      "is_good_loan gbm\n",
      "is_good_loan nn\n",
      "is_good_loan svm\n",
      "is_good_loan tree\n",
      "is_high_credit logistic\n",
      "is_high_credit gbm\n",
      "is_high_credit nn\n"
     ]
    },
    {
     "name": "stderr",
     "output_type": "stream",
     "text": [
      "\n",
      " 40%|██████████████████                           | 2/5 [00:08<00:13,  4.39s/it]\u001b[A"
     ]
    },
    {
     "name": "stdout",
     "output_type": "stream",
     "text": [
      "is_high_credit svm\n",
      "is_high_credit tree\n",
      "is_good_loan logistic\n",
      "is_good_loan gbm\n",
      "is_good_loan nn\n",
      "is_good_loan svm\n",
      "is_good_loan tree\n",
      "is_high_credit logistic\n",
      "is_high_credit gbm\n",
      "is_high_credit nn\n",
      "is_high_credit svm\n",
      "is_high_credit tree\n",
      "Running Baseline Experiment\n",
      "Running Tasks Experiment\n",
      "Running Models Experiment\n",
      "Running Data Partitions Experiment\n",
      "is_good_loan logistic\n",
      "is_good_loan gbm\n",
      "is_good_loan nn\n",
      "is_good_loan svm\n",
      "is_good_loan tree\n",
      "is_high_credit logistic\n",
      "is_high_credit gbm\n",
      "is_high_credit nn\n"
     ]
    },
    {
     "name": "stderr",
     "output_type": "stream",
     "text": [
      "\n",
      " 60%|███████████████████████████                  | 3/5 [00:13<00:08,  4.35s/it]\u001b[A"
     ]
    },
    {
     "name": "stdout",
     "output_type": "stream",
     "text": [
      "is_high_credit svm\n",
      "is_high_credit tree\n",
      "is_good_loan logistic\n",
      "is_good_loan gbm\n",
      "is_good_loan nn\n",
      "is_good_loan svm\n",
      "is_good_loan tree\n",
      "is_high_credit logistic\n",
      "is_high_credit gbm\n",
      "is_high_credit nn\n",
      "is_high_credit svm\n",
      "is_high_credit tree\n",
      "Running Baseline Experiment\n",
      "Running Tasks Experiment\n",
      "Running Models Experiment\n",
      "Running Data Partitions Experiment\n",
      "is_good_loan logistic\n",
      "is_good_loan gbm\n",
      "is_good_loan nn\n",
      "is_good_loan svm\n",
      "is_good_loan tree\n",
      "is_high_credit logistic\n",
      "is_high_credit gbm\n",
      "is_high_credit nn\n"
     ]
    },
    {
     "name": "stderr",
     "output_type": "stream",
     "text": [
      "\n",
      " 80%|████████████████████████████████████         | 4/5 [00:17<00:04,  4.34s/it]\u001b[A"
     ]
    },
    {
     "name": "stdout",
     "output_type": "stream",
     "text": [
      "is_high_credit svm\n",
      "is_high_credit tree\n",
      "is_good_loan logistic\n",
      "is_good_loan gbm\n",
      "is_good_loan nn\n",
      "is_good_loan svm\n",
      "is_good_loan tree\n",
      "is_high_credit logistic\n",
      "is_high_credit gbm\n",
      "is_high_credit nn\n",
      "is_high_credit svm\n",
      "is_high_credit tree\n",
      "Running Baseline Experiment\n",
      "Running Tasks Experiment\n",
      "Running Models Experiment\n",
      "Running Data Partitions Experiment\n",
      "is_good_loan logistic\n",
      "is_good_loan gbm\n",
      "is_good_loan nn\n",
      "is_good_loan svm\n",
      "is_good_loan tree\n",
      "is_high_credit logistic\n",
      "is_high_credit gbm\n",
      "is_high_credit nn\n"
     ]
    },
    {
     "name": "stderr",
     "output_type": "stream",
     "text": [
      "\n",
      "100%|█████████████████████████████████████████████| 5/5 [00:21<00:00,  4.34s/it]\u001b[A\n",
      "100%|█████████████████████████████████████████████| 9/9 [03:27<00:00, 23.04s/it]"
     ]
    },
    {
     "name": "stdout",
     "output_type": "stream",
     "text": [
      "is_high_credit svm\n",
      "is_high_credit tree\n"
     ]
    },
    {
     "name": "stderr",
     "output_type": "stream",
     "text": [
      "\n"
     ]
    }
   ],
   "source": [
    "random_thresholds = [0, 0.05, 0.1, 0.2, 0.3, 0.4]\n",
    "data_scales = [10, 9, 8, 7, 6, 5, 4, 3, 2]\n",
    "random_seeds = [0,3,4,5,6]\n",
    "\n",
    "results = []\n",
    "conformal_pred = True\n",
    "\n",
    "for data_scale in tqdm(data_scales):\n",
    "    for random_seed in tqdm(random_seeds):\n",
    "        exp = Experiment(df, features, protected_attribute, task_types,\n",
    "                             model_types, random_thresholds, n_train, n_test, random_seed, data_scale, conformal_pred)\n",
    "\n",
    "        exp.pretrain_models()\n",
    "        results.append(exp.experiment_baseline())\n",
    "        results.append(exp.experiment_tasks())\n",
    "        results.append(exp.experiment_models())\n",
    "        \n",
    "        results.append(exp.experiment_partitions(min(5, data_scale)))\n",
    "results = pd.concat(results)\n",
    "results.to_csv(\"german_credit_conformal_results.csv\", index=False)"
   ]
  },
  {
   "cell_type": "code",
   "execution_count": null,
   "id": "84010e19",
   "metadata": {},
   "outputs": [],
   "source": []
  }
 ],
 "metadata": {
  "kernelspec": {
   "display_name": "Python 3 (ipykernel)",
   "language": "python",
   "name": "python3"
  },
  "language_info": {
   "codemirror_mode": {
    "name": "ipython",
    "version": 3
   },
   "file_extension": ".py",
   "mimetype": "text/x-python",
   "name": "python",
   "nbconvert_exporter": "python",
   "pygments_lexer": "ipython3",
   "version": "3.10.9"
  }
 },
 "nbformat": 4,
 "nbformat_minor": 5
}
