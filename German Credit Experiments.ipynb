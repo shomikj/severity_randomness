{
 "cells": [
  {
   "cell_type": "code",
   "execution_count": 62,
   "id": "3be97283",
   "metadata": {},
   "outputs": [],
   "source": [
    "import pandas as pd\n",
    "from tqdm import tqdm\n",
    "from experiments import Experiment"
   ]
  },
  {
   "cell_type": "code",
   "execution_count": 63,
   "id": "cc22e1b9",
   "metadata": {},
   "outputs": [],
   "source": [
    "df = pd.read_csv('../data/german_credit.csv')"
   ]
  },
  {
   "cell_type": "code",
   "execution_count": 64,
   "id": "6a79e979",
   "metadata": {},
   "outputs": [],
   "source": [
    "features = [\n",
    "'status_checking_account',\n",
    "'duration_in_month',\n",
    "'credit_history',\n",
    "'purpose',\n",
    "'savings',\n",
    "'employement_since',\n",
    "'installment_rate',\n",
    "'debters',\n",
    "'resident_since',\n",
    "'property',\n",
    "'age',\n",
    "'other_installments',\n",
    "'housing',\n",
    "'num_credits',\n",
    "'job',\n",
    "'num_liable',\n",
    "'telephone',\n",
    "'foreign_worker'\n",
    "]\n",
    "protected_attribute = \"gender\"\n",
    "task_types =  [\"is_good_loan\", \"is_high_credit\"]\n",
    "model_types = [\"logistic\", \"gbm\", \"nn\", \"svm\", \"tree\"]\n",
    "n_train = 800\n",
    "n_test = 200"
   ]
  },
  {
   "cell_type": "markdown",
   "id": "5de05ea6",
   "metadata": {},
   "source": [
    "# Randomness Based on Distance to Threshold"
   ]
  },
  {
   "cell_type": "code",
   "execution_count": 65,
   "id": "baad157e",
   "metadata": {
    "scrolled": true
   },
   "outputs": [
    {
     "name": "stderr",
     "output_type": "stream",
     "text": [
      "  0%|                                                     | 0/9 [00:00<?, ?it/s]\n",
      "  0%|                                                     | 0/5 [00:00<?, ?it/s]\u001b[A"
     ]
    },
    {
     "name": "stdout",
     "output_type": "stream",
     "text": [
      "is_good_loan logistic\n",
      "is_good_loan gbm\n",
      "is_good_loan nn\n",
      "is_good_loan svm\n",
      "is_good_loan tree\n",
      "is_high_credit logistic\n",
      "is_high_credit gbm\n",
      "is_high_credit nn\n",
      "is_high_credit svm\n",
      "is_high_credit tree\n",
      "Running Baseline Experiment\n",
      "Running Tasks Experiment\n",
      "Running Models Experiment\n",
      "Running Data Partitions Experiment\n",
      "is_good_loan logistic\n",
      "is_good_loan gbm\n",
      "is_good_loan nn\n",
      "is_good_loan svm\n",
      "is_good_loan tree\n",
      "is_high_credit logistic\n",
      "is_high_credit gbm\n",
      "is_high_credit nn\n",
      "is_high_credit svm\n",
      "is_high_credit tree\n"
     ]
    },
    {
     "name": "stderr",
     "output_type": "stream",
     "text": [
      "\n",
      " 20%|█████████                                    | 1/5 [00:04<00:19,  4.86s/it]\u001b[A"
     ]
    },
    {
     "name": "stdout",
     "output_type": "stream",
     "text": [
      "is_good_loan logistic\n",
      "is_good_loan gbm\n",
      "is_good_loan nn\n",
      "is_good_loan svm\n",
      "is_good_loan tree\n",
      "is_high_credit logistic\n",
      "is_high_credit gbm\n",
      "is_high_credit nn\n",
      "is_high_credit svm\n",
      "is_high_credit tree\n",
      "Running Baseline Experiment\n",
      "Running Tasks Experiment\n",
      "Running Models Experiment\n",
      "Running Data Partitions Experiment\n",
      "is_good_loan logistic\n",
      "is_good_loan gbm\n",
      "is_good_loan nn\n",
      "is_good_loan svm\n",
      "is_good_loan tree\n",
      "is_high_credit logistic\n",
      "is_high_credit gbm\n",
      "is_high_credit nn\n",
      "is_high_credit svm\n"
     ]
    },
    {
     "name": "stderr",
     "output_type": "stream",
     "text": [
      "\n",
      " 40%|██████████████████                           | 2/5 [00:09<00:14,  4.76s/it]\u001b[A"
     ]
    },
    {
     "name": "stdout",
     "output_type": "stream",
     "text": [
      "is_high_credit tree\n",
      "is_good_loan logistic\n",
      "is_good_loan gbm\n",
      "is_good_loan nn\n",
      "is_good_loan svm\n",
      "is_good_loan tree\n",
      "is_high_credit logistic\n",
      "is_high_credit gbm\n",
      "is_high_credit nn\n",
      "is_high_credit svm\n",
      "is_high_credit tree\n",
      "Running Baseline Experiment\n",
      "Running Tasks Experiment\n",
      "Running Models Experiment\n",
      "Running Data Partitions Experiment\n",
      "is_good_loan logistic\n",
      "is_good_loan gbm\n",
      "is_good_loan nn\n",
      "is_good_loan svm\n",
      "is_good_loan tree\n",
      "is_high_credit logistic\n",
      "is_high_credit gbm\n",
      "is_high_credit nn\n",
      "is_high_credit svm\n",
      "is_high_credit tree\n"
     ]
    },
    {
     "name": "stderr",
     "output_type": "stream",
     "text": [
      "\n",
      " 60%|███████████████████████████                  | 3/5 [00:14<00:10,  5.01s/it]\u001b[A"
     ]
    },
    {
     "name": "stdout",
     "output_type": "stream",
     "text": [
      "is_good_loan logistic\n",
      "is_good_loan gbm\n",
      "is_good_loan nn\n",
      "is_good_loan svm\n",
      "is_good_loan tree\n",
      "is_high_credit logistic\n",
      "is_high_credit gbm\n",
      "is_high_credit nn\n",
      "is_high_credit svm\n",
      "is_high_credit tree\n",
      "Running Baseline Experiment\n",
      "Running Tasks Experiment\n",
      "Running Models Experiment\n",
      "Running Data Partitions Experiment\n",
      "is_good_loan logistic\n",
      "is_good_loan gbm\n",
      "is_good_loan nn\n",
      "is_good_loan svm\n",
      "is_good_loan tree\n",
      "is_high_credit logistic\n",
      "is_high_credit gbm\n",
      "is_high_credit nn\n",
      "is_high_credit svm\n"
     ]
    },
    {
     "name": "stderr",
     "output_type": "stream",
     "text": [
      "\n",
      " 80%|████████████████████████████████████         | 4/5 [00:19<00:04,  4.91s/it]\u001b[A"
     ]
    },
    {
     "name": "stdout",
     "output_type": "stream",
     "text": [
      "is_high_credit tree\n",
      "is_good_loan logistic\n",
      "is_good_loan gbm\n",
      "is_good_loan nn\n",
      "is_good_loan svm\n",
      "is_good_loan tree\n",
      "is_high_credit logistic\n",
      "is_high_credit gbm\n",
      "is_high_credit nn\n",
      "is_high_credit svm\n",
      "is_high_credit tree\n",
      "Running Baseline Experiment\n",
      "Running Tasks Experiment\n",
      "Running Models Experiment\n",
      "Running Data Partitions Experiment\n",
      "is_good_loan logistic\n",
      "is_good_loan gbm\n",
      "is_good_loan nn\n",
      "is_good_loan svm\n",
      "is_good_loan tree\n",
      "is_high_credit logistic\n",
      "is_high_credit gbm\n",
      "is_high_credit nn\n",
      "is_high_credit svm\n"
     ]
    },
    {
     "name": "stderr",
     "output_type": "stream",
     "text": [
      "\n",
      "100%|█████████████████████████████████████████████| 5/5 [00:24<00:00,  4.88s/it]\u001b[A\n",
      " 11%|█████                                        | 1/9 [00:24<03:15, 24.40s/it]"
     ]
    },
    {
     "name": "stdout",
     "output_type": "stream",
     "text": [
      "is_high_credit tree\n"
     ]
    },
    {
     "name": "stderr",
     "output_type": "stream",
     "text": [
      "\n",
      "  0%|                                                     | 0/5 [00:00<?, ?it/s]\u001b[A"
     ]
    },
    {
     "name": "stdout",
     "output_type": "stream",
     "text": [
      "is_good_loan logistic\n",
      "is_good_loan gbm\n",
      "is_good_loan nn\n",
      "is_good_loan svm\n",
      "is_good_loan tree\n",
      "is_high_credit logistic\n",
      "is_high_credit gbm\n",
      "is_high_credit nn\n",
      "is_high_credit svm\n",
      "is_high_credit tree\n",
      "Running Baseline Experiment\n",
      "Running Tasks Experiment\n",
      "Running Models Experiment\n",
      "Running Data Partitions Experiment\n",
      "is_good_loan logistic\n",
      "is_good_loan gbm\n",
      "is_good_loan nn\n",
      "is_good_loan svm\n",
      "is_good_loan tree\n",
      "is_high_credit logistic\n",
      "is_high_credit gbm\n",
      "is_high_credit nn\n",
      "is_high_credit svm\n",
      "is_high_credit tree\n"
     ]
    },
    {
     "name": "stderr",
     "output_type": "stream",
     "text": [
      "\n",
      " 20%|█████████                                    | 1/5 [00:04<00:19,  4.88s/it]\u001b[A"
     ]
    },
    {
     "name": "stdout",
     "output_type": "stream",
     "text": [
      "is_good_loan logistic\n",
      "is_good_loan gbm\n",
      "is_good_loan nn\n",
      "is_good_loan svm\n",
      "is_good_loan tree\n",
      "is_high_credit logistic\n",
      "is_high_credit gbm\n",
      "is_high_credit nn\n",
      "is_high_credit svm\n",
      "is_high_credit tree\n",
      "Running Baseline Experiment\n",
      "Running Tasks Experiment\n",
      "Running Models Experiment\n",
      "Running Data Partitions Experiment\n",
      "is_good_loan logistic\n",
      "is_good_loan gbm\n",
      "is_good_loan nn\n",
      "is_good_loan svm\n",
      "is_good_loan tree\n",
      "is_high_credit logistic\n",
      "is_high_credit gbm\n",
      "is_high_credit nn\n",
      "is_high_credit svm\n",
      "is_high_credit tree\n"
     ]
    },
    {
     "name": "stderr",
     "output_type": "stream",
     "text": [
      "\n",
      " 40%|██████████████████                           | 2/5 [00:09<00:14,  4.86s/it]\u001b[A"
     ]
    },
    {
     "name": "stdout",
     "output_type": "stream",
     "text": [
      "is_good_loan logistic\n",
      "is_good_loan gbm\n",
      "is_good_loan nn\n",
      "is_good_loan svm\n",
      "is_good_loan tree\n",
      "is_high_credit logistic\n",
      "is_high_credit gbm\n",
      "is_high_credit nn\n",
      "is_high_credit svm\n",
      "is_high_credit tree\n",
      "Running Baseline Experiment\n",
      "Running Tasks Experiment\n",
      "Running Models Experiment\n",
      "Running Data Partitions Experiment\n",
      "is_good_loan logistic\n",
      "is_good_loan gbm\n",
      "is_good_loan nn\n",
      "is_good_loan svm\n",
      "is_good_loan tree\n",
      "is_high_credit logistic\n",
      "is_high_credit gbm\n",
      "is_high_credit nn\n",
      "is_high_credit svm\n",
      "is_high_credit tree\n"
     ]
    },
    {
     "name": "stderr",
     "output_type": "stream",
     "text": [
      "\n",
      " 60%|███████████████████████████                  | 3/5 [00:14<00:09,  4.87s/it]\u001b[A"
     ]
    },
    {
     "name": "stdout",
     "output_type": "stream",
     "text": [
      "is_good_loan logistic\n",
      "is_good_loan gbm\n",
      "is_good_loan nn\n",
      "is_good_loan svm\n",
      "is_good_loan tree\n",
      "is_high_credit logistic\n",
      "is_high_credit gbm\n",
      "is_high_credit nn\n",
      "is_high_credit svm\n",
      "is_high_credit tree\n",
      "Running Baseline Experiment\n",
      "Running Tasks Experiment\n",
      "Running Models Experiment\n",
      "Running Data Partitions Experiment\n",
      "is_good_loan logistic\n",
      "is_good_loan gbm\n",
      "is_good_loan nn\n",
      "is_good_loan svm\n",
      "is_good_loan tree\n",
      "is_high_credit logistic\n",
      "is_high_credit gbm\n",
      "is_high_credit nn\n"
     ]
    },
    {
     "name": "stderr",
     "output_type": "stream",
     "text": [
      "\n",
      " 80%|████████████████████████████████████         | 4/5 [00:19<00:04,  4.85s/it]\u001b[A"
     ]
    },
    {
     "name": "stdout",
     "output_type": "stream",
     "text": [
      "is_high_credit svm\n",
      "is_high_credit tree\n",
      "is_good_loan logistic\n",
      "is_good_loan gbm\n",
      "is_good_loan nn\n",
      "is_good_loan svm\n",
      "is_good_loan tree\n",
      "is_high_credit logistic\n",
      "is_high_credit gbm\n",
      "is_high_credit nn\n",
      "is_high_credit svm\n",
      "is_high_credit tree\n",
      "Running Baseline Experiment\n",
      "Running Tasks Experiment\n",
      "Running Models Experiment\n",
      "Running Data Partitions Experiment\n",
      "is_good_loan logistic\n",
      "is_good_loan gbm\n",
      "is_good_loan nn\n",
      "is_good_loan svm\n",
      "is_good_loan tree\n",
      "is_high_credit logistic\n",
      "is_high_credit gbm\n",
      "is_high_credit nn\n",
      "is_high_credit svm\n"
     ]
    },
    {
     "name": "stderr",
     "output_type": "stream",
     "text": [
      "\n",
      "100%|█████████████████████████████████████████████| 5/5 [00:24<00:00,  4.87s/it]\u001b[A\n",
      " 22%|██████████                                   | 2/9 [00:48<02:50, 24.37s/it]"
     ]
    },
    {
     "name": "stdout",
     "output_type": "stream",
     "text": [
      "is_high_credit tree\n"
     ]
    },
    {
     "name": "stderr",
     "output_type": "stream",
     "text": [
      "\n",
      "  0%|                                                     | 0/5 [00:00<?, ?it/s]\u001b[A"
     ]
    },
    {
     "name": "stdout",
     "output_type": "stream",
     "text": [
      "is_good_loan logistic\n",
      "is_good_loan gbm\n",
      "is_good_loan nn\n",
      "is_good_loan svm\n",
      "is_good_loan tree\n",
      "is_high_credit logistic\n",
      "is_high_credit gbm\n",
      "is_high_credit nn\n",
      "is_high_credit svm\n",
      "is_high_credit tree\n",
      "Running Baseline Experiment\n",
      "Running Tasks Experiment\n",
      "Running Models Experiment\n",
      "Running Data Partitions Experiment\n",
      "is_good_loan logistic\n",
      "is_good_loan gbm\n",
      "is_good_loan nn\n",
      "is_good_loan svm\n",
      "is_good_loan tree\n",
      "is_high_credit logistic\n",
      "is_high_credit gbm\n",
      "is_high_credit nn\n",
      "is_high_credit svm\n",
      "is_high_credit tree\n"
     ]
    },
    {
     "name": "stderr",
     "output_type": "stream",
     "text": [
      "\n",
      " 20%|█████████                                    | 1/5 [00:04<00:19,  4.87s/it]\u001b[A"
     ]
    },
    {
     "name": "stdout",
     "output_type": "stream",
     "text": [
      "is_good_loan logistic\n",
      "is_good_loan gbm\n",
      "is_good_loan nn\n",
      "is_good_loan svm\n",
      "is_good_loan tree\n",
      "is_high_credit logistic\n",
      "is_high_credit gbm\n",
      "is_high_credit nn\n",
      "is_high_credit svm\n",
      "is_high_credit tree\n",
      "Running Baseline Experiment\n",
      "Running Tasks Experiment\n",
      "Running Models Experiment\n",
      "Running Data Partitions Experiment\n",
      "is_good_loan logistic\n",
      "is_good_loan gbm\n",
      "is_good_loan nn\n",
      "is_good_loan svm\n",
      "is_good_loan tree\n",
      "is_high_credit logistic\n",
      "is_high_credit gbm\n",
      "is_high_credit nn\n",
      "is_high_credit svm\n",
      "is_high_credit tree\n"
     ]
    },
    {
     "name": "stderr",
     "output_type": "stream",
     "text": [
      "\n",
      " 40%|██████████████████                           | 2/5 [00:09<00:14,  4.93s/it]\u001b[A"
     ]
    },
    {
     "name": "stdout",
     "output_type": "stream",
     "text": [
      "is_good_loan logistic\n",
      "is_good_loan gbm\n",
      "is_good_loan nn\n",
      "is_good_loan svm\n",
      "is_good_loan tree\n",
      "is_high_credit logistic\n",
      "is_high_credit gbm\n",
      "is_high_credit nn\n",
      "is_high_credit svm\n",
      "is_high_credit tree\n",
      "Running Baseline Experiment\n",
      "Running Tasks Experiment\n",
      "Running Models Experiment\n",
      "Running Data Partitions Experiment\n",
      "is_good_loan logistic\n",
      "is_good_loan gbm\n",
      "is_good_loan nn\n",
      "is_good_loan svm\n",
      "is_good_loan tree\n",
      "is_high_credit logistic\n",
      "is_high_credit gbm\n",
      "is_high_credit nn\n",
      "is_high_credit svm\n",
      "is_high_credit tree\n"
     ]
    },
    {
     "name": "stderr",
     "output_type": "stream",
     "text": [
      "\n",
      " 60%|███████████████████████████                  | 3/5 [00:14<00:09,  4.88s/it]\u001b[A"
     ]
    },
    {
     "name": "stdout",
     "output_type": "stream",
     "text": [
      "is_good_loan logistic\n",
      "is_good_loan gbm\n",
      "is_good_loan nn\n",
      "is_good_loan svm\n",
      "is_good_loan tree\n",
      "is_high_credit logistic\n",
      "is_high_credit gbm\n",
      "is_high_credit nn\n",
      "is_high_credit svm\n",
      "is_high_credit tree\n",
      "Running Baseline Experiment\n",
      "Running Tasks Experiment\n",
      "Running Models Experiment\n",
      "Running Data Partitions Experiment\n",
      "is_good_loan logistic\n",
      "is_good_loan gbm\n",
      "is_good_loan nn\n",
      "is_good_loan svm\n",
      "is_good_loan tree\n",
      "is_high_credit logistic\n",
      "is_high_credit gbm\n",
      "is_high_credit nn\n",
      "is_high_credit svm\n",
      "is_high_credit tree\n"
     ]
    },
    {
     "name": "stderr",
     "output_type": "stream",
     "text": [
      "\n",
      " 80%|████████████████████████████████████         | 4/5 [00:19<00:04,  4.89s/it]\u001b[A"
     ]
    },
    {
     "name": "stdout",
     "output_type": "stream",
     "text": [
      "is_good_loan logistic\n",
      "is_good_loan gbm\n",
      "is_good_loan nn\n",
      "is_good_loan svm\n",
      "is_good_loan tree\n",
      "is_high_credit logistic\n",
      "is_high_credit gbm\n",
      "is_high_credit nn\n",
      "is_high_credit svm\n",
      "is_high_credit tree\n",
      "Running Baseline Experiment\n",
      "Running Tasks Experiment\n",
      "Running Models Experiment\n",
      "Running Data Partitions Experiment\n",
      "is_good_loan logistic\n",
      "is_good_loan gbm\n",
      "is_good_loan nn\n",
      "is_good_loan svm\n",
      "is_good_loan tree\n",
      "is_high_credit logistic\n",
      "is_high_credit gbm\n",
      "is_high_credit nn\n",
      "is_high_credit svm\n"
     ]
    },
    {
     "name": "stderr",
     "output_type": "stream",
     "text": [
      "\n",
      "100%|█████████████████████████████████████████████| 5/5 [00:24<00:00,  4.89s/it]\u001b[A\n",
      " 33%|███████████████                              | 3/9 [01:13<02:26, 24.42s/it]"
     ]
    },
    {
     "name": "stdout",
     "output_type": "stream",
     "text": [
      "is_high_credit tree\n"
     ]
    },
    {
     "name": "stderr",
     "output_type": "stream",
     "text": [
      "\n",
      "  0%|                                                     | 0/5 [00:00<?, ?it/s]\u001b[A"
     ]
    },
    {
     "name": "stdout",
     "output_type": "stream",
     "text": [
      "is_good_loan logistic\n",
      "is_good_loan gbm\n",
      "is_good_loan nn\n",
      "is_good_loan svm\n",
      "is_good_loan tree\n",
      "is_high_credit logistic\n",
      "is_high_credit gbm\n",
      "is_high_credit nn\n",
      "is_high_credit svm\n",
      "is_high_credit tree\n",
      "Running Baseline Experiment\n",
      "Running Tasks Experiment\n",
      "Running Models Experiment\n",
      "Running Data Partitions Experiment\n",
      "is_good_loan logistic\n",
      "is_good_loan gbm\n",
      "is_good_loan nn\n",
      "is_good_loan svm\n",
      "is_good_loan tree\n",
      "is_high_credit logistic\n",
      "is_high_credit gbm\n",
      "is_high_credit nn\n",
      "is_high_credit svm\n",
      "is_high_credit tree\n"
     ]
    },
    {
     "name": "stderr",
     "output_type": "stream",
     "text": [
      "\n",
      " 20%|█████████                                    | 1/5 [00:04<00:19,  4.96s/it]\u001b[A"
     ]
    },
    {
     "name": "stdout",
     "output_type": "stream",
     "text": [
      "is_good_loan logistic\n",
      "is_good_loan gbm\n",
      "is_good_loan nn\n",
      "is_good_loan svm\n",
      "is_good_loan tree\n",
      "is_high_credit logistic\n",
      "is_high_credit gbm\n",
      "is_high_credit nn\n",
      "is_high_credit svm\n",
      "is_high_credit tree\n",
      "Running Baseline Experiment\n",
      "Running Tasks Experiment\n",
      "Running Models Experiment\n",
      "Running Data Partitions Experiment\n",
      "is_good_loan logistic\n",
      "is_good_loan gbm\n",
      "is_good_loan nn\n",
      "is_good_loan svm\n",
      "is_good_loan tree\n",
      "is_high_credit logistic\n",
      "is_high_credit gbm\n",
      "is_high_credit nn\n",
      "is_high_credit svm\n",
      "is_high_credit tree\n"
     ]
    },
    {
     "name": "stderr",
     "output_type": "stream",
     "text": [
      "\n",
      " 40%|██████████████████                           | 2/5 [00:09<00:14,  4.95s/it]\u001b[A"
     ]
    },
    {
     "name": "stdout",
     "output_type": "stream",
     "text": [
      "is_good_loan logistic\n",
      "is_good_loan gbm\n",
      "is_good_loan nn\n",
      "is_good_loan svm\n",
      "is_good_loan tree\n",
      "is_high_credit logistic\n",
      "is_high_credit gbm\n",
      "is_high_credit nn\n",
      "is_high_credit svm\n",
      "is_high_credit tree\n",
      "Running Baseline Experiment\n",
      "Running Tasks Experiment\n",
      "Running Models Experiment\n",
      "Running Data Partitions Experiment\n",
      "is_good_loan logistic\n",
      "is_good_loan gbm\n",
      "is_good_loan nn\n",
      "is_good_loan svm\n",
      "is_good_loan tree\n",
      "is_high_credit logistic\n",
      "is_high_credit gbm\n",
      "is_high_credit nn\n",
      "is_high_credit svm\n",
      "is_high_credit tree\n"
     ]
    },
    {
     "name": "stderr",
     "output_type": "stream",
     "text": [
      "\n",
      " 60%|███████████████████████████                  | 3/5 [00:14<00:09,  4.98s/it]\u001b[A"
     ]
    },
    {
     "name": "stdout",
     "output_type": "stream",
     "text": [
      "is_good_loan logistic\n",
      "is_good_loan gbm\n",
      "is_good_loan nn\n",
      "is_good_loan svm\n",
      "is_good_loan tree\n",
      "is_high_credit logistic\n",
      "is_high_credit gbm\n",
      "is_high_credit nn\n",
      "is_high_credit svm\n",
      "is_high_credit tree\n",
      "Running Baseline Experiment\n",
      "Running Tasks Experiment\n",
      "Running Models Experiment\n",
      "Running Data Partitions Experiment\n",
      "is_good_loan logistic\n",
      "is_good_loan gbm\n",
      "is_good_loan nn\n",
      "is_good_loan svm\n",
      "is_good_loan tree\n",
      "is_high_credit logistic\n",
      "is_high_credit gbm\n",
      "is_high_credit nn\n",
      "is_high_credit svm\n",
      "is_high_credit tree\n"
     ]
    },
    {
     "name": "stderr",
     "output_type": "stream",
     "text": [
      "\n",
      " 80%|████████████████████████████████████         | 4/5 [00:19<00:05,  5.01s/it]\u001b[A"
     ]
    },
    {
     "name": "stdout",
     "output_type": "stream",
     "text": [
      "is_good_loan logistic\n",
      "is_good_loan gbm\n",
      "is_good_loan nn\n",
      "is_good_loan svm\n",
      "is_good_loan tree\n",
      "is_high_credit logistic\n",
      "is_high_credit gbm\n",
      "is_high_credit nn\n",
      "is_high_credit svm\n",
      "is_high_credit tree\n",
      "Running Baseline Experiment\n",
      "Running Tasks Experiment\n",
      "Running Models Experiment\n",
      "Running Data Partitions Experiment\n",
      "is_good_loan logistic\n",
      "is_good_loan gbm\n",
      "is_good_loan nn\n",
      "is_good_loan svm\n",
      "is_good_loan tree\n",
      "is_high_credit logistic\n",
      "is_high_credit gbm\n",
      "is_high_credit nn\n",
      "is_high_credit svm\n"
     ]
    },
    {
     "name": "stderr",
     "output_type": "stream",
     "text": [
      "\n",
      "100%|█████████████████████████████████████████████| 5/5 [00:25<00:00,  5.00s/it]\u001b[A\n",
      " 44%|████████████████████                         | 4/9 [01:38<02:03, 24.66s/it]"
     ]
    },
    {
     "name": "stdout",
     "output_type": "stream",
     "text": [
      "is_high_credit tree\n"
     ]
    },
    {
     "name": "stderr",
     "output_type": "stream",
     "text": [
      "\n",
      "  0%|                                                     | 0/5 [00:00<?, ?it/s]\u001b[A"
     ]
    },
    {
     "name": "stdout",
     "output_type": "stream",
     "text": [
      "is_good_loan logistic\n",
      "is_good_loan gbm\n",
      "is_good_loan nn\n",
      "is_good_loan svm\n",
      "is_good_loan tree\n",
      "is_high_credit logistic\n",
      "is_high_credit gbm\n",
      "is_high_credit nn\n",
      "is_high_credit svm\n",
      "is_high_credit tree\n",
      "Running Baseline Experiment\n",
      "Running Tasks Experiment\n",
      "Running Models Experiment\n",
      "Running Data Partitions Experiment\n",
      "is_good_loan logistic\n",
      "is_good_loan gbm\n",
      "is_good_loan nn\n",
      "is_good_loan svm\n",
      "is_good_loan tree\n",
      "is_high_credit logistic\n",
      "is_high_credit gbm\n",
      "is_high_credit nn\n",
      "is_high_credit svm\n",
      "is_high_credit tree\n"
     ]
    },
    {
     "name": "stderr",
     "output_type": "stream",
     "text": [
      "\n",
      " 20%|█████████                                    | 1/5 [00:05<00:20,  5.15s/it]\u001b[A"
     ]
    },
    {
     "name": "stdout",
     "output_type": "stream",
     "text": [
      "is_good_loan logistic\n",
      "is_good_loan gbm\n",
      "is_good_loan nn\n",
      "is_good_loan svm\n",
      "is_good_loan tree\n",
      "is_high_credit logistic\n",
      "is_high_credit gbm\n",
      "is_high_credit nn\n",
      "is_high_credit svm\n",
      "is_high_credit tree\n",
      "Running Baseline Experiment\n",
      "Running Tasks Experiment\n",
      "Running Models Experiment\n",
      "Running Data Partitions Experiment\n",
      "is_good_loan logistic\n",
      "is_good_loan gbm\n",
      "is_good_loan nn\n",
      "is_good_loan svm\n",
      "is_good_loan tree\n",
      "is_high_credit logistic\n",
      "is_high_credit gbm\n",
      "is_high_credit nn\n",
      "is_high_credit svm\n",
      "is_high_credit tree\n"
     ]
    },
    {
     "name": "stderr",
     "output_type": "stream",
     "text": [
      "\n",
      " 40%|██████████████████                           | 2/5 [00:10<00:15,  5.18s/it]\u001b[A"
     ]
    },
    {
     "name": "stdout",
     "output_type": "stream",
     "text": [
      "is_good_loan logistic\n",
      "is_good_loan gbm\n",
      "is_good_loan nn\n",
      "is_good_loan svm\n",
      "is_good_loan tree\n",
      "is_high_credit logistic\n",
      "is_high_credit gbm\n",
      "is_high_credit nn\n",
      "is_high_credit svm\n",
      "is_high_credit tree\n",
      "Running Baseline Experiment\n",
      "Running Tasks Experiment\n",
      "Running Models Experiment\n",
      "Running Data Partitions Experiment\n",
      "is_good_loan logistic\n",
      "is_good_loan gbm\n",
      "is_good_loan nn\n",
      "is_good_loan svm\n",
      "is_good_loan tree\n",
      "is_high_credit logistic\n",
      "is_high_credit gbm\n",
      "is_high_credit nn\n",
      "is_high_credit svm\n",
      "is_high_credit tree\n"
     ]
    },
    {
     "name": "stderr",
     "output_type": "stream",
     "text": [
      "\n",
      " 60%|███████████████████████████                  | 3/5 [00:15<00:10,  5.19s/it]\u001b[A"
     ]
    },
    {
     "name": "stdout",
     "output_type": "stream",
     "text": [
      "is_good_loan logistic\n",
      "is_good_loan gbm\n",
      "is_good_loan nn\n",
      "is_good_loan svm\n",
      "is_good_loan tree\n",
      "is_high_credit logistic\n",
      "is_high_credit gbm\n",
      "is_high_credit nn\n",
      "is_high_credit svm\n",
      "is_high_credit tree\n",
      "Running Baseline Experiment\n",
      "Running Tasks Experiment\n",
      "Running Models Experiment\n",
      "Running Data Partitions Experiment\n",
      "is_good_loan logistic\n",
      "is_good_loan gbm\n",
      "is_good_loan nn\n",
      "is_good_loan svm\n",
      "is_good_loan tree\n",
      "is_high_credit logistic\n",
      "is_high_credit gbm\n",
      "is_high_credit nn\n",
      "is_high_credit svm\n",
      "is_high_credit tree\n"
     ]
    },
    {
     "name": "stderr",
     "output_type": "stream",
     "text": [
      "\n",
      " 80%|████████████████████████████████████         | 4/5 [00:20<00:05,  5.19s/it]\u001b[A"
     ]
    },
    {
     "name": "stdout",
     "output_type": "stream",
     "text": [
      "is_good_loan logistic\n",
      "is_good_loan gbm\n",
      "is_good_loan nn\n",
      "is_good_loan svm\n",
      "is_good_loan tree\n",
      "is_high_credit logistic\n",
      "is_high_credit gbm\n",
      "is_high_credit nn\n",
      "is_high_credit svm\n",
      "is_high_credit tree\n",
      "Running Baseline Experiment\n",
      "Running Tasks Experiment\n",
      "Running Models Experiment\n",
      "Running Data Partitions Experiment\n",
      "is_good_loan logistic\n",
      "is_good_loan gbm\n",
      "is_good_loan nn\n",
      "is_good_loan svm\n",
      "is_good_loan tree\n",
      "is_high_credit logistic\n",
      "is_high_credit gbm\n",
      "is_high_credit nn\n",
      "is_high_credit svm\n",
      "is_high_credit tree\n"
     ]
    },
    {
     "name": "stderr",
     "output_type": "stream",
     "text": [
      "\n",
      "100%|█████████████████████████████████████████████| 5/5 [00:26<00:00,  5.30s/it]\u001b[A\n",
      " 56%|█████████████████████████                    | 5/9 [02:04<01:41, 25.31s/it]\n",
      "  0%|                                                     | 0/5 [00:00<?, ?it/s]\u001b[A"
     ]
    },
    {
     "name": "stdout",
     "output_type": "stream",
     "text": [
      "is_good_loan logistic\n",
      "is_good_loan gbm\n",
      "is_good_loan nn\n",
      "is_good_loan svm\n",
      "is_good_loan tree\n",
      "is_high_credit logistic\n",
      "is_high_credit gbm\n",
      "is_high_credit nn\n",
      "is_high_credit svm\n",
      "is_high_credit tree\n",
      "Running Baseline Experiment\n",
      "Running Tasks Experiment\n",
      "Running Models Experiment\n",
      "Running Data Partitions Experiment\n",
      "is_good_loan logistic\n",
      "is_good_loan gbm\n",
      "is_good_loan nn\n",
      "is_good_loan svm\n",
      "is_good_loan tree\n",
      "is_high_credit logistic\n",
      "is_high_credit gbm\n",
      "is_high_credit nn\n",
      "is_high_credit svm\n",
      "is_high_credit tree\n"
     ]
    },
    {
     "name": "stderr",
     "output_type": "stream",
     "text": [
      "\n",
      " 20%|█████████                                    | 1/5 [00:06<00:24,  6.10s/it]\u001b[A"
     ]
    },
    {
     "name": "stdout",
     "output_type": "stream",
     "text": [
      "is_good_loan logistic\n",
      "is_good_loan gbm\n",
      "is_good_loan nn\n",
      "is_good_loan svm\n",
      "is_good_loan tree\n",
      "is_high_credit logistic\n",
      "is_high_credit gbm\n",
      "is_high_credit nn\n",
      "is_high_credit svm\n",
      "is_high_credit tree\n",
      "Running Baseline Experiment\n",
      "Running Tasks Experiment\n",
      "Running Models Experiment\n",
      "Running Data Partitions Experiment\n",
      "is_good_loan logistic\n",
      "is_good_loan gbm\n",
      "is_good_loan nn\n",
      "is_good_loan svm\n",
      "is_good_loan tree\n",
      "is_high_credit logistic\n",
      "is_high_credit gbm\n",
      "is_high_credit nn\n",
      "is_high_credit svm\n",
      "is_high_credit tree\n"
     ]
    },
    {
     "name": "stderr",
     "output_type": "stream",
     "text": [
      "\n",
      " 40%|██████████████████                           | 2/5 [00:12<00:18,  6.15s/it]\u001b[A"
     ]
    },
    {
     "name": "stdout",
     "output_type": "stream",
     "text": [
      "is_good_loan logistic\n",
      "is_good_loan gbm\n",
      "is_good_loan nn\n",
      "is_good_loan svm\n",
      "is_good_loan tree\n",
      "is_high_credit logistic\n",
      "is_high_credit gbm\n",
      "is_high_credit nn\n",
      "is_high_credit svm\n",
      "is_high_credit tree\n",
      "Running Baseline Experiment\n",
      "Running Tasks Experiment\n",
      "Running Models Experiment\n",
      "Running Data Partitions Experiment\n",
      "is_good_loan logistic\n",
      "is_good_loan gbm\n",
      "is_good_loan nn\n",
      "is_good_loan svm\n",
      "is_good_loan tree\n",
      "is_high_credit logistic\n",
      "is_high_credit gbm\n",
      "is_high_credit nn\n",
      "is_high_credit svm\n",
      "is_high_credit tree\n"
     ]
    },
    {
     "name": "stderr",
     "output_type": "stream",
     "text": [
      "\n",
      " 60%|███████████████████████████                  | 3/5 [00:18<00:12,  6.03s/it]\u001b[A"
     ]
    },
    {
     "name": "stdout",
     "output_type": "stream",
     "text": [
      "is_good_loan logistic\n",
      "is_good_loan gbm\n",
      "is_good_loan nn\n",
      "is_good_loan svm\n",
      "is_good_loan tree\n",
      "is_high_credit logistic\n",
      "is_high_credit gbm\n",
      "is_high_credit nn\n",
      "is_high_credit svm\n",
      "is_high_credit tree\n",
      "Running Baseline Experiment\n",
      "Running Tasks Experiment\n",
      "Running Models Experiment\n",
      "Running Data Partitions Experiment\n",
      "is_good_loan logistic\n",
      "is_good_loan gbm\n",
      "is_good_loan nn\n",
      "is_good_loan svm\n",
      "is_good_loan tree\n",
      "is_high_credit logistic\n",
      "is_high_credit gbm\n",
      "is_high_credit nn\n",
      "is_high_credit svm\n",
      "is_high_credit tree\n"
     ]
    },
    {
     "name": "stderr",
     "output_type": "stream",
     "text": [
      "\n",
      " 80%|████████████████████████████████████         | 4/5 [00:24<00:06,  6.01s/it]\u001b[A"
     ]
    },
    {
     "name": "stdout",
     "output_type": "stream",
     "text": [
      "is_good_loan logistic\n",
      "is_good_loan gbm\n",
      "is_good_loan nn\n",
      "is_good_loan svm\n",
      "is_good_loan tree\n",
      "is_high_credit logistic\n",
      "is_high_credit gbm\n",
      "is_high_credit nn\n",
      "is_high_credit svm\n",
      "is_high_credit tree\n",
      "Running Baseline Experiment\n",
      "Running Tasks Experiment\n",
      "Running Models Experiment\n",
      "Running Data Partitions Experiment\n",
      "is_good_loan logistic\n",
      "is_good_loan gbm\n",
      "is_good_loan nn\n",
      "is_good_loan svm\n",
      "is_good_loan tree\n",
      "is_high_credit logistic\n",
      "is_high_credit gbm\n",
      "is_high_credit nn\n",
      "is_high_credit svm\n",
      "is_high_credit tree\n"
     ]
    },
    {
     "name": "stderr",
     "output_type": "stream",
     "text": [
      "\n",
      "100%|█████████████████████████████████████████████| 5/5 [00:30<00:00,  6.01s/it]\u001b[A\n",
      " 67%|██████████████████████████████               | 6/9 [02:34<01:20, 26.92s/it]\n",
      "  0%|                                                     | 0/5 [00:00<?, ?it/s]\u001b[A"
     ]
    },
    {
     "name": "stdout",
     "output_type": "stream",
     "text": [
      "is_good_loan logistic\n",
      "is_good_loan gbm\n",
      "is_good_loan nn\n",
      "is_good_loan svm\n",
      "is_good_loan tree\n",
      "is_high_credit logistic\n",
      "is_high_credit gbm\n",
      "is_high_credit nn\n",
      "is_high_credit svm\n",
      "is_high_credit tree\n",
      "Running Baseline Experiment\n",
      "Running Tasks Experiment\n",
      "Running Models Experiment\n",
      "Running Data Partitions Experiment\n",
      "is_good_loan logistic\n",
      "is_good_loan gbm\n",
      "is_good_loan nn\n",
      "is_good_loan svm\n",
      "is_good_loan tree\n",
      "is_high_credit logistic\n",
      "is_high_credit gbm\n",
      "is_high_credit nn\n"
     ]
    },
    {
     "name": "stderr",
     "output_type": "stream",
     "text": [
      "\n",
      " 20%|█████████                                    | 1/5 [00:05<00:22,  5.54s/it]"
     ]
    },
    {
     "name": "stdout",
     "output_type": "stream",
     "text": [
      "is_high_credit svm\n",
      "is_high_credit tree\n"
     ]
    },
    {
     "name": "stderr",
     "output_type": "stream",
     "text": [
      "\u001b[A"
     ]
    },
    {
     "name": "stdout",
     "output_type": "stream",
     "text": [
      "is_good_loan logistic\n",
      "is_good_loan gbm\n",
      "is_good_loan nn\n",
      "is_good_loan svm\n",
      "is_good_loan tree\n",
      "is_high_credit logistic\n",
      "is_high_credit gbm\n",
      "is_high_credit nn\n",
      "is_high_credit svm\n",
      "is_high_credit tree\n",
      "Running Baseline Experiment\n",
      "Running Tasks Experiment\n",
      "Running Models Experiment\n",
      "Running Data Partitions Experiment\n",
      "is_good_loan logistic\n",
      "is_good_loan gbm\n",
      "is_good_loan nn\n",
      "is_good_loan svm\n",
      "is_good_loan tree\n",
      "is_high_credit logistic\n",
      "is_high_credit gbm\n",
      "is_high_credit nn\n",
      "is_high_credit svm\n",
      "is_high_credit tree\n"
     ]
    },
    {
     "name": "stderr",
     "output_type": "stream",
     "text": [
      "\n",
      " 40%|██████████████████                           | 2/5 [00:11<00:16,  5.51s/it]\u001b[A"
     ]
    },
    {
     "name": "stdout",
     "output_type": "stream",
     "text": [
      "is_good_loan logistic\n",
      "is_good_loan gbm\n",
      "is_good_loan nn\n",
      "is_good_loan svm\n",
      "is_good_loan tree\n",
      "is_high_credit logistic\n",
      "is_high_credit gbm\n",
      "is_high_credit nn\n",
      "is_high_credit svm\n",
      "is_high_credit tree\n",
      "Running Baseline Experiment\n",
      "Running Tasks Experiment\n",
      "Running Models Experiment\n",
      "Running Data Partitions Experiment\n",
      "is_good_loan logistic\n",
      "is_good_loan gbm\n",
      "is_good_loan nn\n",
      "is_good_loan svm\n",
      "is_good_loan tree\n",
      "is_high_credit logistic\n",
      "is_high_credit gbm\n",
      "is_high_credit nn\n",
      "is_high_credit svm\n",
      "is_high_credit tree\n"
     ]
    },
    {
     "name": "stderr",
     "output_type": "stream",
     "text": [
      "\n",
      " 60%|███████████████████████████                  | 3/5 [00:16<00:10,  5.45s/it]\u001b[A"
     ]
    },
    {
     "name": "stdout",
     "output_type": "stream",
     "text": [
      "is_good_loan logistic\n",
      "is_good_loan gbm\n",
      "is_good_loan nn\n",
      "is_good_loan svm\n",
      "is_good_loan tree\n",
      "is_high_credit logistic\n",
      "is_high_credit gbm\n",
      "is_high_credit nn\n",
      "is_high_credit svm\n",
      "is_high_credit tree\n",
      "Running Baseline Experiment\n",
      "Running Tasks Experiment\n",
      "Running Models Experiment\n",
      "Running Data Partitions Experiment\n",
      "is_good_loan logistic\n",
      "is_good_loan gbm\n",
      "is_good_loan nn\n",
      "is_good_loan svm\n",
      "is_good_loan tree\n",
      "is_high_credit logistic\n",
      "is_high_credit gbm\n",
      "is_high_credit nn\n"
     ]
    },
    {
     "name": "stderr",
     "output_type": "stream",
     "text": [
      "\n"
     ]
    },
    {
     "name": "stdout",
     "output_type": "stream",
     "text": [
      "is_high_credit svm\n",
      "is_high_credit tree\n"
     ]
    },
    {
     "name": "stderr",
     "output_type": "stream",
     "text": [
      " 80%|████████████████████████████████████         | 4/5 [00:21<00:05,  5.27s/it]\u001b[A"
     ]
    },
    {
     "name": "stdout",
     "output_type": "stream",
     "text": [
      "is_good_loan logistic\n",
      "is_good_loan gbm\n",
      "is_good_loan nn\n",
      "is_good_loan svm\n",
      "is_good_loan tree\n",
      "is_high_credit logistic\n",
      "is_high_credit gbm\n",
      "is_high_credit nn\n",
      "is_high_credit svm\n",
      "is_high_credit tree\n",
      "Running Baseline Experiment\n",
      "Running Tasks Experiment\n",
      "Running Models Experiment\n",
      "Running Data Partitions Experiment\n",
      "is_good_loan logistic\n",
      "is_good_loan gbm\n",
      "is_good_loan nn\n",
      "is_good_loan svm\n",
      "is_good_loan tree\n",
      "is_high_credit logistic\n",
      "is_high_credit gbm\n",
      "is_high_credit nn\n",
      "is_high_credit svm\n",
      "is_high_credit tree\n"
     ]
    },
    {
     "name": "stderr",
     "output_type": "stream",
     "text": [
      "\n",
      "100%|█████████████████████████████████████████████| 5/5 [00:26<00:00,  5.28s/it]\u001b[A\n",
      " 78%|███████████████████████████████████          | 7/9 [03:01<00:53, 26.76s/it]\n",
      "  0%|                                                     | 0/5 [00:00<?, ?it/s]\u001b[A"
     ]
    },
    {
     "name": "stdout",
     "output_type": "stream",
     "text": [
      "is_good_loan logistic\n",
      "is_good_loan gbm\n",
      "is_good_loan nn\n",
      "is_good_loan svm\n",
      "is_good_loan tree\n",
      "is_high_credit logistic\n",
      "is_high_credit gbm\n",
      "is_high_credit nn\n",
      "is_high_credit svm\n",
      "is_high_credit tree\n",
      "Running Baseline Experiment\n",
      "Running Tasks Experiment\n",
      "Running Models Experiment\n",
      "Running Data Partitions Experiment\n",
      "is_good_loan logistic\n",
      "is_good_loan gbm\n",
      "is_good_loan nn\n",
      "is_good_loan svm\n",
      "is_good_loan tree\n",
      "is_high_credit logistic\n",
      "is_high_credit gbm\n",
      "is_high_credit nn\n"
     ]
    },
    {
     "name": "stderr",
     "output_type": "stream",
     "text": [
      "\n",
      " 20%|█████████                                    | 1/5 [00:04<00:19,  4.77s/it]\u001b[A"
     ]
    },
    {
     "name": "stdout",
     "output_type": "stream",
     "text": [
      "is_high_credit svm\n",
      "is_high_credit tree\n",
      "is_good_loan logistic\n",
      "is_good_loan gbm\n",
      "is_good_loan nn\n",
      "is_good_loan svm\n",
      "is_good_loan tree\n",
      "is_high_credit logistic\n",
      "is_high_credit gbm\n",
      "is_high_credit nn\n",
      "is_high_credit svm\n",
      "is_high_credit tree\n",
      "Running Baseline Experiment\n",
      "Running Tasks Experiment\n",
      "Running Models Experiment\n",
      "Running Data Partitions Experiment\n",
      "is_good_loan logistic\n",
      "is_good_loan gbm\n",
      "is_good_loan nn\n",
      "is_good_loan svm\n",
      "is_good_loan tree\n",
      "is_high_credit logistic\n",
      "is_high_credit gbm\n",
      "is_high_credit nn\n"
     ]
    },
    {
     "name": "stderr",
     "output_type": "stream",
     "text": [
      "\n",
      " 40%|██████████████████                           | 2/5 [00:09<00:14,  4.72s/it]\u001b[A"
     ]
    },
    {
     "name": "stdout",
     "output_type": "stream",
     "text": [
      "is_high_credit svm\n",
      "is_high_credit tree\n",
      "is_good_loan logistic\n",
      "is_good_loan gbm\n",
      "is_good_loan nn\n",
      "is_good_loan svm\n",
      "is_good_loan tree\n",
      "is_high_credit logistic\n",
      "is_high_credit gbm\n",
      "is_high_credit nn\n",
      "is_high_credit svm\n",
      "is_high_credit tree\n",
      "Running Baseline Experiment\n",
      "Running Tasks Experiment\n",
      "Running Models Experiment\n",
      "Running Data Partitions Experiment\n",
      "is_good_loan logistic\n",
      "is_good_loan gbm\n",
      "is_good_loan nn\n",
      "is_good_loan svm\n",
      "is_good_loan tree\n",
      "is_high_credit logistic\n",
      "is_high_credit gbm\n",
      "is_high_credit nn\n"
     ]
    },
    {
     "name": "stderr",
     "output_type": "stream",
     "text": [
      "\n",
      " 60%|███████████████████████████                  | 3/5 [00:14<00:09,  4.71s/it]\u001b[A"
     ]
    },
    {
     "name": "stdout",
     "output_type": "stream",
     "text": [
      "is_high_credit svm\n",
      "is_high_credit tree\n",
      "is_good_loan logistic\n",
      "is_good_loan gbm\n",
      "is_good_loan nn\n",
      "is_good_loan svm\n",
      "is_good_loan tree\n",
      "is_high_credit logistic\n",
      "is_high_credit gbm\n",
      "is_high_credit nn\n",
      "is_high_credit svm\n",
      "is_high_credit tree\n",
      "Running Baseline Experiment\n",
      "Running Tasks Experiment\n",
      "Running Models Experiment\n",
      "Running Data Partitions Experiment\n",
      "is_good_loan logistic\n",
      "is_good_loan gbm\n",
      "is_good_loan nn\n",
      "is_good_loan svm\n",
      "is_good_loan tree\n",
      "is_high_credit logistic\n",
      "is_high_credit gbm\n",
      "is_high_credit nn\n"
     ]
    },
    {
     "name": "stderr",
     "output_type": "stream",
     "text": [
      "\n",
      " 80%|████████████████████████████████████         | 4/5 [00:18<00:04,  4.76s/it]\u001b[A"
     ]
    },
    {
     "name": "stdout",
     "output_type": "stream",
     "text": [
      "is_high_credit svm\n",
      "is_high_credit tree\n",
      "is_good_loan logistic\n",
      "is_good_loan gbm\n",
      "is_good_loan nn\n",
      "is_good_loan svm\n",
      "is_good_loan tree\n",
      "is_high_credit logistic\n",
      "is_high_credit gbm\n",
      "is_high_credit nn\n",
      "is_high_credit svm\n",
      "is_high_credit tree\n",
      "Running Baseline Experiment\n",
      "Running Tasks Experiment\n",
      "Running Models Experiment\n",
      "Running Data Partitions Experiment\n",
      "is_good_loan logistic\n",
      "is_good_loan gbm\n",
      "is_good_loan nn\n",
      "is_good_loan svm\n",
      "is_good_loan tree\n",
      "is_high_credit logistic\n",
      "is_high_credit gbm\n",
      "is_high_credit nn\n"
     ]
    },
    {
     "name": "stderr",
     "output_type": "stream",
     "text": [
      "\n",
      "100%|█████████████████████████████████████████████| 5/5 [00:23<00:00,  4.75s/it]\u001b[A\n",
      " 89%|████████████████████████████████████████     | 8/9 [03:24<00:25, 25.80s/it]"
     ]
    },
    {
     "name": "stdout",
     "output_type": "stream",
     "text": [
      "is_high_credit svm\n",
      "is_high_credit tree\n"
     ]
    },
    {
     "name": "stderr",
     "output_type": "stream",
     "text": [
      "\n",
      "  0%|                                                     | 0/5 [00:00<?, ?it/s]\u001b[A"
     ]
    },
    {
     "name": "stdout",
     "output_type": "stream",
     "text": [
      "is_good_loan logistic\n",
      "is_good_loan gbm\n",
      "is_good_loan nn\n",
      "is_good_loan svm\n",
      "is_good_loan tree\n",
      "is_high_credit logistic\n",
      "is_high_credit gbm\n",
      "is_high_credit nn\n",
      "is_high_credit svm\n",
      "is_high_credit tree\n",
      "Running Baseline Experiment\n",
      "Running Tasks Experiment\n",
      "Running Models Experiment\n",
      "Running Data Partitions Experiment\n",
      "is_good_loan logistic\n",
      "is_good_loan gbm\n",
      "is_good_loan nn\n",
      "is_good_loan svm\n",
      "is_good_loan tree\n",
      "is_high_credit logistic\n",
      "is_high_credit gbm\n",
      "is_high_credit nn\n"
     ]
    },
    {
     "name": "stderr",
     "output_type": "stream",
     "text": [
      "\n",
      " 20%|█████████                                    | 1/5 [00:04<00:17,  4.47s/it]\u001b[A"
     ]
    },
    {
     "name": "stdout",
     "output_type": "stream",
     "text": [
      "is_high_credit svm\n",
      "is_high_credit tree\n",
      "is_good_loan logistic\n",
      "is_good_loan gbm\n",
      "is_good_loan nn\n",
      "is_good_loan svm\n",
      "is_good_loan tree\n",
      "is_high_credit logistic\n",
      "is_high_credit gbm\n",
      "is_high_credit nn\n",
      "is_high_credit svm\n",
      "is_high_credit tree\n",
      "Running Baseline Experiment\n",
      "Running Tasks Experiment\n",
      "Running Models Experiment\n",
      "Running Data Partitions Experiment\n",
      "is_good_loan logistic\n",
      "is_good_loan gbm\n",
      "is_good_loan nn\n",
      "is_good_loan svm\n",
      "is_good_loan tree\n",
      "is_high_credit logistic\n",
      "is_high_credit gbm\n",
      "is_high_credit nn\n"
     ]
    },
    {
     "name": "stderr",
     "output_type": "stream",
     "text": [
      "\n",
      " 40%|██████████████████                           | 2/5 [00:09<00:13,  4.51s/it]\u001b[A"
     ]
    },
    {
     "name": "stdout",
     "output_type": "stream",
     "text": [
      "is_high_credit svm\n",
      "is_high_credit tree\n",
      "is_good_loan logistic\n",
      "is_good_loan gbm\n",
      "is_good_loan nn\n",
      "is_good_loan svm\n",
      "is_good_loan tree\n",
      "is_high_credit logistic\n",
      "is_high_credit gbm\n",
      "is_high_credit nn\n",
      "is_high_credit svm\n",
      "is_high_credit tree\n",
      "Running Baseline Experiment\n",
      "Running Tasks Experiment\n",
      "Running Models Experiment\n",
      "Running Data Partitions Experiment\n",
      "is_good_loan logistic\n",
      "is_good_loan gbm\n",
      "is_good_loan nn\n",
      "is_good_loan svm\n",
      "is_good_loan tree\n",
      "is_high_credit logistic\n",
      "is_high_credit gbm\n",
      "is_high_credit nn\n",
      "is_high_credit svm\n"
     ]
    },
    {
     "name": "stderr",
     "output_type": "stream",
     "text": [
      "\n",
      " 60%|███████████████████████████                  | 3/5 [00:13<00:09,  4.54s/it]\u001b[A"
     ]
    },
    {
     "name": "stdout",
     "output_type": "stream",
     "text": [
      "is_high_credit tree\n",
      "is_good_loan logistic\n",
      "is_good_loan gbm\n",
      "is_good_loan nn\n",
      "is_good_loan svm\n",
      "is_good_loan tree\n",
      "is_high_credit logistic\n",
      "is_high_credit gbm\n",
      "is_high_credit nn\n",
      "is_high_credit svm\n",
      "is_high_credit tree\n",
      "Running Baseline Experiment\n",
      "Running Tasks Experiment\n",
      "Running Models Experiment\n",
      "Running Data Partitions Experiment\n",
      "is_good_loan logistic\n",
      "is_good_loan gbm\n",
      "is_good_loan nn\n",
      "is_good_loan svm\n",
      "is_good_loan tree\n",
      "is_high_credit logistic\n",
      "is_high_credit gbm\n",
      "is_high_credit nn\n",
      "is_high_credit svm\n"
     ]
    },
    {
     "name": "stderr",
     "output_type": "stream",
     "text": [
      "\n",
      " 80%|████████████████████████████████████         | 4/5 [00:18<00:04,  4.53s/it]\u001b[A"
     ]
    },
    {
     "name": "stdout",
     "output_type": "stream",
     "text": [
      "is_high_credit tree\n",
      "is_good_loan logistic\n",
      "is_good_loan gbm\n",
      "is_good_loan nn\n",
      "is_good_loan svm\n",
      "is_good_loan tree\n",
      "is_high_credit logistic\n",
      "is_high_credit gbm\n",
      "is_high_credit nn\n",
      "is_high_credit svm\n",
      "is_high_credit tree\n",
      "Running Baseline Experiment\n",
      "Running Tasks Experiment\n",
      "Running Models Experiment\n",
      "Running Data Partitions Experiment\n",
      "is_good_loan logistic\n",
      "is_good_loan gbm\n",
      "is_good_loan nn\n",
      "is_good_loan svm\n",
      "is_good_loan tree\n",
      "is_high_credit logistic\n",
      "is_high_credit gbm\n",
      "is_high_credit nn\n",
      "is_high_credit svm\n"
     ]
    },
    {
     "name": "stderr",
     "output_type": "stream",
     "text": [
      "\n",
      "100%|█████████████████████████████████████████████| 5/5 [00:22<00:00,  4.55s/it]\u001b[A\n",
      "100%|█████████████████████████████████████████████| 9/9 [03:47<00:00, 25.30s/it]"
     ]
    },
    {
     "name": "stdout",
     "output_type": "stream",
     "text": [
      "is_high_credit tree\n"
     ]
    },
    {
     "name": "stderr",
     "output_type": "stream",
     "text": [
      "\n"
     ]
    }
   ],
   "source": [
    "random_thresholds = [0, 0.1, 0.2, 0.3, 0.4, 0.5]\n",
    "data_scales = [10, 9, 8, 7, 6, 5, 4, 3, 2]\n",
    "random_seeds = list(range(5))\n",
    "\n",
    "results = []\n",
    "\n",
    "for data_scale in tqdm(data_scales):\n",
    "    for random_seed in tqdm(random_seeds):\n",
    "        exp = Experiment(df, features, protected_attribute, task_types,\n",
    "                             model_types, random_thresholds, n_train, n_test, random_seed, data_scale)\n",
    "\n",
    "        exp.pretrain_models()\n",
    "        results.append(exp.experiment_baseline())\n",
    "        results.append(exp.experiment_tasks())\n",
    "        results.append(exp.experiment_models())\n",
    "        \n",
    "        results.append(exp.experiment_partitions(min(5, data_scale)))\n",
    "results = pd.concat(results)\n",
    "results.to_csv(\"german_credit_results.csv\", index=False)"
   ]
  },
  {
   "cell_type": "markdown",
   "id": "b1452f17",
   "metadata": {},
   "source": [
    "# Randomness Based on Conformal Prediction"
   ]
  },
  {
   "cell_type": "code",
   "execution_count": 66,
   "id": "4a51cd7d",
   "metadata": {},
   "outputs": [
    {
     "name": "stderr",
     "output_type": "stream",
     "text": [
      "  0%|                                                     | 0/9 [00:00<?, ?it/s]\n",
      "  0%|                                                     | 0/5 [00:00<?, ?it/s]\u001b[A"
     ]
    },
    {
     "name": "stdout",
     "output_type": "stream",
     "text": [
      "is_good_loan logistic\n",
      "is_good_loan gbm\n",
      "is_good_loan nn\n",
      "is_good_loan svm\n",
      "is_good_loan tree\n",
      "is_high_credit logistic\n",
      "is_high_credit gbm\n",
      "is_high_credit nn\n",
      "is_high_credit svm\n",
      "is_high_credit tree\n",
      "Running Baseline Experiment\n",
      "Running Tasks Experiment\n",
      "Running Models Experiment\n",
      "Running Data Partitions Experiment\n",
      "is_good_loan logistic\n",
      "is_good_loan gbm\n",
      "is_good_loan nn\n",
      "is_good_loan svm\n",
      "is_good_loan tree\n",
      "is_high_credit logistic\n",
      "is_high_credit gbm\n",
      "is_high_credit nn\n",
      "is_high_credit svm\n",
      "is_high_credit tree\n"
     ]
    },
    {
     "name": "stderr",
     "output_type": "stream",
     "text": [
      "\n",
      " 20%|█████████                                    | 1/5 [00:06<00:25,  6.45s/it]\u001b[A"
     ]
    },
    {
     "name": "stdout",
     "output_type": "stream",
     "text": [
      "is_good_loan logistic\n",
      "is_good_loan gbm\n",
      "is_good_loan nn\n",
      "is_good_loan svm\n",
      "is_good_loan tree\n",
      "is_high_credit logistic\n",
      "is_high_credit gbm\n",
      "is_high_credit nn\n",
      "is_high_credit svm\n",
      "is_high_credit tree\n",
      "Running Baseline Experiment\n",
      "Running Tasks Experiment\n",
      "Running Models Experiment\n",
      "Running Data Partitions Experiment\n",
      "is_good_loan logistic\n",
      "is_good_loan gbm\n",
      "is_good_loan nn\n",
      "is_good_loan svm\n",
      "is_good_loan tree\n",
      "is_high_credit logistic\n",
      "is_high_credit gbm\n",
      "is_high_credit nn\n",
      "is_high_credit svm\n",
      "is_high_credit tree\n"
     ]
    },
    {
     "name": "stderr",
     "output_type": "stream",
     "text": [
      "\n",
      " 40%|██████████████████                           | 2/5 [00:12<00:19,  6.42s/it]\u001b[A"
     ]
    },
    {
     "name": "stdout",
     "output_type": "stream",
     "text": [
      "is_good_loan logistic\n",
      "is_good_loan gbm\n",
      "is_good_loan nn\n",
      "is_good_loan svm\n",
      "is_good_loan tree\n",
      "is_high_credit logistic\n",
      "is_high_credit gbm\n",
      "is_high_credit nn\n",
      "is_high_credit svm\n",
      "is_high_credit tree\n",
      "Running Baseline Experiment\n",
      "Running Tasks Experiment\n",
      "Running Models Experiment\n",
      "Running Data Partitions Experiment\n",
      "is_good_loan logistic\n",
      "is_good_loan gbm\n",
      "is_good_loan nn\n",
      "is_good_loan svm\n",
      "is_good_loan tree\n",
      "is_high_credit logistic\n",
      "is_high_credit gbm\n",
      "is_high_credit nn\n",
      "is_high_credit svm\n",
      "is_high_credit tree\n"
     ]
    },
    {
     "name": "stderr",
     "output_type": "stream",
     "text": [
      "\n",
      " 60%|███████████████████████████                  | 3/5 [00:19<00:12,  6.41s/it]\u001b[A"
     ]
    },
    {
     "name": "stdout",
     "output_type": "stream",
     "text": [
      "is_good_loan logistic\n",
      "is_good_loan gbm\n",
      "is_good_loan nn\n",
      "is_good_loan svm\n",
      "is_good_loan tree\n",
      "is_high_credit logistic\n",
      "is_high_credit gbm\n",
      "is_high_credit nn\n",
      "is_high_credit svm\n",
      "is_high_credit tree\n",
      "Running Baseline Experiment\n",
      "Running Tasks Experiment\n",
      "Running Models Experiment\n",
      "Running Data Partitions Experiment\n",
      "is_good_loan logistic\n",
      "is_good_loan gbm\n",
      "is_good_loan nn\n",
      "is_good_loan svm\n",
      "is_good_loan tree\n",
      "is_high_credit logistic\n",
      "is_high_credit gbm\n",
      "is_high_credit nn\n",
      "is_high_credit svm\n",
      "is_high_credit tree\n"
     ]
    },
    {
     "name": "stderr",
     "output_type": "stream",
     "text": [
      "\n",
      " 80%|████████████████████████████████████         | 4/5 [00:25<00:06,  6.40s/it]\u001b[A"
     ]
    },
    {
     "name": "stdout",
     "output_type": "stream",
     "text": [
      "is_good_loan logistic\n",
      "is_good_loan gbm\n",
      "is_good_loan nn\n",
      "is_good_loan svm\n",
      "is_good_loan tree\n",
      "is_high_credit logistic\n",
      "is_high_credit gbm\n",
      "is_high_credit nn\n",
      "is_high_credit svm\n",
      "is_high_credit tree\n",
      "Running Baseline Experiment\n",
      "Running Tasks Experiment\n",
      "Running Models Experiment\n",
      "Running Data Partitions Experiment\n",
      "is_good_loan logistic\n",
      "is_good_loan gbm\n",
      "is_good_loan nn\n",
      "is_good_loan svm\n",
      "is_good_loan tree\n",
      "is_high_credit logistic\n",
      "is_high_credit gbm\n",
      "is_high_credit nn\n",
      "is_high_credit svm\n",
      "is_high_credit tree\n"
     ]
    },
    {
     "name": "stderr",
     "output_type": "stream",
     "text": [
      "\n",
      "100%|█████████████████████████████████████████████| 5/5 [00:31<00:00,  6.39s/it]\u001b[A\n",
      " 11%|█████                                        | 1/9 [00:31<04:15, 31.94s/it]\n",
      "  0%|                                                     | 0/5 [00:00<?, ?it/s]\u001b[A"
     ]
    },
    {
     "name": "stdout",
     "output_type": "stream",
     "text": [
      "is_good_loan logistic\n",
      "is_good_loan gbm\n",
      "is_good_loan nn\n",
      "is_good_loan svm\n",
      "is_good_loan tree\n",
      "is_high_credit logistic\n",
      "is_high_credit gbm\n",
      "is_high_credit nn\n",
      "is_high_credit svm\n",
      "is_high_credit tree\n",
      "Running Baseline Experiment\n",
      "Running Tasks Experiment\n",
      "Running Models Experiment\n",
      "Running Data Partitions Experiment\n",
      "is_good_loan logistic\n",
      "is_good_loan gbm\n",
      "is_good_loan nn\n",
      "is_good_loan svm\n",
      "is_good_loan tree\n",
      "is_high_credit logistic\n",
      "is_high_credit gbm\n",
      "is_high_credit nn\n",
      "is_high_credit svm\n",
      "is_high_credit tree\n"
     ]
    },
    {
     "name": "stderr",
     "output_type": "stream",
     "text": [
      "\n",
      " 20%|█████████                                    | 1/5 [00:06<00:25,  6.47s/it]\u001b[A"
     ]
    },
    {
     "name": "stdout",
     "output_type": "stream",
     "text": [
      "is_good_loan logistic\n",
      "is_good_loan gbm\n",
      "is_good_loan nn\n",
      "is_good_loan svm\n",
      "is_good_loan tree\n",
      "is_high_credit logistic\n",
      "is_high_credit gbm\n",
      "is_high_credit nn\n",
      "is_high_credit svm\n",
      "is_high_credit tree\n",
      "Running Baseline Experiment\n",
      "Running Tasks Experiment\n",
      "Running Models Experiment\n",
      "Running Data Partitions Experiment\n",
      "is_good_loan logistic\n",
      "is_good_loan gbm\n",
      "is_good_loan nn\n",
      "is_good_loan svm\n",
      "is_good_loan tree\n",
      "is_high_credit logistic\n",
      "is_high_credit gbm\n",
      "is_high_credit nn\n",
      "is_high_credit svm\n",
      "is_high_credit tree\n"
     ]
    },
    {
     "name": "stderr",
     "output_type": "stream",
     "text": [
      "\n",
      " 40%|██████████████████                           | 2/5 [00:12<00:19,  6.43s/it]\u001b[A"
     ]
    },
    {
     "name": "stdout",
     "output_type": "stream",
     "text": [
      "is_good_loan logistic\n",
      "is_good_loan gbm\n",
      "is_good_loan nn\n",
      "is_good_loan svm\n",
      "is_good_loan tree\n",
      "is_high_credit logistic\n",
      "is_high_credit gbm\n",
      "is_high_credit nn\n",
      "is_high_credit svm\n",
      "is_high_credit tree\n",
      "Running Baseline Experiment\n",
      "Running Tasks Experiment\n",
      "Running Models Experiment\n",
      "Running Data Partitions Experiment\n",
      "is_good_loan logistic\n",
      "is_good_loan gbm\n",
      "is_good_loan nn\n",
      "is_good_loan svm\n",
      "is_good_loan tree\n",
      "is_high_credit logistic\n",
      "is_high_credit gbm\n",
      "is_high_credit nn\n",
      "is_high_credit svm\n",
      "is_high_credit tree\n"
     ]
    },
    {
     "name": "stderr",
     "output_type": "stream",
     "text": [
      "\n",
      " 60%|███████████████████████████                  | 3/5 [00:19<00:12,  6.40s/it]\u001b[A"
     ]
    },
    {
     "name": "stdout",
     "output_type": "stream",
     "text": [
      "is_good_loan logistic\n",
      "is_good_loan gbm\n",
      "is_good_loan nn\n",
      "is_good_loan svm\n",
      "is_good_loan tree\n",
      "is_high_credit logistic\n",
      "is_high_credit gbm\n",
      "is_high_credit nn\n",
      "is_high_credit svm\n",
      "is_high_credit tree\n",
      "Running Baseline Experiment\n",
      "Running Tasks Experiment\n",
      "Running Models Experiment\n",
      "Running Data Partitions Experiment\n",
      "is_good_loan logistic\n",
      "is_good_loan gbm\n",
      "is_good_loan nn\n",
      "is_good_loan svm\n",
      "is_good_loan tree\n",
      "is_high_credit logistic\n",
      "is_high_credit gbm\n",
      "is_high_credit nn\n",
      "is_high_credit svm\n",
      "is_high_credit tree\n"
     ]
    },
    {
     "name": "stderr",
     "output_type": "stream",
     "text": [
      "\n",
      " 80%|████████████████████████████████████         | 4/5 [00:25<00:06,  6.40s/it]\u001b[A"
     ]
    },
    {
     "name": "stdout",
     "output_type": "stream",
     "text": [
      "is_good_loan logistic\n",
      "is_good_loan gbm\n",
      "is_good_loan nn\n",
      "is_good_loan svm\n",
      "is_good_loan tree\n",
      "is_high_credit logistic\n",
      "is_high_credit gbm\n",
      "is_high_credit nn\n",
      "is_high_credit svm\n",
      "is_high_credit tree\n",
      "Running Baseline Experiment\n",
      "Running Tasks Experiment\n",
      "Running Models Experiment\n",
      "Running Data Partitions Experiment\n",
      "is_good_loan logistic\n",
      "is_good_loan gbm\n",
      "is_good_loan nn\n",
      "is_good_loan svm\n",
      "is_good_loan tree\n",
      "is_high_credit logistic\n",
      "is_high_credit gbm\n",
      "is_high_credit nn\n",
      "is_high_credit svm\n",
      "is_high_credit tree\n"
     ]
    },
    {
     "name": "stderr",
     "output_type": "stream",
     "text": [
      "\n",
      "100%|█████████████████████████████████████████████| 5/5 [00:32<00:00,  6.41s/it]\u001b[A\n",
      " 22%|██████████                                   | 2/9 [01:03<03:43, 31.99s/it]\n",
      "  0%|                                                     | 0/5 [00:00<?, ?it/s]\u001b[A"
     ]
    },
    {
     "name": "stdout",
     "output_type": "stream",
     "text": [
      "is_good_loan logistic\n",
      "is_good_loan gbm\n",
      "is_good_loan nn\n",
      "is_good_loan svm\n",
      "is_good_loan tree\n",
      "is_high_credit logistic\n",
      "is_high_credit gbm\n",
      "is_high_credit nn\n",
      "is_high_credit svm\n",
      "is_high_credit tree\n",
      "Running Baseline Experiment\n",
      "Running Tasks Experiment\n",
      "Running Models Experiment\n",
      "Running Data Partitions Experiment\n",
      "is_good_loan logistic\n",
      "is_good_loan gbm\n",
      "is_good_loan nn\n",
      "is_good_loan svm\n",
      "is_good_loan tree\n",
      "is_high_credit logistic\n",
      "is_high_credit gbm\n",
      "is_high_credit nn\n",
      "is_high_credit svm\n",
      "is_high_credit tree\n"
     ]
    },
    {
     "name": "stderr",
     "output_type": "stream",
     "text": [
      "\n",
      " 20%|█████████                                    | 1/5 [00:06<00:26,  6.51s/it]\u001b[A"
     ]
    },
    {
     "name": "stdout",
     "output_type": "stream",
     "text": [
      "is_good_loan logistic\n",
      "is_good_loan gbm\n",
      "is_good_loan nn\n",
      "is_good_loan svm\n",
      "is_good_loan tree\n",
      "is_high_credit logistic\n",
      "is_high_credit gbm\n",
      "is_high_credit nn\n",
      "is_high_credit svm\n",
      "is_high_credit tree\n",
      "Running Baseline Experiment\n",
      "Running Tasks Experiment\n",
      "Running Models Experiment\n",
      "Running Data Partitions Experiment\n",
      "is_good_loan logistic\n",
      "is_good_loan gbm\n",
      "is_good_loan nn\n",
      "is_good_loan svm\n",
      "is_good_loan tree\n",
      "is_high_credit logistic\n",
      "is_high_credit gbm\n",
      "is_high_credit nn\n",
      "is_high_credit svm\n",
      "is_high_credit tree\n"
     ]
    },
    {
     "name": "stderr",
     "output_type": "stream",
     "text": [
      "\n",
      " 40%|██████████████████                           | 2/5 [00:12<00:19,  6.47s/it]\u001b[A"
     ]
    },
    {
     "name": "stdout",
     "output_type": "stream",
     "text": [
      "is_good_loan logistic\n",
      "is_good_loan gbm\n",
      "is_good_loan nn\n",
      "is_good_loan svm\n",
      "is_good_loan tree\n",
      "is_high_credit logistic\n",
      "is_high_credit gbm\n",
      "is_high_credit nn\n",
      "is_high_credit svm\n",
      "is_high_credit tree\n",
      "Running Baseline Experiment\n",
      "Running Tasks Experiment\n",
      "Running Models Experiment\n",
      "Running Data Partitions Experiment\n",
      "is_good_loan logistic\n",
      "is_good_loan gbm\n",
      "is_good_loan nn\n",
      "is_good_loan svm\n",
      "is_good_loan tree\n",
      "is_high_credit logistic\n",
      "is_high_credit gbm\n",
      "is_high_credit nn\n",
      "is_high_credit svm\n",
      "is_high_credit tree\n"
     ]
    },
    {
     "name": "stderr",
     "output_type": "stream",
     "text": [
      "\n",
      " 60%|███████████████████████████                  | 3/5 [00:19<00:13,  6.51s/it]\u001b[A"
     ]
    },
    {
     "name": "stdout",
     "output_type": "stream",
     "text": [
      "is_good_loan logistic\n",
      "is_good_loan gbm\n",
      "is_good_loan nn\n",
      "is_good_loan svm\n",
      "is_good_loan tree\n",
      "is_high_credit logistic\n",
      "is_high_credit gbm\n",
      "is_high_credit nn\n",
      "is_high_credit svm\n",
      "is_high_credit tree\n",
      "Running Baseline Experiment\n",
      "Running Tasks Experiment\n",
      "Running Models Experiment\n",
      "Running Data Partitions Experiment\n",
      "is_good_loan logistic\n",
      "is_good_loan gbm\n",
      "is_good_loan nn\n",
      "is_good_loan svm\n",
      "is_good_loan tree\n",
      "is_high_credit logistic\n",
      "is_high_credit gbm\n",
      "is_high_credit nn\n",
      "is_high_credit svm\n",
      "is_high_credit tree\n"
     ]
    },
    {
     "name": "stderr",
     "output_type": "stream",
     "text": [
      "\n",
      " 80%|████████████████████████████████████         | 4/5 [00:26<00:06,  6.53s/it]\u001b[A"
     ]
    },
    {
     "name": "stdout",
     "output_type": "stream",
     "text": [
      "is_good_loan logistic\n",
      "is_good_loan gbm\n",
      "is_good_loan nn\n",
      "is_good_loan svm\n",
      "is_good_loan tree\n",
      "is_high_credit logistic\n",
      "is_high_credit gbm\n",
      "is_high_credit nn\n",
      "is_high_credit svm\n",
      "is_high_credit tree\n",
      "Running Baseline Experiment\n",
      "Running Tasks Experiment\n",
      "Running Models Experiment\n",
      "Running Data Partitions Experiment\n",
      "is_good_loan logistic\n",
      "is_good_loan gbm\n",
      "is_good_loan nn\n",
      "is_good_loan svm\n",
      "is_good_loan tree\n",
      "is_high_credit logistic\n",
      "is_high_credit gbm\n",
      "is_high_credit nn\n",
      "is_high_credit svm\n",
      "is_high_credit tree\n"
     ]
    },
    {
     "name": "stderr",
     "output_type": "stream",
     "text": [
      "\n",
      "100%|█████████████████████████████████████████████| 5/5 [00:32<00:00,  6.51s/it]\u001b[A\n",
      " 33%|███████████████                              | 3/9 [01:36<03:13, 32.24s/it]\n",
      "  0%|                                                     | 0/5 [00:00<?, ?it/s]\u001b[A"
     ]
    },
    {
     "name": "stdout",
     "output_type": "stream",
     "text": [
      "is_good_loan logistic\n",
      "is_good_loan gbm\n",
      "is_good_loan nn\n",
      "is_good_loan svm\n",
      "is_good_loan tree\n",
      "is_high_credit logistic\n",
      "is_high_credit gbm\n",
      "is_high_credit nn\n",
      "is_high_credit svm\n",
      "is_high_credit tree\n",
      "Running Baseline Experiment\n",
      "Running Tasks Experiment\n",
      "Running Models Experiment\n",
      "Running Data Partitions Experiment\n",
      "is_good_loan logistic\n",
      "is_good_loan gbm\n",
      "is_good_loan nn\n",
      "is_good_loan svm\n",
      "is_good_loan tree\n",
      "is_high_credit logistic\n",
      "is_high_credit gbm\n",
      "is_high_credit nn\n",
      "is_high_credit svm\n",
      "is_high_credit tree\n"
     ]
    },
    {
     "name": "stderr",
     "output_type": "stream",
     "text": [
      "\n",
      " 20%|█████████                                    | 1/5 [00:06<00:26,  6.57s/it]\u001b[A"
     ]
    },
    {
     "name": "stdout",
     "output_type": "stream",
     "text": [
      "is_good_loan logistic\n",
      "is_good_loan gbm\n",
      "is_good_loan nn\n",
      "is_good_loan svm\n",
      "is_good_loan tree\n",
      "is_high_credit logistic\n",
      "is_high_credit gbm\n",
      "is_high_credit nn\n",
      "is_high_credit svm\n",
      "is_high_credit tree\n",
      "Running Baseline Experiment\n",
      "Running Tasks Experiment\n",
      "Running Models Experiment\n",
      "Running Data Partitions Experiment\n",
      "is_good_loan logistic\n",
      "is_good_loan gbm\n",
      "is_good_loan nn\n",
      "is_good_loan svm\n",
      "is_good_loan tree\n",
      "is_high_credit logistic\n",
      "is_high_credit gbm\n",
      "is_high_credit nn\n",
      "is_high_credit svm\n"
     ]
    },
    {
     "name": "stderr",
     "output_type": "stream",
     "text": [
      "\n",
      " 40%|██████████████████                           | 2/5 [00:13<00:19,  6.64s/it]\u001b[A"
     ]
    },
    {
     "name": "stdout",
     "output_type": "stream",
     "text": [
      "is_high_credit tree\n",
      "is_good_loan logistic\n",
      "is_good_loan gbm\n",
      "is_good_loan nn\n",
      "is_good_loan svm\n",
      "is_good_loan tree\n",
      "is_high_credit logistic\n",
      "is_high_credit gbm\n",
      "is_high_credit nn\n",
      "is_high_credit svm\n",
      "is_high_credit tree\n",
      "Running Baseline Experiment\n",
      "Running Tasks Experiment\n",
      "Running Models Experiment\n",
      "Running Data Partitions Experiment\n",
      "is_good_loan logistic\n",
      "is_good_loan gbm\n",
      "is_good_loan nn\n",
      "is_good_loan svm\n",
      "is_good_loan tree\n",
      "is_high_credit logistic\n",
      "is_high_credit gbm\n",
      "is_high_credit nn\n",
      "is_high_credit svm\n",
      "is_high_credit tree\n"
     ]
    },
    {
     "name": "stderr",
     "output_type": "stream",
     "text": [
      "\n",
      " 60%|███████████████████████████                  | 3/5 [00:19<00:13,  6.64s/it]\u001b[A"
     ]
    },
    {
     "name": "stdout",
     "output_type": "stream",
     "text": [
      "is_good_loan logistic\n",
      "is_good_loan gbm\n",
      "is_good_loan nn\n",
      "is_good_loan svm\n",
      "is_good_loan tree\n",
      "is_high_credit logistic\n",
      "is_high_credit gbm\n",
      "is_high_credit nn\n",
      "is_high_credit svm\n",
      "is_high_credit tree\n",
      "Running Baseline Experiment\n",
      "Running Tasks Experiment\n",
      "Running Models Experiment\n",
      "Running Data Partitions Experiment\n",
      "is_good_loan logistic\n",
      "is_good_loan gbm\n",
      "is_good_loan nn\n",
      "is_good_loan svm\n",
      "is_good_loan tree\n",
      "is_high_credit logistic\n",
      "is_high_credit gbm\n",
      "is_high_credit nn\n",
      "is_high_credit svm\n",
      "is_high_credit tree\n"
     ]
    },
    {
     "name": "stderr",
     "output_type": "stream",
     "text": [
      "\n",
      " 80%|████████████████████████████████████         | 4/5 [00:26<00:06,  6.60s/it]\u001b[A"
     ]
    },
    {
     "name": "stdout",
     "output_type": "stream",
     "text": [
      "is_good_loan logistic\n",
      "is_good_loan gbm\n",
      "is_good_loan nn\n",
      "is_good_loan svm\n",
      "is_good_loan tree\n",
      "is_high_credit logistic\n",
      "is_high_credit gbm\n",
      "is_high_credit nn\n",
      "is_high_credit svm\n",
      "is_high_credit tree\n",
      "Running Baseline Experiment\n",
      "Running Tasks Experiment\n",
      "Running Models Experiment\n",
      "Running Data Partitions Experiment\n",
      "is_good_loan logistic\n",
      "is_good_loan gbm\n",
      "is_good_loan nn\n",
      "is_good_loan svm\n",
      "is_good_loan tree\n",
      "is_high_credit logistic\n",
      "is_high_credit gbm\n",
      "is_high_credit nn\n",
      "is_high_credit svm\n",
      "is_high_credit tree\n"
     ]
    },
    {
     "name": "stderr",
     "output_type": "stream",
     "text": [
      "\n",
      "100%|█████████████████████████████████████████████| 5/5 [00:32<00:00,  6.60s/it]\u001b[A\n",
      " 44%|████████████████████                         | 4/9 [02:09<02:42, 32.53s/it]\n",
      "  0%|                                                     | 0/5 [00:00<?, ?it/s]\u001b[A"
     ]
    },
    {
     "name": "stdout",
     "output_type": "stream",
     "text": [
      "is_good_loan logistic\n",
      "is_good_loan gbm\n",
      "is_good_loan nn\n",
      "is_good_loan svm\n",
      "is_good_loan tree\n",
      "is_high_credit logistic\n",
      "is_high_credit gbm\n",
      "is_high_credit nn\n",
      "is_high_credit svm\n",
      "is_high_credit tree\n",
      "Running Baseline Experiment\n",
      "Running Tasks Experiment\n",
      "Running Models Experiment\n",
      "Running Data Partitions Experiment\n",
      "is_good_loan logistic\n",
      "is_good_loan gbm\n",
      "is_good_loan nn\n",
      "is_good_loan svm\n",
      "is_good_loan tree\n",
      "is_high_credit logistic\n",
      "is_high_credit gbm\n",
      "is_high_credit nn\n",
      "is_high_credit svm\n"
     ]
    },
    {
     "name": "stderr",
     "output_type": "stream",
     "text": [
      "\n",
      " 20%|█████████                                    | 1/5 [00:06<00:26,  6.74s/it]\u001b[A"
     ]
    },
    {
     "name": "stdout",
     "output_type": "stream",
     "text": [
      "is_high_credit tree\n",
      "is_good_loan logistic\n",
      "is_good_loan gbm\n",
      "is_good_loan nn\n",
      "is_good_loan svm\n",
      "is_good_loan tree\n",
      "is_high_credit logistic\n",
      "is_high_credit gbm\n",
      "is_high_credit nn\n",
      "is_high_credit svm\n",
      "is_high_credit tree\n",
      "Running Baseline Experiment\n",
      "Running Tasks Experiment\n",
      "Running Models Experiment\n",
      "Running Data Partitions Experiment\n",
      "is_good_loan logistic\n",
      "is_good_loan gbm\n",
      "is_good_loan nn\n",
      "is_good_loan svm\n",
      "is_good_loan tree\n",
      "is_high_credit logistic\n",
      "is_high_credit gbm\n",
      "is_high_credit nn\n",
      "is_high_credit svm\n",
      "is_high_credit tree\n"
     ]
    },
    {
     "name": "stderr",
     "output_type": "stream",
     "text": [
      "\n",
      " 40%|██████████████████                           | 2/5 [00:13<00:20,  6.67s/it]\u001b[A"
     ]
    },
    {
     "name": "stdout",
     "output_type": "stream",
     "text": [
      "is_good_loan logistic\n",
      "is_good_loan gbm\n",
      "is_good_loan nn\n",
      "is_good_loan svm\n",
      "is_good_loan tree\n",
      "is_high_credit logistic\n",
      "is_high_credit gbm\n",
      "is_high_credit nn\n",
      "is_high_credit svm\n",
      "is_high_credit tree\n",
      "Running Baseline Experiment\n",
      "Running Tasks Experiment\n",
      "Running Models Experiment\n",
      "Running Data Partitions Experiment\n",
      "is_good_loan logistic\n",
      "is_good_loan gbm\n",
      "is_good_loan nn\n",
      "is_good_loan svm\n",
      "is_good_loan tree\n",
      "is_high_credit logistic\n",
      "is_high_credit gbm\n",
      "is_high_credit nn\n",
      "is_high_credit svm\n"
     ]
    },
    {
     "name": "stderr",
     "output_type": "stream",
     "text": [
      "\n",
      " 60%|███████████████████████████                  | 3/5 [00:20<00:13,  6.72s/it]\u001b[A"
     ]
    },
    {
     "name": "stdout",
     "output_type": "stream",
     "text": [
      "is_high_credit tree\n",
      "is_good_loan logistic\n",
      "is_good_loan gbm\n",
      "is_good_loan nn\n",
      "is_good_loan svm\n",
      "is_good_loan tree\n",
      "is_high_credit logistic\n",
      "is_high_credit gbm\n",
      "is_high_credit nn\n",
      "is_high_credit svm\n",
      "is_high_credit tree\n",
      "Running Baseline Experiment\n",
      "Running Tasks Experiment\n",
      "Running Models Experiment\n",
      "Running Data Partitions Experiment\n",
      "is_good_loan logistic\n",
      "is_good_loan gbm\n",
      "is_good_loan nn\n",
      "is_good_loan svm\n",
      "is_good_loan tree\n",
      "is_high_credit logistic\n",
      "is_high_credit gbm\n",
      "is_high_credit nn\n",
      "is_high_credit svm\n",
      "is_high_credit tree\n"
     ]
    },
    {
     "name": "stderr",
     "output_type": "stream",
     "text": [
      "\n",
      " 80%|████████████████████████████████████         | 4/5 [00:26<00:06,  6.68s/it]\u001b[A"
     ]
    },
    {
     "name": "stdout",
     "output_type": "stream",
     "text": [
      "is_good_loan logistic\n",
      "is_good_loan gbm\n",
      "is_good_loan nn\n",
      "is_good_loan svm\n",
      "is_good_loan tree\n",
      "is_high_credit logistic\n",
      "is_high_credit gbm\n",
      "is_high_credit nn\n",
      "is_high_credit svm\n",
      "is_high_credit tree\n",
      "Running Baseline Experiment\n",
      "Running Tasks Experiment\n",
      "Running Models Experiment\n",
      "Running Data Partitions Experiment\n",
      "is_good_loan logistic\n",
      "is_good_loan gbm\n",
      "is_good_loan nn\n",
      "is_good_loan svm\n",
      "is_good_loan tree\n",
      "is_high_credit logistic\n",
      "is_high_credit gbm\n",
      "is_high_credit nn\n",
      "is_high_credit svm\n"
     ]
    },
    {
     "name": "stderr",
     "output_type": "stream",
     "text": [
      "\n",
      "100%|█████████████████████████████████████████████| 5/5 [00:33<00:00,  6.71s/it]\u001b[A\n",
      " 56%|█████████████████████████                    | 5/9 [02:43<02:11, 32.90s/it]"
     ]
    },
    {
     "name": "stdout",
     "output_type": "stream",
     "text": [
      "is_high_credit tree\n"
     ]
    },
    {
     "name": "stderr",
     "output_type": "stream",
     "text": [
      "\n",
      "  0%|                                                     | 0/5 [00:00<?, ?it/s]\u001b[A"
     ]
    },
    {
     "name": "stdout",
     "output_type": "stream",
     "text": [
      "is_good_loan logistic\n",
      "is_good_loan gbm\n",
      "is_good_loan nn\n",
      "is_good_loan svm\n",
      "is_good_loan tree\n",
      "is_high_credit logistic\n",
      "is_high_credit gbm\n",
      "is_high_credit nn\n",
      "is_high_credit svm\n",
      "is_high_credit tree\n",
      "Running Baseline Experiment\n",
      "Running Tasks Experiment\n",
      "Running Models Experiment\n",
      "Running Data Partitions Experiment\n",
      "is_good_loan logistic\n",
      "is_good_loan gbm\n",
      "is_good_loan nn\n",
      "is_good_loan svm\n",
      "is_good_loan tree\n",
      "is_high_credit logistic\n",
      "is_high_credit gbm\n",
      "is_high_credit nn\n",
      "is_high_credit svm\n"
     ]
    },
    {
     "name": "stderr",
     "output_type": "stream",
     "text": [
      "\n",
      " 20%|█████████                                    | 1/5 [00:06<00:27,  6.92s/it]\u001b[A"
     ]
    },
    {
     "name": "stdout",
     "output_type": "stream",
     "text": [
      "is_high_credit tree\n",
      "is_good_loan logistic\n",
      "is_good_loan gbm\n",
      "is_good_loan nn\n",
      "is_good_loan svm\n",
      "is_good_loan tree\n",
      "is_high_credit logistic\n",
      "is_high_credit gbm\n",
      "is_high_credit nn\n",
      "is_high_credit svm\n",
      "is_high_credit tree\n",
      "Running Baseline Experiment\n",
      "Running Tasks Experiment\n",
      "Running Models Experiment\n",
      "Running Data Partitions Experiment\n",
      "is_good_loan logistic\n",
      "is_good_loan gbm\n",
      "is_good_loan nn\n",
      "is_good_loan svm\n",
      "is_good_loan tree\n",
      "is_high_credit logistic\n",
      "is_high_credit gbm\n",
      "is_high_credit nn\n",
      "is_high_credit svm\n",
      "is_high_credit tree\n"
     ]
    },
    {
     "name": "stderr",
     "output_type": "stream",
     "text": [
      "\n",
      " 40%|██████████████████                           | 2/5 [00:13<00:20,  6.87s/it]\u001b[A"
     ]
    },
    {
     "name": "stdout",
     "output_type": "stream",
     "text": [
      "is_good_loan logistic\n",
      "is_good_loan gbm\n",
      "is_good_loan nn\n",
      "is_good_loan svm\n",
      "is_good_loan tree\n",
      "is_high_credit logistic\n",
      "is_high_credit gbm\n",
      "is_high_credit nn\n",
      "is_high_credit svm\n",
      "is_high_credit tree\n",
      "Running Baseline Experiment\n",
      "Running Tasks Experiment\n",
      "Running Models Experiment\n",
      "Running Data Partitions Experiment\n",
      "is_good_loan logistic\n",
      "is_good_loan gbm\n",
      "is_good_loan nn\n",
      "is_good_loan svm\n",
      "is_good_loan tree\n",
      "is_high_credit logistic\n",
      "is_high_credit gbm\n",
      "is_high_credit nn\n",
      "is_high_credit svm\n"
     ]
    },
    {
     "name": "stderr",
     "output_type": "stream",
     "text": [
      "\n",
      " 60%|███████████████████████████                  | 3/5 [00:20<00:13,  6.86s/it]\u001b[A"
     ]
    },
    {
     "name": "stdout",
     "output_type": "stream",
     "text": [
      "is_high_credit tree\n",
      "is_good_loan logistic\n",
      "is_good_loan gbm\n",
      "is_good_loan nn\n",
      "is_good_loan svm\n",
      "is_good_loan tree\n",
      "is_high_credit logistic\n",
      "is_high_credit gbm\n",
      "is_high_credit nn\n",
      "is_high_credit svm\n",
      "is_high_credit tree\n",
      "Running Baseline Experiment\n",
      "Running Tasks Experiment\n",
      "Running Models Experiment\n",
      "Running Data Partitions Experiment\n",
      "is_good_loan logistic\n",
      "is_good_loan gbm\n",
      "is_good_loan nn\n",
      "is_good_loan svm\n",
      "is_good_loan tree\n",
      "is_high_credit logistic\n",
      "is_high_credit gbm\n",
      "is_high_credit nn\n",
      "is_high_credit svm\n"
     ]
    },
    {
     "name": "stderr",
     "output_type": "stream",
     "text": [
      "\n",
      " 80%|████████████████████████████████████         | 4/5 [00:27<00:06,  6.85s/it]\u001b[A"
     ]
    },
    {
     "name": "stdout",
     "output_type": "stream",
     "text": [
      "is_high_credit tree\n",
      "is_good_loan logistic\n",
      "is_good_loan gbm\n",
      "is_good_loan nn\n",
      "is_good_loan svm\n",
      "is_good_loan tree\n",
      "is_high_credit logistic\n",
      "is_high_credit gbm\n",
      "is_high_credit nn\n",
      "is_high_credit svm\n",
      "is_high_credit tree\n",
      "Running Baseline Experiment\n",
      "Running Tasks Experiment\n",
      "Running Models Experiment\n",
      "Running Data Partitions Experiment\n",
      "is_good_loan logistic\n",
      "is_good_loan gbm\n",
      "is_good_loan nn\n",
      "is_good_loan svm\n",
      "is_good_loan tree\n",
      "is_high_credit logistic\n",
      "is_high_credit gbm\n",
      "is_high_credit nn\n",
      "is_high_credit svm\n"
     ]
    },
    {
     "name": "stderr",
     "output_type": "stream",
     "text": [
      "\n",
      "100%|█████████████████████████████████████████████| 5/5 [00:34<00:00,  6.88s/it]\u001b[A\n",
      " 67%|██████████████████████████████               | 6/9 [03:17<01:40, 33.40s/it]"
     ]
    },
    {
     "name": "stdout",
     "output_type": "stream",
     "text": [
      "is_high_credit tree\n"
     ]
    },
    {
     "name": "stderr",
     "output_type": "stream",
     "text": [
      "\n",
      "  0%|                                                     | 0/5 [00:00<?, ?it/s]\u001b[A"
     ]
    },
    {
     "name": "stdout",
     "output_type": "stream",
     "text": [
      "is_good_loan logistic\n",
      "is_good_loan gbm\n",
      "is_good_loan nn\n",
      "is_good_loan svm\n",
      "is_good_loan tree\n",
      "is_high_credit logistic\n",
      "is_high_credit gbm\n",
      "is_high_credit nn\n",
      "is_high_credit svm\n",
      "is_high_credit tree\n",
      "Running Baseline Experiment\n",
      "Running Tasks Experiment\n",
      "Running Models Experiment\n",
      "Running Data Partitions Experiment\n",
      "is_good_loan logistic\n",
      "is_good_loan gbm\n",
      "is_good_loan nn\n",
      "is_good_loan svm\n",
      "is_good_loan tree\n",
      "is_high_credit logistic\n",
      "is_high_credit gbm\n",
      "is_high_credit nn\n",
      "is_high_credit svm\n",
      "is_high_credit tree\n"
     ]
    },
    {
     "name": "stderr",
     "output_type": "stream",
     "text": [
      "\n",
      " 20%|█████████                                    | 1/5 [00:06<00:26,  6.59s/it]\u001b[A"
     ]
    },
    {
     "name": "stdout",
     "output_type": "stream",
     "text": [
      "is_good_loan logistic\n",
      "is_good_loan gbm\n",
      "is_good_loan nn\n",
      "is_good_loan svm\n",
      "is_good_loan tree\n",
      "is_high_credit logistic\n",
      "is_high_credit gbm\n",
      "is_high_credit nn\n",
      "is_high_credit svm\n",
      "is_high_credit tree\n",
      "Running Baseline Experiment\n",
      "Running Tasks Experiment\n",
      "Running Models Experiment\n",
      "Running Data Partitions Experiment\n",
      "is_good_loan logistic\n",
      "is_good_loan gbm\n",
      "is_good_loan nn\n",
      "is_good_loan svm\n",
      "is_good_loan tree\n",
      "is_high_credit logistic\n",
      "is_high_credit gbm\n",
      "is_high_credit nn\n",
      "is_high_credit svm\n"
     ]
    },
    {
     "name": "stderr",
     "output_type": "stream",
     "text": [
      "\n",
      " 40%|██████████████████                           | 2/5 [00:13<00:19,  6.55s/it]\u001b[A"
     ]
    },
    {
     "name": "stdout",
     "output_type": "stream",
     "text": [
      "is_high_credit tree\n",
      "is_good_loan logistic\n",
      "is_good_loan gbm\n",
      "is_good_loan nn\n",
      "is_good_loan svm\n",
      "is_good_loan tree\n",
      "is_high_credit logistic\n",
      "is_high_credit gbm\n",
      "is_high_credit nn\n",
      "is_high_credit svm\n",
      "is_high_credit tree\n",
      "Running Baseline Experiment\n",
      "Running Tasks Experiment\n",
      "Running Models Experiment\n",
      "Running Data Partitions Experiment\n",
      "is_good_loan logistic\n",
      "is_good_loan gbm\n",
      "is_good_loan nn\n",
      "is_good_loan svm\n",
      "is_good_loan tree\n",
      "is_high_credit logistic\n",
      "is_high_credit gbm\n",
      "is_high_credit nn\n",
      "is_high_credit svm\n",
      "is_high_credit tree\n"
     ]
    },
    {
     "name": "stderr",
     "output_type": "stream",
     "text": [
      "\n",
      " 60%|███████████████████████████                  | 3/5 [00:19<00:12,  6.50s/it]\u001b[A"
     ]
    },
    {
     "name": "stdout",
     "output_type": "stream",
     "text": [
      "is_good_loan logistic\n",
      "is_good_loan gbm\n",
      "is_good_loan nn\n",
      "is_good_loan svm\n",
      "is_good_loan tree\n",
      "is_high_credit logistic\n",
      "is_high_credit gbm\n",
      "is_high_credit nn\n",
      "is_high_credit svm\n",
      "is_high_credit tree\n",
      "Running Baseline Experiment\n",
      "Running Tasks Experiment\n",
      "Running Models Experiment\n",
      "Running Data Partitions Experiment\n",
      "is_good_loan logistic\n",
      "is_good_loan gbm\n",
      "is_good_loan nn\n",
      "is_good_loan svm\n",
      "is_good_loan tree\n",
      "is_high_credit logistic\n",
      "is_high_credit gbm\n",
      "is_high_credit nn\n",
      "is_high_credit svm\n",
      "is_high_credit tree\n"
     ]
    },
    {
     "name": "stderr",
     "output_type": "stream",
     "text": [
      "\n",
      " 80%|████████████████████████████████████         | 4/5 [00:25<00:06,  6.47s/it]\u001b[A"
     ]
    },
    {
     "name": "stdout",
     "output_type": "stream",
     "text": [
      "is_good_loan logistic\n",
      "is_good_loan gbm\n",
      "is_good_loan nn\n",
      "is_good_loan svm\n",
      "is_good_loan tree\n",
      "is_high_credit logistic\n",
      "is_high_credit gbm\n",
      "is_high_credit nn\n",
      "is_high_credit svm\n",
      "is_high_credit tree\n",
      "Running Baseline Experiment\n",
      "Running Tasks Experiment\n",
      "Running Models Experiment\n",
      "Running Data Partitions Experiment\n",
      "is_good_loan logistic\n",
      "is_good_loan gbm\n",
      "is_good_loan nn\n",
      "is_good_loan svm\n",
      "is_good_loan tree\n",
      "is_high_credit logistic\n",
      "is_high_credit gbm\n",
      "is_high_credit nn\n",
      "is_high_credit svm\n",
      "is_high_credit tree\n"
     ]
    },
    {
     "name": "stderr",
     "output_type": "stream",
     "text": [
      "\n",
      "100%|█████████████████████████████████████████████| 5/5 [00:32<00:00,  6.49s/it]\u001b[A\n",
      " 78%|███████████████████████████████████          | 7/9 [03:49<01:06, 33.09s/it]\n",
      "  0%|                                                     | 0/5 [00:00<?, ?it/s]\u001b[A"
     ]
    },
    {
     "name": "stdout",
     "output_type": "stream",
     "text": [
      "is_good_loan logistic\n",
      "is_good_loan gbm\n",
      "is_good_loan nn\n",
      "is_good_loan svm\n",
      "is_good_loan tree\n",
      "is_high_credit logistic\n",
      "is_high_credit gbm\n",
      "is_high_credit nn\n",
      "is_high_credit svm\n",
      "is_high_credit tree\n",
      "Running Baseline Experiment\n",
      "Running Tasks Experiment\n",
      "Running Models Experiment\n",
      "Running Data Partitions Experiment\n",
      "is_good_loan logistic\n",
      "is_good_loan gbm\n",
      "is_good_loan nn\n",
      "is_good_loan svm\n",
      "is_good_loan tree\n",
      "is_high_credit logistic\n",
      "is_high_credit gbm\n",
      "is_high_credit nn\n",
      "is_high_credit svm\n",
      "is_high_credit tree\n"
     ]
    },
    {
     "name": "stderr",
     "output_type": "stream",
     "text": [
      "\n",
      " 20%|█████████                                    | 1/5 [00:06<00:24,  6.14s/it]\u001b[A"
     ]
    },
    {
     "name": "stdout",
     "output_type": "stream",
     "text": [
      "is_good_loan logistic\n",
      "is_good_loan gbm\n",
      "is_good_loan nn\n",
      "is_good_loan svm\n",
      "is_good_loan tree\n",
      "is_high_credit logistic\n",
      "is_high_credit gbm\n",
      "is_high_credit nn\n",
      "is_high_credit svm\n",
      "is_high_credit tree\n",
      "Running Baseline Experiment\n",
      "Running Tasks Experiment\n",
      "Running Models Experiment\n",
      "Running Data Partitions Experiment\n",
      "is_good_loan logistic\n",
      "is_good_loan gbm\n",
      "is_good_loan nn\n",
      "is_good_loan svm\n",
      "is_good_loan tree\n",
      "is_high_credit logistic\n",
      "is_high_credit gbm\n",
      "is_high_credit nn\n",
      "is_high_credit svm\n",
      "is_high_credit tree\n"
     ]
    },
    {
     "name": "stderr",
     "output_type": "stream",
     "text": [
      "\n",
      " 40%|██████████████████                           | 2/5 [00:12<00:18,  6.11s/it]\u001b[A"
     ]
    },
    {
     "name": "stdout",
     "output_type": "stream",
     "text": [
      "is_good_loan logistic\n",
      "is_good_loan gbm\n",
      "is_good_loan nn\n",
      "is_good_loan svm\n",
      "is_good_loan tree\n",
      "is_high_credit logistic\n",
      "is_high_credit gbm\n",
      "is_high_credit nn\n",
      "is_high_credit svm\n",
      "is_high_credit tree\n",
      "Running Baseline Experiment\n",
      "Running Tasks Experiment\n",
      "Running Models Experiment\n",
      "Running Data Partitions Experiment\n",
      "is_good_loan logistic\n",
      "is_good_loan gbm\n",
      "is_good_loan nn\n",
      "is_good_loan svm\n",
      "is_good_loan tree\n",
      "is_high_credit logistic\n",
      "is_high_credit gbm\n",
      "is_high_credit nn\n",
      "is_high_credit svm\n",
      "is_high_credit tree\n"
     ]
    },
    {
     "name": "stderr",
     "output_type": "stream",
     "text": [
      "\n",
      " 60%|███████████████████████████                  | 3/5 [00:18<00:12,  6.12s/it]\u001b[A"
     ]
    },
    {
     "name": "stdout",
     "output_type": "stream",
     "text": [
      "is_good_loan logistic\n",
      "is_good_loan gbm\n",
      "is_good_loan nn\n",
      "is_good_loan svm\n",
      "is_good_loan tree\n",
      "is_high_credit logistic\n",
      "is_high_credit gbm\n",
      "is_high_credit nn\n",
      "is_high_credit svm\n",
      "is_high_credit tree\n",
      "Running Baseline Experiment\n",
      "Running Tasks Experiment\n",
      "Running Models Experiment\n",
      "Running Data Partitions Experiment\n",
      "is_good_loan logistic\n",
      "is_good_loan gbm\n",
      "is_good_loan nn\n",
      "is_good_loan svm\n",
      "is_good_loan tree\n",
      "is_high_credit logistic\n",
      "is_high_credit gbm\n",
      "is_high_credit nn\n",
      "is_high_credit svm\n",
      "is_high_credit tree\n"
     ]
    },
    {
     "name": "stderr",
     "output_type": "stream",
     "text": [
      "\n",
      " 80%|████████████████████████████████████         | 4/5 [00:24<00:06,  6.10s/it]\u001b[A"
     ]
    },
    {
     "name": "stdout",
     "output_type": "stream",
     "text": [
      "is_good_loan logistic\n",
      "is_good_loan gbm\n",
      "is_good_loan nn\n",
      "is_good_loan svm\n",
      "is_good_loan tree\n",
      "is_high_credit logistic\n",
      "is_high_credit gbm\n",
      "is_high_credit nn\n",
      "is_high_credit svm\n",
      "is_high_credit tree\n",
      "Running Baseline Experiment\n",
      "Running Tasks Experiment\n",
      "Running Models Experiment\n",
      "Running Data Partitions Experiment\n",
      "is_good_loan logistic\n",
      "is_good_loan gbm\n",
      "is_good_loan nn\n",
      "is_good_loan svm\n",
      "is_good_loan tree\n",
      "is_high_credit logistic\n",
      "is_high_credit gbm\n",
      "is_high_credit nn\n",
      "is_high_credit svm\n",
      "is_high_credit tree\n"
     ]
    },
    {
     "name": "stderr",
     "output_type": "stream",
     "text": [
      "\n",
      "100%|█████████████████████████████████████████████| 5/5 [00:30<00:00,  6.10s/it]\u001b[A\n",
      " 89%|████████████████████████████████████████     | 8/9 [04:20<00:32, 32.27s/it]\n",
      "  0%|                                                     | 0/5 [00:00<?, ?it/s]\u001b[A"
     ]
    },
    {
     "name": "stdout",
     "output_type": "stream",
     "text": [
      "is_good_loan logistic\n",
      "is_good_loan gbm\n",
      "is_good_loan nn\n",
      "is_good_loan svm\n",
      "is_good_loan tree\n",
      "is_high_credit logistic\n",
      "is_high_credit gbm\n",
      "is_high_credit nn\n",
      "is_high_credit svm\n",
      "is_high_credit tree\n",
      "Running Baseline Experiment\n",
      "Running Tasks Experiment\n",
      "Running Models Experiment\n",
      "Running Data Partitions Experiment\n",
      "is_good_loan logistic\n",
      "is_good_loan gbm\n",
      "is_good_loan nn\n",
      "is_good_loan svm\n",
      "is_good_loan tree\n",
      "is_high_credit logistic\n",
      "is_high_credit gbm\n",
      "is_high_credit nn\n",
      "is_high_credit svm\n"
     ]
    },
    {
     "name": "stderr",
     "output_type": "stream",
     "text": [
      "\n",
      " 20%|█████████                                    | 1/5 [00:05<00:23,  5.80s/it]\u001b[A"
     ]
    },
    {
     "name": "stdout",
     "output_type": "stream",
     "text": [
      "is_high_credit tree\n",
      "is_good_loan logistic\n",
      "is_good_loan gbm\n",
      "is_good_loan nn\n",
      "is_good_loan svm\n",
      "is_good_loan tree\n",
      "is_high_credit logistic\n",
      "is_high_credit gbm\n",
      "is_high_credit nn\n",
      "is_high_credit svm\n",
      "is_high_credit tree\n",
      "Running Baseline Experiment\n",
      "Running Tasks Experiment\n",
      "Running Models Experiment\n",
      "Running Data Partitions Experiment\n",
      "is_good_loan logistic\n",
      "is_good_loan gbm\n",
      "is_good_loan nn\n",
      "is_good_loan svm\n",
      "is_good_loan tree\n",
      "is_high_credit logistic\n",
      "is_high_credit gbm\n",
      "is_high_credit nn\n",
      "is_high_credit svm\n",
      "is_high_credit tree\n"
     ]
    },
    {
     "name": "stderr",
     "output_type": "stream",
     "text": [
      "\n",
      " 40%|██████████████████                           | 2/5 [00:11<00:17,  5.83s/it]\u001b[A"
     ]
    },
    {
     "name": "stdout",
     "output_type": "stream",
     "text": [
      "is_good_loan logistic\n",
      "is_good_loan gbm\n",
      "is_good_loan nn\n",
      "is_good_loan svm\n",
      "is_good_loan tree\n",
      "is_high_credit logistic\n",
      "is_high_credit gbm\n",
      "is_high_credit nn\n",
      "is_high_credit svm\n",
      "is_high_credit tree\n",
      "Running Baseline Experiment\n",
      "Running Tasks Experiment\n",
      "Running Models Experiment\n",
      "Running Data Partitions Experiment\n",
      "is_good_loan logistic\n",
      "is_good_loan gbm\n",
      "is_good_loan nn\n",
      "is_good_loan svm\n",
      "is_good_loan tree\n",
      "is_high_credit logistic\n",
      "is_high_credit gbm\n",
      "is_high_credit nn\n",
      "is_high_credit svm\n"
     ]
    },
    {
     "name": "stderr",
     "output_type": "stream",
     "text": [
      "\n",
      " 60%|███████████████████████████                  | 3/5 [00:17<00:11,  5.83s/it]\u001b[A"
     ]
    },
    {
     "name": "stdout",
     "output_type": "stream",
     "text": [
      "is_high_credit tree\n",
      "is_good_loan logistic\n",
      "is_good_loan gbm\n",
      "is_good_loan nn\n",
      "is_good_loan svm\n",
      "is_good_loan tree\n",
      "is_high_credit logistic\n",
      "is_high_credit gbm\n",
      "is_high_credit nn\n",
      "is_high_credit svm\n",
      "is_high_credit tree\n",
      "Running Baseline Experiment\n",
      "Running Tasks Experiment\n",
      "Running Models Experiment\n",
      "Running Data Partitions Experiment\n",
      "is_good_loan logistic\n",
      "is_good_loan gbm\n",
      "is_good_loan nn\n",
      "is_good_loan svm\n",
      "is_good_loan tree\n",
      "is_high_credit logistic\n",
      "is_high_credit gbm\n",
      "is_high_credit nn\n",
      "is_high_credit svm\n"
     ]
    },
    {
     "name": "stderr",
     "output_type": "stream",
     "text": [
      "\n",
      " 80%|████████████████████████████████████         | 4/5 [00:23<00:05,  5.85s/it]\u001b[A"
     ]
    },
    {
     "name": "stdout",
     "output_type": "stream",
     "text": [
      "is_high_credit tree\n",
      "is_good_loan logistic\n",
      "is_good_loan gbm\n",
      "is_good_loan nn\n",
      "is_good_loan svm\n",
      "is_good_loan tree\n",
      "is_high_credit logistic\n",
      "is_high_credit gbm\n",
      "is_high_credit nn\n",
      "is_high_credit svm\n",
      "is_high_credit tree\n",
      "Running Baseline Experiment\n",
      "Running Tasks Experiment\n",
      "Running Models Experiment\n",
      "Running Data Partitions Experiment\n",
      "is_good_loan logistic\n",
      "is_good_loan gbm\n",
      "is_good_loan nn\n",
      "is_good_loan svm\n",
      "is_good_loan tree\n",
      "is_high_credit logistic\n",
      "is_high_credit gbm\n",
      "is_high_credit nn\n",
      "is_high_credit svm\n"
     ]
    },
    {
     "name": "stderr",
     "output_type": "stream",
     "text": [
      "\n",
      "100%|█████████████████████████████████████████████| 5/5 [00:29<00:00,  5.83s/it]\u001b[A\n",
      "100%|█████████████████████████████████████████████| 9/9 [04:49<00:00, 32.17s/it]"
     ]
    },
    {
     "name": "stdout",
     "output_type": "stream",
     "text": [
      "is_high_credit tree\n"
     ]
    },
    {
     "name": "stderr",
     "output_type": "stream",
     "text": [
      "\n"
     ]
    }
   ],
   "source": [
    "random_thresholds = [0, 0.05, 0.1, 0.2, 0.3, 0.4]\n",
    "data_scales = [10, 9, 8, 7, 6, 5, 4, 3, 2]\n",
    "random_seeds = [0,3,4,5,6]\n",
    "\n",
    "results = []\n",
    "conformal_pred = True\n",
    "\n",
    "for data_scale in tqdm(data_scales):\n",
    "    for random_seed in tqdm(random_seeds):\n",
    "        exp = Experiment(df, features, protected_attribute, task_types,\n",
    "                             model_types, random_thresholds, n_train, n_test, random_seed, data_scale, conformal_pred)\n",
    "\n",
    "        exp.pretrain_models()\n",
    "        results.append(exp.experiment_baseline())\n",
    "        results.append(exp.experiment_tasks())\n",
    "        results.append(exp.experiment_models())\n",
    "        \n",
    "        results.append(exp.experiment_partitions(min(5, data_scale)))\n",
    "results = pd.concat(results)\n",
    "results.to_csv(\"german_credit_results_conformal.csv\", index=False)"
   ]
  },
  {
   "cell_type": "code",
   "execution_count": null,
   "id": "1a1e46f1",
   "metadata": {},
   "outputs": [],
   "source": []
  }
 ],
 "metadata": {
  "kernelspec": {
   "display_name": "Python 3 (ipykernel)",
   "language": "python",
   "name": "python3"
  },
  "language_info": {
   "codemirror_mode": {
    "name": "ipython",
    "version": 3
   },
   "file_extension": ".py",
   "mimetype": "text/x-python",
   "name": "python",
   "nbconvert_exporter": "python",
   "pygments_lexer": "ipython3",
   "version": "3.10.9"
  }
 },
 "nbformat": 4,
 "nbformat_minor": 5
}
